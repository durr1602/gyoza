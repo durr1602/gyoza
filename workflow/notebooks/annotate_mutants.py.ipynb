{
 "cells": [
  {
   "cell_type": "markdown",
   "id": "9bf87600-30e4-4e12-9084-7d92abf7255f",
   "metadata": {},
   "source": [
    "# Notebook to format sample layout with annotated expected mutants"
   ]
  },
  {
   "cell_type": "markdown",
   "id": "ce80fc8b-12de-4616-9110-171f7d0ddf63",
   "metadata": {},
   "source": [
    "This notebook takes as input a dataframe containing all expected mutants for each mutated locus. It annotates said mutants and merges the result to the sample layout."
   ]
  },
  {
   "cell_type": "markdown",
   "id": "cfcbc7fe-51e0-428a-a6df-d2b9a19b6b8a",
   "metadata": {},
   "source": [
    "## Import libraries"
   ]
  },
  {
   "cell_type": "code",
   "execution_count": null,
   "id": "a78ea8ef-a248-445b-bc11-35decb65d62e",
   "metadata": {},
   "outputs": [],
   "source": [
    "import pandas as pd"
   ]
  },
  {
   "cell_type": "markdown",
   "id": "654c6b40-ab98-4cf1-9742-4e57cbc76d7f",
   "metadata": {},
   "source": [
    "## Specify paths"
   ]
  },
  {
   "cell_type": "code",
   "execution_count": null,
   "id": "f7101569-1a80-4dab-bd2f-e9e75a787721",
   "metadata": {},
   "outputs": [],
   "source": [
    "# Note, I used to import config entries as \"params\" (i.e. listed in the params statement of the rule), but...\n",
    "# a bug led to params not being imported.. (snakemake object is imported but not the params attribute)\n",
    "# Therefore, now I will import all config entries directly from the snakemake object\n",
    "layout_path = (\n",
    "    snakemake.input.layout  # Projet-specific file containing the sample layout\n",
    ")\n",
    "exp_mut_path = (\n",
    "    snakemake.input.exp_mut  # Projet-specific file containing the expected mutated sequences\n",
    ")\n",
    "codon_table_path = snakemake.config[\"codon\"][\n",
    "    \"table\"  # Projet-specific file containing the genetic code\n",
    "]\n",
    "output_file = snakemake.output[0]"
   ]
  },
  {
   "cell_type": "markdown",
   "id": "31a17b78-a437-43fb-8ebe-808bcf7fbeae",
   "metadata": {},
   "source": [
    "## Import codon table"
   ]
  },
  {
   "cell_type": "code",
   "execution_count": null,
   "id": "46668ffd-3ed3-48cc-96fc-5625d7e84658",
   "metadata": {},
   "outputs": [],
   "source": [
    "codon_table = pd.read_csv(codon_table_path, header=0)\n",
    "codon_table[\"codon\"] = codon_table[\"codon\"].str.upper()\n",
    "codon_table.head(3)"
   ]
  },
  {
   "cell_type": "code",
   "execution_count": null,
   "id": "6c76bc58-a771-4d68-8b29-069f9c43bc8f",
   "metadata": {},
   "outputs": [],
   "source": [
    "# Convert to dictionary\n",
    "codon_dic = dict(zip(codon_table[\"codon\"], codon_table[\"aminoacid\"]))"
   ]
  },
  {
   "cell_type": "markdown",
   "id": "672ca0c2-55f3-4768-a8d8-6f43d3151459",
   "metadata": {},
   "source": [
    "## Define and test functions"
   ]
  },
  {
   "cell_type": "code",
   "execution_count": null,
   "id": "c3bef4b0-6027-47c5-a554-62dedf918747",
   "metadata": {},
   "outputs": [],
   "source": [
    "def get_aa_seq(seq, codon_dic):\n",
    "\n",
    "    if len(seq) % 3 != 0:\n",
    "        raise Exception(\n",
    "            f\"Error.. the length of the provided wild-type DNA sequence is not a multiple of 3.\"\n",
    "        )\n",
    "\n",
    "    for x in set(seq):\n",
    "        if x not in [\"A\", \"C\", \"G\", \"T\"]:\n",
    "            raise Exception(\n",
    "                f\"Error.. one of the provided nucleotide sequences contains an unrecognized character.\"\n",
    "            )\n",
    "\n",
    "    clist = [\n",
    "        seq[i : i + 3]\n",
    "        for i in range(0, len(seq), 3)  # Convert nucleotide sequence to list of codons\n",
    "    ]\n",
    "\n",
    "    return \"\".join([codon_dic[x] for x in clist])"
   ]
  },
  {
   "cell_type": "code",
   "execution_count": null,
   "id": "5387b45f-dfb2-4e88-8239-b9eb122f3048",
   "metadata": {},
   "outputs": [],
   "source": [
    "get_aa_seq(\"TTCCCTTAA\", codon_dic)"
   ]
  },
  {
   "cell_type": "code",
   "execution_count": null,
   "id": "ce39c634-8eb8-4715-b3af-c1642e549b79",
   "metadata": {},
   "outputs": [],
   "source": [
    "def get_mutations(seq, wt, codon_dict):\n",
    "    \"\"\"\n",
    "    By comparing a mutated DNA sequence to the wild-type sequence,\n",
    "    this function returns the mutations (if there are any).\n",
    "    Mutations are formatted as # mutated codon / position / alternative codon / alternative amino acid\n",
    "    in lists with matching indexes to be able to quickly convert to 1 row per mutation per mutated codon\n",
    "    The alternative and corresponding wild-type codons are translated into their corresponding amino acid using the provided codon table dictionary\n",
    "    From there, we also calculate the Hamming distances in codons, nucleotides and amino acids.\n",
    "    \"\"\"\n",
    "    if len(seq) != len(wt):\n",
    "        raise ValueError(\n",
    "            f\"Error.. Cannot annotate expected mutants because at least one sequence is of different length than wild-type.\"\n",
    "        )\n",
    "\n",
    "    is_wt = seq == wt\n",
    "\n",
    "    list_alt_pos, list_alt_cod, list_alt_aa = [], [], []\n",
    "    Nham_nt = 0\n",
    "    Nham_aa = 0\n",
    "\n",
    "    wt_codons = [\n",
    "        wt[i : i + 3]\n",
    "        for i in range(\n",
    "            0, len(wt), 3\n",
    "        )  # Converting WT nucleotide sequence to list of codons\n",
    "    ]\n",
    "    seq_codons = [\n",
    "        seq[i : i + 3]\n",
    "        for i in range(\n",
    "            0, len(seq), 3\n",
    "        )  # Converting nucleotide sequence of variant to list of codons\n",
    "    ]\n",
    "\n",
    "    for i, (wtc, c) in enumerate(zip(wt_codons, seq_codons)):  # Loop through codons\n",
    "        alt_aa = codon_dic.get(c)\n",
    "        wt_aa = codon_dic.get(wtc)\n",
    "        if c != wtc:\n",
    "            list_alt_pos.append(i)\n",
    "            list_alt_cod.append(c)\n",
    "            list_alt_aa.append(alt_aa)\n",
    "            Nham_nt += (wtc != c) * sum(\n",
    "                x != y for x, y in zip(wtc, c)  # Calls zip only when codons differ\n",
    "            )\n",
    "            if alt_aa != wt_aa:\n",
    "                Nham_aa += 1\n",
    "\n",
    "    Nham_codons = len(list_alt_pos)\n",
    "\n",
    "    if Nham_codons > 0:\n",
    "        mut_codons = list(range(1, Nham_codons + 1))\n",
    "    else:\n",
    "        mut_codons = [0]\n",
    "        list_alt_pos = [\"not-applicable\"]\n",
    "        list_alt_cod = [\"not-applicable\"]\n",
    "        list_alt_aa = [\"not-applicable\"]\n",
    "\n",
    "    return (\n",
    "        is_wt,\n",
    "        Nham_codons,\n",
    "        Nham_nt,\n",
    "        Nham_aa,\n",
    "        mut_codons,\n",
    "        list_alt_pos,\n",
    "        list_alt_cod,\n",
    "        list_alt_aa,\n",
    "    )"
   ]
  },
  {
   "cell_type": "code",
   "execution_count": null,
   "id": "58b87caf-8f18-4243-841d-162e4a8579eb",
   "metadata": {},
   "outputs": [],
   "source": [
    "get_mutations(\"TTCCCTTTA\", \"TTCCTATTA\", codon_dic)"
   ]
  },
  {
   "cell_type": "markdown",
   "id": "346f6370-13b3-4718-805c-19a05eb3bd22",
   "metadata": {},
   "source": [
    "## Import expected mutants"
   ]
  },
  {
   "cell_type": "code",
   "execution_count": null,
   "id": "3800c9bf-82d9-40ef-a54e-3fe5cbf9be10",
   "metadata": {},
   "outputs": [],
   "source": [
    "exp_mut = pd.read_csv(exp_mut_path)\n",
    "for x in [y for y in exp_mut.columns if y in [\"WT_seq\", \"nt_seq\", \"barcode\"]]:\n",
    "    exp_mut[x] = exp_mut[x].str.upper()\n",
    "exp_mut"
   ]
  },
  {
   "cell_type": "markdown",
   "id": "2088778c-4e4f-438e-aab0-9bc02bf99d1b",
   "metadata": {},
   "source": [
    "## Translate nucleotide sequences into amino acid sequences"
   ]
  },
  {
   "cell_type": "code",
   "execution_count": null,
   "id": "b784719d-6943-4ebe-a1ac-c67e50c9beaa",
   "metadata": {},
   "outputs": [],
   "source": [
    "exp_mut[\"aa_seq\"] = exp_mut.nt_seq.apply(lambda x: get_aa_seq(x, codon_dic))"
   ]
  },
  {
   "cell_type": "markdown",
   "id": "bdaf71d3-8485-4a1f-b158-de7279f9b21b",
   "metadata": {},
   "source": [
    "## Get mutations by comparing sequences to WT"
   ]
  },
  {
   "cell_type": "code",
   "execution_count": null,
   "id": "cf955684-60c1-4878-b9d6-14e81ac1e93e",
   "metadata": {},
   "outputs": [],
   "source": [
    "per_seq_cols = [\"WT\", \"Nham_codons\", \"Nham_nt\", \"Nham_aa\"]\n",
    "per_mut_cols = [\"mutated_codon\", \"pos\", \"alt_codons\", \"alt_aa\"]\n",
    "new_cols = per_seq_cols + per_mut_cols\n",
    "collected_mutations = [\n",
    "    get_mutations(seq, wt, codon_dic)\n",
    "    for seq, wt in zip(exp_mut[\"nt_seq\"], exp_mut[\"WT_seq\"])\n",
    "]\n",
    "mutations_dict = dict(zip(new_cols, zip(*collected_mutations)))\n",
    "exp_mut = exp_mut.assign(**mutations_dict)\n",
    "exp_mut"
   ]
  },
  {
   "cell_type": "code",
   "execution_count": null,
   "id": "bdbbc77d-cea5-4cff-b358-f9728d3ffc8c",
   "metadata": {},
   "outputs": [],
   "source": [
    "exp_mut_long = exp_mut.explode(per_mut_cols).reset_index(drop=True)\n",
    "exp_mut_long"
   ]
  },
  {
   "cell_type": "markdown",
   "id": "1c287b80-41c7-4e6c-95ab-b70f82b21c9d",
   "metadata": {},
   "source": [
    "## Import layout"
   ]
  },
  {
   "cell_type": "code",
   "execution_count": null,
   "id": "13a4705d-eb97-48c6-984c-05d7c0b1b8ba",
   "metadata": {},
   "outputs": [],
   "source": [
    "layout = pd.read_csv(layout_path)\n",
    "layout"
   ]
  },
  {
   "cell_type": "markdown",
   "id": "b6c3cd7d-517c-4c7c-b2ac-afe98c37f3db",
   "metadata": {},
   "source": [
    "## Merge onto layout"
   ]
  },
  {
   "cell_type": "code",
   "execution_count": null,
   "id": "1d2e50c4-78a5-499d-8b6c-b9ea97b879c5",
   "metadata": {},
   "outputs": [],
   "source": [
    "withSeqs = layout.drop([\"R1\", \"R2\", \"N_forward\", \"N_reverse\"], axis=1).merge(\n",
    "    right=exp_mut_long.drop(\"WT_seq\", axis=1), on=\"Mutated_seq\"\n",
    ")\n",
    "withSeqs"
   ]
  },
  {
   "cell_type": "markdown",
   "id": "2383d003-09d5-451e-a3f8-8d6fc94ef1db",
   "metadata": {},
   "source": [
    "## Add position offset"
   ]
  },
  {
   "cell_type": "code",
   "execution_count": null,
   "id": "13c966da-386c-4f8c-af62-cdb99ae2a91a",
   "metadata": {},
   "outputs": [],
   "source": [
    "withSeqs[\"aa_pos\"] = withSeqs.apply(\n",
    "    lambda row: (\n",
    "        row.pos + row.Pos_start if row.pos != \"not-applicable\" else \"not-applicable\"\n",
    "    ),\n",
    "    axis=1,\n",
    ")\n",
    "withSeqs"
   ]
  },
  {
   "cell_type": "code",
   "execution_count": null,
   "id": "2ef8d079-9055-4dcc-b1f4-5bb4bc86cecd",
   "metadata": {},
   "outputs": [],
   "source": [
    "withSeqs.to_csv(output_file)"
   ]
  },
  {
   "cell_type": "code",
   "execution_count": null,
   "id": "99462113-8c38-4da3-a292-ee9732942ced",
   "metadata": {},
   "outputs": [],
   "source": []
  }
 ],
 "metadata": {
  "kernelspec": {
   "display_name": "Python 3 (ipykernel)",
   "language": "python",
   "name": "python3"
  },
  "language_info": {
   "codemirror_mode": {
    "name": "ipython",
    "version": 3
   },
   "file_extension": ".py",
   "mimetype": "text/x-python",
   "name": "python",
   "nbconvert_exporter": "python",
   "pygments_lexer": "ipython3",
   "version": "3.11.10"
  }
 },
 "nbformat": 4,
 "nbformat_minor": 5
}
