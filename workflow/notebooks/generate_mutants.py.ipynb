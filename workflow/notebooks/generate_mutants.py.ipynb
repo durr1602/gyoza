{
 "cells": [
  {
   "cell_type": "markdown",
   "id": "9bf87600-30e4-4e12-9084-7d92abf7255f",
   "metadata": {},
   "source": [
    "# Notebook to format sample layout by generating all expected mutants"
   ]
  },
  {
   "cell_type": "markdown",
   "id": "cfcbc7fe-51e0-428a-a6df-d2b9a19b6b8a",
   "metadata": {},
   "source": [
    "## Import libraries"
   ]
  },
  {
   "cell_type": "code",
   "execution_count": null,
   "id": "a78ea8ef-a248-445b-bc11-35decb65d62e",
   "metadata": {},
   "outputs": [],
   "source": [
    "import pandas as pd"
   ]
  },
  {
   "cell_type": "markdown",
   "id": "654c6b40-ab98-4cf1-9742-4e57cbc76d7f",
   "metadata": {},
   "source": [
    "## Specify paths"
   ]
  },
  {
   "cell_type": "code",
   "execution_count": null,
   "id": "f7101569-1a80-4dab-bd2f-e9e75a787721",
   "metadata": {},
   "outputs": [],
   "source": [
    "layout_path = snakemake.params.layout\n",
    "frag_seq_path = snakemake.params.seqs\n",
    "codon_table_path = snakemake.params.codon_table\n",
    "codon_mode = snakemake.params.codon_mode\n",
    "output_file = snakemake.output[0]"
   ]
  },
  {
   "cell_type": "markdown",
   "id": "31a17b78-a437-43fb-8ebe-808bcf7fbeae",
   "metadata": {},
   "source": [
    "## Import codon table"
   ]
  },
  {
   "cell_type": "code",
   "execution_count": null,
   "id": "46668ffd-3ed3-48cc-96fc-5625d7e84658",
   "metadata": {},
   "outputs": [],
   "source": [
    "codon_table = pd.read_csv(codon_table_path, header=0)\n",
    "codon_table['codon'] = codon_table['codon'].str.upper()\n",
    "codon_table.head(3)"
   ]
  },
  {
   "cell_type": "code",
   "execution_count": null,
   "id": "6c76bc58-a771-4d68-8b29-069f9c43bc8f",
   "metadata": {},
   "outputs": [],
   "source": [
    "# Convert to dictionary\n",
    "codon_dic = dict(zip(codon_table['codon'], codon_table['aminoacid']))"
   ]
  },
  {
   "cell_type": "markdown",
   "id": "672ca0c2-55f3-4768-a8d8-6f43d3151459",
   "metadata": {},
   "source": [
    "## Define and test functions"
   ]
  },
  {
   "cell_type": "code",
   "execution_count": null,
   "id": "a962d81f-1c2d-40ab-aa31-70e499e061dc",
   "metadata": {},
   "outputs": [],
   "source": [
    "def get_alt_codons(seq, codon_dic, mode='NNN'):\n",
    "    '''\n",
    "    Based on a DNA sequence, the function returns two lists:\n",
    "    1) A list containing all 0-based amino acid positions for the sequence\n",
    "    2) A list containing all possible alternative codons (other than WT codon) at the matching positions\n",
    "    For list 2, the mode defines which codons are acceptable: NNN by default, or NNK\n",
    "    Codons are fetched in the provided codon table (dictionary)\n",
    "    '''\n",
    "    \n",
    "    if mode=='NNN':\n",
    "        alt = [x for x in codon_dic.keys()]\n",
    "    elif mode=='NNK':\n",
    "        alt = [x for x in codon_dic.keys() if x[2] in ['G', 'T']]\n",
    "    else:\n",
    "        print('Pleae specify a correct mode: either NNN or NNK')\n",
    "    \n",
    "    pos_l = []\n",
    "    var_l = []\n",
    "\n",
    "    for i in range(0,len(seq),3):\n",
    "        list_var = [x for x in alt if x != seq[i:i+3]]\n",
    "        pos_l.append(i//3) # 0-based position (aa)\n",
    "        var_l.append(list_var) # list of possible codons other than WT\n",
    "    \n",
    "    return pos_l, var_l"
   ]
  },
  {
   "cell_type": "code",
   "execution_count": null,
   "id": "221889ec-367a-4ebe-bd94-318dbbe50d73",
   "metadata": {},
   "outputs": [],
   "source": [
    "print(get_alt_codons('TCTCCTGTT', codon_dic, 'NNN'))"
   ]
  },
  {
   "cell_type": "code",
   "execution_count": null,
   "id": "e181db24-7461-4d2c-b16f-a7f8cc0ad700",
   "metadata": {},
   "outputs": [],
   "source": [
    "def get_nt_seq(seq, mut_dic):\n",
    "    list_codons = [seq[i:i+3] for i in range(0, len(seq), 3)] # Convert nucleotide sequence to list of codons\n",
    "    seq_l = [mut_dic[a] if a in mut_dic.keys() else wtcodon for a, wtcodon in enumerate(list_codons)]\n",
    "    return ''.join(seq_l)"
   ]
  },
  {
   "cell_type": "code",
   "execution_count": null,
   "id": "c5f8d9cc-21b5-44fd-bec2-f64471158da5",
   "metadata": {},
   "outputs": [],
   "source": [
    "get_nt_seq('TCTCCTGTT', {0: 'TTC', 2:'TTA'})"
   ]
  },
  {
   "cell_type": "code",
   "execution_count": null,
   "id": "c3bef4b0-6027-47c5-a554-62dedf918747",
   "metadata": {},
   "outputs": [],
   "source": [
    "def get_aa_seq(seq, codon_dic):\n",
    "    if len(seq)%3 == 0:\n",
    "        clist = [seq[i:i+3] for i in range(0, len(seq), 3)] # Converting nucleotide sequence to list of codons\n",
    "        return ''.join([codon_dic[x] for x in clist])\n",
    "    else:\n",
    "        statement = f\"Warning.. the length of the provided wild-type DNA sequence is not a multiple of 3.\"\n",
    "        warnings.warn(statement)"
   ]
  },
  {
   "cell_type": "code",
   "execution_count": null,
   "id": "5387b45f-dfb2-4e88-8239-b9eb122f3048",
   "metadata": {},
   "outputs": [],
   "source": [
    "get_aa_seq('TTCCCTTTA', codon_dic)"
   ]
  },
  {
   "cell_type": "code",
   "execution_count": null,
   "id": "f3aff9cb-cd0f-4c43-bfea-94f2e307366f",
   "metadata": {},
   "outputs": [],
   "source": [
    "def get_Hamming_distances(wt, alt_aaseq, pos, alt_c, alt_aa):\n",
    "    '''\n",
    "    Based on the WT DNA sequence and corresponding amino acid sequence,\n",
    "    return Hamming distances in nucleotides, codons and amino acids of mutation\n",
    "    Mutation is defined by an alternative codon, potentially resulting in an alternative amino acid at a given position\n",
    "    '''\n",
    "    import numpy as np\n",
    "    \n",
    "    # Test if WT DNA sequence\n",
    "    if 'non-applicable' in [pos, alt_c, alt_aa]:\n",
    "        Nham_nt, Nham_a = 0, 0\n",
    "    else:\n",
    "        Nham_c = 1\n",
    "        pos = int(pos)\n",
    "        \n",
    "        #Retrieve WT codon and WT aa\n",
    "        wtc = wt[pos*3:(pos+1)*3]\n",
    "        wta = alt_aaseq[pos]\n",
    "    \n",
    "        # Hamming distance in amino acids\n",
    "        if alt_aa == wta:\n",
    "            Nham_a = 0\n",
    "        else:\n",
    "            Nham_a = 1\n",
    "        \n",
    "        # Hamming distance in nucleotides\n",
    "        Nham_nt = sum(1 for x,y in zip(wtc, alt_c) if x != y)\n",
    "    \n",
    "    return Nham_nt, Nham_a"
   ]
  },
  {
   "cell_type": "code",
   "execution_count": null,
   "id": "d52b13b3-ee15-459f-a818-0b245b7145d2",
   "metadata": {},
   "outputs": [],
   "source": [
    "get_Hamming_distances('TTCCCTTTA', 'FPL', 1, 'CTA', codon_dic['CTA'])"
   ]
  },
  {
   "cell_type": "code",
   "execution_count": null,
   "id": "5dda8a1f-b640-4bed-9d95-c038903f1716",
   "metadata": {},
   "outputs": [],
   "source": [
    "get_Hamming_distances('TTCCCTTTA', 'FPL', 1, 'CCC', codon_dic['CCC'])"
   ]
  },
  {
   "cell_type": "markdown",
   "id": "1c287b80-41c7-4e6c-95ab-b70f82b21c9d",
   "metadata": {},
   "source": [
    "## Import layout and sequences"
   ]
  },
  {
   "cell_type": "code",
   "execution_count": null,
   "id": "13a4705d-eb97-48c6-984c-05d7c0b1b8ba",
   "metadata": {},
   "outputs": [],
   "source": [
    "layout = pd.read_csv(layout_path)\n",
    "layout"
   ]
  },
  {
   "cell_type": "code",
   "execution_count": null,
   "id": "03b44f10-9138-429e-9b86-a05ec51550a2",
   "metadata": {},
   "outputs": [],
   "source": [
    "frag_seq = pd.read_csv(frag_seq_path, sep='\\t')\n",
    "frag_seq['WT_aa'] = frag_seq.WT_seq.apply(lambda x: get_aa_seq(x, codon_dic))\n",
    "frag_seq"
   ]
  },
  {
   "cell_type": "code",
   "execution_count": null,
   "id": "1d2e50c4-78a5-499d-8b6c-b9ea97b879c5",
   "metadata": {},
   "outputs": [],
   "source": [
    "withSeqs = layout.drop(['R1','R2','N_forward','N_reverse'], axis=1).merge(right=frag_seq, on='Mutated_seq')\n",
    "withSeqs"
   ]
  },
  {
   "cell_type": "code",
   "execution_count": null,
   "id": "7f083cbf-c2f6-4bf0-8e69-cd012891d9e3",
   "metadata": {},
   "outputs": [],
   "source": [
    "WTdf = withSeqs.copy()\n",
    "WTdf['nt_seq'] = WTdf.WT_seq\n",
    "WTdf['WT'] = True\n",
    "for x in ['pos','aa_pos','alt_codons','alt_aa']:\n",
    "    WTdf[x] = 'non-applicable'\n",
    "WTdf"
   ]
  },
  {
   "cell_type": "markdown",
   "id": "2383d003-09d5-451e-a3f8-8d6fc94ef1db",
   "metadata": {},
   "source": [
    "## Generate expected variants"
   ]
  },
  {
   "cell_type": "code",
   "execution_count": null,
   "id": "6dcd674f-ae57-486d-9e3e-d27656059a11",
   "metadata": {},
   "outputs": [],
   "source": [
    "withSeqs['pos'], withSeqs['alt_codons'] = zip(*withSeqs.WT_seq.apply(lambda x: get_alt_codons(x, codon_dic, codon_mode)))\n",
    "withSeqs.head(2)"
   ]
  },
  {
   "cell_type": "code",
   "execution_count": null,
   "id": "b9388bbc-b5f8-4669-86fa-fd9a62fd9abd",
   "metadata": {},
   "outputs": [],
   "source": [
    "singles_compact = withSeqs.explode(['pos','alt_codons'])\n",
    "singles_compact.head(2)"
   ]
  },
  {
   "cell_type": "code",
   "execution_count": null,
   "id": "883693eb-c0f5-47ca-8321-db579695db0f",
   "metadata": {},
   "outputs": [],
   "source": [
    "singles_df = singles_compact.explode('alt_codons')\n",
    "singles_df"
   ]
  },
  {
   "cell_type": "code",
   "execution_count": null,
   "id": "d06027ad-f633-4d86-bdb9-b294c995036c",
   "metadata": {},
   "outputs": [],
   "source": [
    "singles_df['mutations'] = singles_df.apply(lambda row: {row[f'pos']: row[f'alt_codons']}, axis=1)\n",
    "singles_df"
   ]
  },
  {
   "cell_type": "code",
   "execution_count": null,
   "id": "39f78e95-714f-4878-a611-4da9b4ea898d",
   "metadata": {},
   "outputs": [],
   "source": [
    "singles_df['nt_seq'] = singles_df.apply(lambda row: get_nt_seq(row.WT_seq, row.mutations), axis=1)\n",
    "singles_df.drop(columns='mutations', inplace=True)\n",
    "singles_df"
   ]
  },
  {
   "cell_type": "code",
   "execution_count": null,
   "id": "8a60d15a-5e1c-47cf-98cc-3c5c199cfa3d",
   "metadata": {},
   "outputs": [],
   "source": [
    "singles_df['alt_aa'] = singles_df.alt_codons.apply(lambda x: codon_dic[x])\n",
    "singles_df"
   ]
  },
  {
   "cell_type": "code",
   "execution_count": null,
   "id": "13c966da-386c-4f8c-af62-cdb99ae2a91a",
   "metadata": {},
   "outputs": [],
   "source": [
    "singles_df['aa_pos'] = singles_df['pos'] + singles_df['Pos_start']\n",
    "singles_df"
   ]
  },
  {
   "cell_type": "code",
   "execution_count": null,
   "id": "53226ffc-a7e8-4b66-b725-ed94980d3227",
   "metadata": {},
   "outputs": [],
   "source": [
    "expected_df = pd.concat([WTdf.convert_dtypes(), singles_df], ignore_index=True)\n",
    "expected_df"
   ]
  },
  {
   "cell_type": "code",
   "execution_count": null,
   "id": "c88de79b-0c7d-475f-b42a-67d8759ebcae",
   "metadata": {},
   "outputs": [],
   "source": [
    "expected_df['aa_seq'] = expected_df.nt_seq.apply(lambda x: get_aa_seq(x, codon_dic))\n",
    "expected_df"
   ]
  },
  {
   "cell_type": "code",
   "execution_count": null,
   "id": "2a07a8c8-8801-48ab-aecf-cd34ce15c422",
   "metadata": {},
   "outputs": [],
   "source": [
    "expected_df['Nham_codons'] = expected_df.WT.isnull().astype(int)\n",
    "expected_df['Nham_nt'], expected_df['Nham_aa'] = zip(*expected_df.apply(lambda row: get_Hamming_distances(row.WT_seq, row.WT_aa, row.pos, row.alt_codons, row.alt_aa), axis=1))\n",
    "expected_df"
   ]
  },
  {
   "cell_type": "code",
   "execution_count": null,
   "id": "9d4381e3-89f2-483b-8808-0b3a621b286a",
   "metadata": {},
   "outputs": [],
   "source": [
    "expected_df.drop(['WT_seq','WT_aa'], axis=1, inplace=True)"
   ]
  },
  {
   "cell_type": "code",
   "execution_count": null,
   "id": "2ef8d079-9055-4dcc-b1f4-5bb4bc86cecd",
   "metadata": {},
   "outputs": [],
   "source": [
    "expected_df.to_csv(output_file)"
   ]
  },
  {
   "cell_type": "code",
   "execution_count": null,
   "id": "08c23127-42b9-4d7d-ba5a-76d8cbfa0922",
   "metadata": {},
   "outputs": [],
   "source": [
    "expected_df.groupby(['Species','Fragment'])[['nt_seq','aa_seq']].nunique().reset_index()"
   ]
  },
  {
   "cell_type": "code",
   "execution_count": null,
   "id": "99462113-8c38-4da3-a292-ee9732942ced",
   "metadata": {},
   "outputs": [],
   "source": []
  }
 ],
 "metadata": {
  "kernelspec": {
   "display_name": "Python 3 (ipykernel)",
   "language": "python",
   "name": "python3"
  },
  "language_info": {
   "codemirror_mode": {
    "name": "ipython",
    "version": 3
   },
   "file_extension": ".py",
   "mimetype": "text/x-python",
   "name": "python",
   "nbconvert_exporter": "python",
   "pygments_lexer": "ipython3",
   "version": "3.11.10"
  }
 },
 "nbformat": 4,
 "nbformat_minor": 5
}
