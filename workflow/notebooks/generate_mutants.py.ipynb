{
 "cells": [
  {
   "cell_type": "markdown",
   "id": "e04bb879-08ef-4738-8dc5-8bdf79fceb71",
   "metadata": {},
   "source": [
    "# Notebook to generate expected mutants"
   ]
  },
  {
   "cell_type": "markdown",
   "id": "2ed79853-da94-4e77-8174-8d7a6125f968",
   "metadata": {},
   "source": [
    "## Import libraries"
   ]
  },
  {
   "cell_type": "code",
   "execution_count": null,
   "id": "bd762f42-cf59-4468-a02c-d0b4d5f47cef",
   "metadata": {},
   "outputs": [],
   "source": [
    "import pandas as pd\n",
    "import itertools\n",
    "import numpy as np"
   ]
  },
  {
   "cell_type": "markdown",
   "id": "4495a95f-2d5e-4485-b20b-f1d64b87863e",
   "metadata": {},
   "source": [
    "## Specify paths"
   ]
  },
  {
   "cell_type": "code",
   "execution_count": null,
   "id": "5b1ebc9e-57cd-417c-aa7f-22847272ecb4",
   "metadata": {},
   "outputs": [],
   "source": [
    "# Note, I used to import config entries as \"params\" (i.e. listed in the params statement of the rule), but...\n",
    "# a bug led to params not being imported.. (snakemake object is imported but not the params attribute)\n",
    "# Therefore, now I will import all config entries directly from the snakemake object\n",
    "wtseq_path = (\n",
    "    snakemake.input.wtseqs  # Projet-specific file containing the wild-type sequences\n",
    ")\n",
    "codon_table_path = snakemake.config[\"codon\"][\n",
    "    \"table\"  # Projet-specific file containing the genetic code\n",
    "]\n",
    "codon_mode = snakemake.config[\"codon\"][\n",
    "    \"mode\"  # Project-specific parameter to specify which degenerate codons were introduced\n",
    "]\n",
    "output_file = snakemake.output[0]"
   ]
  },
  {
   "cell_type": "markdown",
   "id": "748ee94c-8a44-4965-8b13-caf347cc2ccb",
   "metadata": {},
   "source": [
    "## Import codon table and codon mode"
   ]
  },
  {
   "cell_type": "code",
   "execution_count": null,
   "id": "a2dd06c6",
   "metadata": {},
   "outputs": [],
   "source": [
    "if codon_mode not in [\"NNN\", \"NNK\", \"NNN x NNN\", \"NNK x NNK\"]:\n",
    "    raise Exception(f\"Error.. check the codon mode specified in the config.\")\n",
    "elif codon_mode in [\"NNN\", \"NNK\"]:\n",
    "    single_codon_mode = codon_mode\n",
    "else:\n",
    "    single_codon_mode = codon_mode.split(\" x \")[0]"
   ]
  },
  {
   "cell_type": "code",
   "execution_count": null,
   "id": "fa65d047-0c07-41d1-961e-ad33ffe3a16a",
   "metadata": {},
   "outputs": [],
   "source": [
    "codon_table = pd.read_csv(codon_table_path, header=0)\n",
    "codon_table[\"codon\"] = codon_table[\"codon\"].str.upper()\n",
    "codon_table.head(3)"
   ]
  },
  {
   "cell_type": "code",
   "execution_count": null,
   "id": "9ea59b40-84ca-449c-849f-696333ccda5c",
   "metadata": {},
   "outputs": [],
   "source": [
    "# Convert to dictionary\n",
    "codon_dic = dict(zip(codon_table[\"codon\"], codon_table[\"aminoacid\"]))"
   ]
  },
  {
   "cell_type": "markdown",
   "id": "1f5d6fef-ad77-44fc-8b10-9096938ccba9",
   "metadata": {},
   "source": [
    "## Define and test functions"
   ]
  },
  {
   "cell_type": "code",
   "execution_count": null,
   "id": "e90b1a36-e347-4e6f-a935-049ba3c13420",
   "metadata": {},
   "outputs": [],
   "source": [
    "def get_alt_codons(seq, codon_dic, mode=\"NNN\"):\n",
    "    \"\"\"\n",
    "    Based on a DNA sequence, the function returns two lists:\n",
    "    1) A list containing all 0-based amino acid positions for the sequence\n",
    "    2) A list containing all possible alternative codons (other than WT codon) at the matching positions\n",
    "    For list 2, the mode defines which codons are acceptable: NNN by default, or NNK\n",
    "    Codons are fetched in the provided codon table (dictionary)\n",
    "    \"\"\"\n",
    "\n",
    "    if mode == \"NNN\":\n",
    "        alt = [x for x in codon_dic.keys()]\n",
    "    elif mode == \"NNK\":\n",
    "        alt = [x for x in codon_dic.keys() if x[2] in [\"G\", \"T\"]]\n",
    "    else:\n",
    "        print(\"Pleae specify a correct mode: either NNN or NNK\")\n",
    "\n",
    "    pos_l = []\n",
    "    var_l = []\n",
    "\n",
    "    for i in range(0, len(seq), 3):\n",
    "        list_var = [x for x in alt if x != seq[i : i + 3]]\n",
    "        pos_l.append(i // 3)  # 0-based position (aa)\n",
    "        var_l.append(list_var)  # list of possible codons other than WT\n",
    "\n",
    "    return pos_l, var_l"
   ]
  },
  {
   "cell_type": "code",
   "execution_count": null,
   "id": "d50c8d10-a434-417c-8007-7695196cef33",
   "metadata": {},
   "outputs": [],
   "source": [
    "print(get_alt_codons(\"TCTCCTGTT\", codon_dic, \"NNN\"))"
   ]
  },
  {
   "cell_type": "code",
   "execution_count": null,
   "id": "d4d6ac23-7b5d-4026-9903-f15fcb078770",
   "metadata": {},
   "outputs": [],
   "source": [
    "def get_nt_seq(seq, mut_dic):\n",
    "    list_codons = [\n",
    "        seq[i : i + 3]\n",
    "        for i in range(0, len(seq), 3)  # Convert nucleotide sequence to list of codons\n",
    "    ]\n",
    "\n",
    "    for pos, mut_codon in mut_dic.items():\n",
    "        if 0 <= pos < len(list_codons):\n",
    "            list_codons[pos] = mut_codon\n",
    "\n",
    "    return \"\".join(list_codons)"
   ]
  },
  {
   "cell_type": "code",
   "execution_count": null,
   "id": "a707a663-cb9e-449c-84b7-4f332ac9ec71",
   "metadata": {},
   "outputs": [],
   "source": [
    "get_nt_seq(\"TCTCCTGTT\", {0: \"TTC\", 2: \"TTA\"})"
   ]
  },
  {
   "cell_type": "markdown",
   "id": "5b8be913-8eec-4b30-b530-3b2beb8f200c",
   "metadata": {},
   "source": [
    "## Import sequences"
   ]
  },
  {
   "cell_type": "code",
   "execution_count": null,
   "id": "021524c8-32f1-47c3-a80f-7dc0ccf08353",
   "metadata": {},
   "outputs": [],
   "source": [
    "wt_df = pd.read_csv(wtseq_path)\n",
    "wt_df[\"nt_seq\"] = wt_df[\"WT_seq\"].str.upper()\n",
    "wt_df"
   ]
  },
  {
   "cell_type": "markdown",
   "id": "6a87dce4-06bd-462a-bf6b-3b9c53f3a2a6",
   "metadata": {},
   "source": [
    "## Get single mutants"
   ]
  },
  {
   "cell_type": "markdown",
   "id": "14b1cc53-e77e-49df-927b-b37298f97f22",
   "metadata": {},
   "source": [
    "### Get all allowed codons"
   ]
  },
  {
   "cell_type": "code",
   "execution_count": null,
   "id": "7e11128a-f321-4bfe-ae26-bd8d580fdd18",
   "metadata": {},
   "outputs": [],
   "source": [
    "wt_seq = wt_df.copy()\n",
    "wt_seq[\"pos\"], wt_seq[\"alt_codons\"] = zip(\n",
    "    *wt_seq.WT_seq.apply(lambda x: get_alt_codons(x, codon_dic, single_codon_mode))\n",
    ")\n",
    "wt_seq"
   ]
  },
  {
   "cell_type": "markdown",
   "id": "7fe4b96b-cf61-4204-b1bd-0b8b43398b0c",
   "metadata": {},
   "source": [
    "### Reshape"
   ]
  },
  {
   "cell_type": "code",
   "execution_count": null,
   "id": "da6a9281-b120-4ecb-8e5a-6123c57ebdce",
   "metadata": {},
   "outputs": [],
   "source": [
    "singles_compact = wt_seq.explode([\"pos\", \"alt_codons\"])\n",
    "singles_compact.head(2)"
   ]
  },
  {
   "cell_type": "code",
   "execution_count": null,
   "id": "7e53e333-afe5-46c7-ae13-9561f56372f9",
   "metadata": {},
   "outputs": [],
   "source": [
    "singles_df = singles_compact.explode(\"alt_codons\")\n",
    "singles_df"
   ]
  },
  {
   "cell_type": "code",
   "execution_count": null,
   "id": "15566655-391b-4f2f-bebb-ff197dad0fe6",
   "metadata": {},
   "outputs": [],
   "source": [
    "singles_df[\"mutations\"] = singles_df.apply(\n",
    "    lambda row: {row[f\"pos\"]: row[f\"alt_codons\"]}, axis=1\n",
    ")\n",
    "singles_df"
   ]
  },
  {
   "cell_type": "markdown",
   "id": "7a0ea873-2121-4ea2-9689-517be5644162",
   "metadata": {},
   "source": [
    "## Get double mutants (if specified in the config)"
   ]
  },
  {
   "cell_type": "code",
   "execution_count": null,
   "id": "0a4bf04b",
   "metadata": {},
   "outputs": [],
   "source": [
    "if codon_mode in [\"NNN x NNN\", \"NNK x NNK\"]:\n",
    "    pairwise_df = wt_df.copy()\n",
    "\n",
    "    # Get pairwise combinations of codons that will be mutated\n",
    "    pairwise_df[\"combination\"] = pairwise_df.WT_seq.apply(\n",
    "        lambda x: [\n",
    "            x\n",
    "            for x in list(itertools.combinations(range(0, len(x) // 3), 2))\n",
    "            for _ in range(2)\n",
    "        ]\n",
    "    )\n",
    "    doubles_compact_df = pairwise_df.explode(\"combination\")\n",
    "    doubles_compact_df[\"mutated_codon\"] = np.tile(\n",
    "        [1, 2], len(doubles_compact_df) // 2 + 1\n",
    "    )[: len(doubles_compact_df)]\n",
    "    doubles_compact_df[\"pos\"] = doubles_compact_df.apply(\n",
    "        lambda row: row.combination[row.mutated_codon - 1], axis=1\n",
    "    )\n",
    "\n",
    "    # Refer to a previously built dataframe to get alternative codons for each mutated codon (out of 2) at each position\n",
    "    doubles_compact_df[\"alt_codons\"] = doubles_compact_df.apply(\n",
    "        lambda row: singles_compact.loc[\n",
    "            (singles_compact.Mutated_seq == row.Mutated_seq)\n",
    "            & (singles_compact.pos == row.pos),\n",
    "            \"alt_codons\",\n",
    "        ].item(),\n",
    "        axis=1,\n",
    "    )\n",
    "\n",
    "    # Dataframe is pivoted only to be able to use pd.explode(), then later on melted to go back to long format\n",
    "    doubles_piv = doubles_compact_df.pivot_table(\n",
    "        index=[\"Mutated_seq\", \"WT_seq\", \"combination\"],\n",
    "        columns=\"mutated_codon\",\n",
    "        values=[\"pos\", \"alt_codons\"],\n",
    "        aggfunc=\"first\",\n",
    "    ).reset_index()\n",
    "    doubles_piv.columns = [x[0] for x in doubles_piv.columns[:-4]] + [\n",
    "        f\"{x[0]}{x[1]}\" for x in doubles_piv.columns[-4:]\n",
    "    ]\n",
    "\n",
    "    # Reshape\n",
    "    doubles_exp1 = doubles_piv.explode(\"alt_codons1\")\n",
    "    doubles_exp2 = doubles_exp1.explode(\"alt_codons2\")\n",
    "    doubles_df = doubles_exp2.reset_index(drop=True)\n",
    "\n",
    "    # Create dictionary of mutations, here we go with numpy to be as efficient as possible, even with very large datasets\n",
    "    keys = np.stack([doubles_df[\"pos1\"].values, doubles_df[\"pos2\"].values], axis=1)\n",
    "    vals = np.stack(\n",
    "        [doubles_df[\"alt_codons1\"].values, doubles_df[\"alt_codons2\"].values], axis=1\n",
    "    )\n",
    "    doubles_df[\"mutations\"] = [dict(zip(k, v)) for k, v in zip(keys, vals)]\n",
    "\n",
    "else:\n",
    "    doubles_df = pd.DataFrame()"
   ]
  },
  {
   "cell_type": "markdown",
   "id": "aeef937e",
   "metadata": {},
   "source": [
    "## Concatenate single mutants and double mutants"
   ]
  },
  {
   "cell_type": "code",
   "execution_count": null,
   "id": "bd9b8cf9",
   "metadata": {},
   "outputs": [],
   "source": [
    "mutants_df = pd.concat([singles_df, doubles_df], ignore_index=True)"
   ]
  },
  {
   "cell_type": "markdown",
   "id": "b2464c41",
   "metadata": {},
   "source": [
    "## Construct sequences"
   ]
  },
  {
   "cell_type": "code",
   "execution_count": null,
   "id": "ad13260a-7caa-4900-adee-a136a43b829b",
   "metadata": {},
   "outputs": [],
   "source": [
    "# Again, we need an efficient way to apply our function to get the nucleotide sequences\n",
    "mutants_df[\"nt_seq\"] = list(\n",
    "    itertools.starmap(get_nt_seq, zip(mutants_df[\"WT_seq\"], mutants_df[\"mutations\"]))\n",
    ")\n",
    "mutants_df"
   ]
  },
  {
   "cell_type": "markdown",
   "id": "73e01e39",
   "metadata": {},
   "source": [
    "## Add wild-type nucleotide sequence"
   ]
  },
  {
   "cell_type": "code",
   "execution_count": null,
   "id": "c274e550",
   "metadata": {},
   "outputs": [],
   "source": [
    "# Note: information on mutated codons is dropped so that we can annotate more types of mutants in downstream steps\n",
    "expmut_df = pd.concat(\n",
    "    [wt_df, mutants_df.drop([\"mutations\", \"pos\", \"alt_codons\"], axis=1)],\n",
    "    ignore_index=True,\n",
    ")"
   ]
  },
  {
   "cell_type": "markdown",
   "id": "0deb58f4-e279-4ea7-b093-6607e62a6ee0",
   "metadata": {},
   "source": [
    "## Export"
   ]
  },
  {
   "cell_type": "code",
   "execution_count": null,
   "id": "7c2c3a02-c8f5-4ec0-9228-ebd73ebaae95",
   "metadata": {},
   "outputs": [],
   "source": [
    "expmut_df.to_csv(output_file)"
   ]
  }
 ],
 "metadata": {
  "kernelspec": {
   "display_name": "dms-env",
   "language": "python",
   "name": "dms-env"
  },
  "language_info": {
   "codemirror_mode": {
    "name": "ipython",
    "version": 3
   },
   "file_extension": ".py",
   "mimetype": "text/x-python",
   "name": "python",
   "nbconvert_exporter": "python",
   "pygments_lexer": "ipython3",
   "version": "3.11.11"
  }
 },
 "nbformat": 4,
 "nbformat_minor": 5
}
