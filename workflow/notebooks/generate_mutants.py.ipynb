{
 "cells": [
  {
   "cell_type": "markdown",
   "id": "e04bb879-08ef-4738-8dc5-8bdf79fceb71",
   "metadata": {},
   "source": [
    "# Notebook to generate expected mutants"
   ]
  },
  {
   "cell_type": "markdown",
   "id": "2ed79853-da94-4e77-8174-8d7a6125f968",
   "metadata": {},
   "source": [
    "## Import libraries"
   ]
  },
  {
   "cell_type": "code",
   "execution_count": 1,
   "id": "bd762f42-cf59-4468-a02c-d0b4d5f47cef",
   "metadata": {},
   "outputs": [],
   "source": [
    "import pandas as pd\n",
    "import itertools\n",
    "import numpy as np"
   ]
  },
  {
   "cell_type": "markdown",
   "id": "4495a95f-2d5e-4485-b20b-f1d64b87863e",
   "metadata": {},
   "source": [
    "## Specify paths"
   ]
  },
  {
   "cell_type": "code",
   "execution_count": null,
   "id": "5b1ebc9e-57cd-417c-aa7f-22847272ecb4",
   "metadata": {},
   "outputs": [],
   "source": [
    "# Note, I used to import config entries as \"params\" (i.e. listed in the params statement of the rule), but...\n",
    "# a bug led to params not being imported.. (snakemake object is imported but not the params attribute)\n",
    "# Therefore, now I will import all config entries directly from the snakemake object\n",
    "wtseq_path = (\n",
    "    snakemake.input.wtseqs  # Projet-specific file containing the wild-type sequences\n",
    ")\n",
    "codon_table_path = snakemake.config[\"codon\"][\n",
    "    \"table\"  # Projet-specific file containing the genetic code\n",
    "]\n",
    "codon_mode = snakemake.config[\"codon\"][\n",
    "    \"mode\"  # Project-specific parameter to specify which degenerate codons were introduced\n",
    "]\n",
    "output_file = snakemake.output[0]"
   ]
  },
  {
   "cell_type": "markdown",
   "id": "748ee94c-8a44-4965-8b13-caf347cc2ccb",
   "metadata": {},
   "source": [
    "## Import codon table and codon mode"
   ]
  },
  {
   "cell_type": "code",
   "execution_count": null,
   "id": "a2dd06c6",
   "metadata": {},
   "outputs": [],
   "source": [
    "if codon_mode not in [\"NNN\", \"NNK\", \"NNN x NNN\", \"NNK x NNK\"]:\n",
    "    raise Exception(f\"Error.. check the codon mode specified in the config.\")\n",
    "elif codon_mode in [\"NNN\", \"NNK\"]:\n",
    "    single_codon_mode = codon_mode\n",
    "else:\n",
    "    single_codon_mode = codon_mode.split(' x ')[0]"
   ]
  },
  {
   "cell_type": "code",
   "execution_count": 3,
   "id": "fa65d047-0c07-41d1-961e-ad33ffe3a16a",
   "metadata": {},
   "outputs": [
    {
     "data": {
      "application/vnd.microsoft.datawrangler.viewer.v0+json": {
       "columns": [
        {
         "name": "index",
         "rawType": "int64",
         "type": "integer"
        },
        {
         "name": "codon",
         "rawType": "object",
         "type": "string"
        },
        {
         "name": "aminoacid",
         "rawType": "object",
         "type": "string"
        },
        {
         "name": "freq",
         "rawType": "float64",
         "type": "float"
        },
        {
         "name": "number",
         "rawType": "int64",
         "type": "integer"
        }
       ],
       "ref": "8859d25c-8ad0-45fe-a7b0-fbd6b31e4361",
       "rows": [
        [
         "0",
         "TTT",
         "F",
         "26.26",
         "76999"
        ],
        [
         "1",
         "TTC",
         "F",
         "17.89",
         "52459"
        ],
        [
         "2",
         "TTA",
         "L",
         "26.31",
         "77131"
        ]
       ],
       "shape": {
        "columns": 4,
        "rows": 3
       }
      },
      "text/html": [
       "<div>\n",
       "<style scoped>\n",
       "    .dataframe tbody tr th:only-of-type {\n",
       "        vertical-align: middle;\n",
       "    }\n",
       "\n",
       "    .dataframe tbody tr th {\n",
       "        vertical-align: top;\n",
       "    }\n",
       "\n",
       "    .dataframe thead th {\n",
       "        text-align: right;\n",
       "    }\n",
       "</style>\n",
       "<table border=\"1\" class=\"dataframe\">\n",
       "  <thead>\n",
       "    <tr style=\"text-align: right;\">\n",
       "      <th></th>\n",
       "      <th>codon</th>\n",
       "      <th>aminoacid</th>\n",
       "      <th>freq</th>\n",
       "      <th>number</th>\n",
       "    </tr>\n",
       "  </thead>\n",
       "  <tbody>\n",
       "    <tr>\n",
       "      <th>0</th>\n",
       "      <td>TTT</td>\n",
       "      <td>F</td>\n",
       "      <td>26.26</td>\n",
       "      <td>76999</td>\n",
       "    </tr>\n",
       "    <tr>\n",
       "      <th>1</th>\n",
       "      <td>TTC</td>\n",
       "      <td>F</td>\n",
       "      <td>17.89</td>\n",
       "      <td>52459</td>\n",
       "    </tr>\n",
       "    <tr>\n",
       "      <th>2</th>\n",
       "      <td>TTA</td>\n",
       "      <td>L</td>\n",
       "      <td>26.31</td>\n",
       "      <td>77131</td>\n",
       "    </tr>\n",
       "  </tbody>\n",
       "</table>\n",
       "</div>"
      ],
      "text/plain": [
       "  codon aminoacid   freq  number\n",
       "0   TTT         F  26.26   76999\n",
       "1   TTC         F  17.89   52459\n",
       "2   TTA         L  26.31   77131"
      ]
     },
     "execution_count": 3,
     "metadata": {},
     "output_type": "execute_result"
    }
   ],
   "source": [
    "codon_table = pd.read_csv(codon_table_path, header=0)\n",
    "codon_table[\"codon\"] = codon_table[\"codon\"].str.upper()\n",
    "codon_table.head(3)"
   ]
  },
  {
   "cell_type": "code",
   "execution_count": 4,
   "id": "9ea59b40-84ca-449c-849f-696333ccda5c",
   "metadata": {},
   "outputs": [],
   "source": [
    "# Convert to dictionary\n",
    "codon_dic = dict(zip(codon_table[\"codon\"], codon_table[\"aminoacid\"]))"
   ]
  },
  {
   "cell_type": "markdown",
   "id": "1f5d6fef-ad77-44fc-8b10-9096938ccba9",
   "metadata": {},
   "source": [
    "## Define and test functions"
   ]
  },
  {
   "cell_type": "code",
   "execution_count": 5,
   "id": "e90b1a36-e347-4e6f-a935-049ba3c13420",
   "metadata": {},
   "outputs": [],
   "source": [
    "def get_alt_codons(seq, codon_dic, mode=\"NNN\"):\n",
    "    \"\"\"\n",
    "    Based on a DNA sequence, the function returns two lists:\n",
    "    1) A list containing all 0-based amino acid positions for the sequence\n",
    "    2) A list containing all possible alternative codons (other than WT codon) at the matching positions\n",
    "    For list 2, the mode defines which codons are acceptable: NNN by default, or NNK\n",
    "    Codons are fetched in the provided codon table (dictionary)\n",
    "    \"\"\"\n",
    "\n",
    "    if mode == \"NNN\":\n",
    "        alt = [x for x in codon_dic.keys()]\n",
    "    elif mode == \"NNK\":\n",
    "        alt = [x for x in codon_dic.keys() if x[2] in [\"G\", \"T\"]]\n",
    "    else:\n",
    "        print(\"Pleae specify a correct mode: either NNN or NNK\")\n",
    "\n",
    "    pos_l = []\n",
    "    var_l = []\n",
    "\n",
    "    for i in range(0, len(seq), 3):\n",
    "        list_var = [x for x in alt if x != seq[i : i + 3]]\n",
    "        pos_l.append(i // 3)  # 0-based position (aa)\n",
    "        var_l.append(list_var)  # list of possible codons other than WT\n",
    "\n",
    "    return pos_l, var_l"
   ]
  },
  {
   "cell_type": "code",
   "execution_count": 6,
   "id": "d50c8d10-a434-417c-8007-7695196cef33",
   "metadata": {},
   "outputs": [
    {
     "name": "stdout",
     "output_type": "stream",
     "text": [
      "([0, 1, 2], [['TTT', 'TTC', 'TTA', 'TTG', 'CTT', 'CTC', 'CTA', 'CTG', 'ATT', 'ATC', 'ATA', 'ATG', 'GTT', 'GTC', 'GTA', 'GTG', 'TCC', 'TCA', 'TCG', 'CCT', 'CCC', 'CCA', 'CCG', 'ACT', 'ACC', 'ACA', 'ACG', 'GCT', 'GCC', 'GCA', 'GCG', 'TAT', 'TAC', 'TAA', 'TAG', 'CAT', 'CAC', 'CAA', 'CAG', 'AAT', 'AAC', 'AAA', 'AAG', 'GAT', 'GAC', 'GAA', 'GAG', 'TGT', 'TGC', 'TGA', 'TGG', 'CGT', 'CGC', 'CGA', 'CGG', 'AGT', 'AGC', 'AGA', 'AGG', 'GGT', 'GGC', 'GGA', 'GGG'], ['TTT', 'TTC', 'TTA', 'TTG', 'CTT', 'CTC', 'CTA', 'CTG', 'ATT', 'ATC', 'ATA', 'ATG', 'GTT', 'GTC', 'GTA', 'GTG', 'TCT', 'TCC', 'TCA', 'TCG', 'CCC', 'CCA', 'CCG', 'ACT', 'ACC', 'ACA', 'ACG', 'GCT', 'GCC', 'GCA', 'GCG', 'TAT', 'TAC', 'TAA', 'TAG', 'CAT', 'CAC', 'CAA', 'CAG', 'AAT', 'AAC', 'AAA', 'AAG', 'GAT', 'GAC', 'GAA', 'GAG', 'TGT', 'TGC', 'TGA', 'TGG', 'CGT', 'CGC', 'CGA', 'CGG', 'AGT', 'AGC', 'AGA', 'AGG', 'GGT', 'GGC', 'GGA', 'GGG'], ['TTT', 'TTC', 'TTA', 'TTG', 'CTT', 'CTC', 'CTA', 'CTG', 'ATT', 'ATC', 'ATA', 'ATG', 'GTC', 'GTA', 'GTG', 'TCT', 'TCC', 'TCA', 'TCG', 'CCT', 'CCC', 'CCA', 'CCG', 'ACT', 'ACC', 'ACA', 'ACG', 'GCT', 'GCC', 'GCA', 'GCG', 'TAT', 'TAC', 'TAA', 'TAG', 'CAT', 'CAC', 'CAA', 'CAG', 'AAT', 'AAC', 'AAA', 'AAG', 'GAT', 'GAC', 'GAA', 'GAG', 'TGT', 'TGC', 'TGA', 'TGG', 'CGT', 'CGC', 'CGA', 'CGG', 'AGT', 'AGC', 'AGA', 'AGG', 'GGT', 'GGC', 'GGA', 'GGG']])\n"
     ]
    }
   ],
   "source": [
    "print(get_alt_codons(\"TCTCCTGTT\", codon_dic, \"NNN\"))"
   ]
  },
  {
   "cell_type": "code",
   "execution_count": 7,
   "id": "d4d6ac23-7b5d-4026-9903-f15fcb078770",
   "metadata": {},
   "outputs": [],
   "source": [
    "def get_nt_seq(seq, mut_dic):\n",
    "    list_codons = [\n",
    "        seq[i : i + 3] for i in range(0, len(seq), 3)\n",
    "    ]  # Convert nucleotide sequence to list of codons\n",
    "    seq_l = [\n",
    "        mut_dic[a] if a in mut_dic.keys() else wtcodon\n",
    "        for a, wtcodon in enumerate(list_codons)\n",
    "    ]\n",
    "    return \"\".join(seq_l)"
   ]
  },
  {
   "cell_type": "code",
   "execution_count": 8,
   "id": "a707a663-cb9e-449c-84b7-4f332ac9ec71",
   "metadata": {},
   "outputs": [
    {
     "data": {
      "text/plain": [
       "'TTCCCTTTA'"
      ]
     },
     "execution_count": 8,
     "metadata": {},
     "output_type": "execute_result"
    }
   ],
   "source": [
    "get_nt_seq(\"TCTCCTGTT\", {0: \"TTC\", 2: \"TTA\"})"
   ]
  },
  {
   "cell_type": "markdown",
   "id": "5b8be913-8eec-4b30-b530-3b2beb8f200c",
   "metadata": {},
   "source": [
    "## Import sequences"
   ]
  },
  {
   "cell_type": "code",
   "execution_count": 9,
   "id": "021524c8-32f1-47c3-a80f-7dc0ccf08353",
   "metadata": {},
   "outputs": [
    {
     "data": {
      "application/vnd.microsoft.datawrangler.viewer.v0+json": {
       "columns": [
        {
         "name": "index",
         "rawType": "int64",
         "type": "integer"
        },
        {
         "name": "Mutated_seq",
         "rawType": "object",
         "type": "string"
        },
        {
         "name": "WT_seq",
         "rawType": "object",
         "type": "string"
        },
        {
         "name": "nt_seq",
         "rawType": "object",
         "type": "string"
        }
       ],
       "ref": "30a23dae-d3d0-4d50-9c97-b19c0475fe3f",
       "rows": [
        [
         "0",
         "CN_F1",
         "TCTCCTGTTGAAGGTTCTCCAGCTAAGCCAGAAGATTACCCACACTTCATGTCCGTTGCTCACGAACAAGCTTTGAAGTCTTTGTCTGAAGGTGGTATTCCAATTGGTGCTGCTTTGGTTCATTTGCCAACTTCTAGAATTATTTCCAGAGGTCACAACAACAGAGTCCAATTATCTTCTAACGTCCGTCACGGTGAAATGGACTGTTTG",
         "TCTCCTGTTGAAGGTTCTCCAGCTAAGCCAGAAGATTACCCACACTTCATGTCCGTTGCTCACGAACAAGCTTTGAAGTCTTTGTCTGAAGGTGGTATTCCAATTGGTGCTGCTTTGGTTCATTTGCCAACTTCTAGAATTATTTCCAGAGGTCACAACAACAGAGTCCAATTATCTTCTAACGTCCGTCACGGTGAAATGGACTGTTTG"
        ]
       ],
       "shape": {
        "columns": 3,
        "rows": 1
       }
      },
      "text/html": [
       "<div>\n",
       "<style scoped>\n",
       "    .dataframe tbody tr th:only-of-type {\n",
       "        vertical-align: middle;\n",
       "    }\n",
       "\n",
       "    .dataframe tbody tr th {\n",
       "        vertical-align: top;\n",
       "    }\n",
       "\n",
       "    .dataframe thead th {\n",
       "        text-align: right;\n",
       "    }\n",
       "</style>\n",
       "<table border=\"1\" class=\"dataframe\">\n",
       "  <thead>\n",
       "    <tr style=\"text-align: right;\">\n",
       "      <th></th>\n",
       "      <th>Mutated_seq</th>\n",
       "      <th>WT_seq</th>\n",
       "      <th>nt_seq</th>\n",
       "    </tr>\n",
       "  </thead>\n",
       "  <tbody>\n",
       "    <tr>\n",
       "      <th>0</th>\n",
       "      <td>CN_F1</td>\n",
       "      <td>TCTCCTGTTGAAGGTTCTCCAGCTAAGCCAGAAGATTACCCACACT...</td>\n",
       "      <td>TCTCCTGTTGAAGGTTCTCCAGCTAAGCCAGAAGATTACCCACACT...</td>\n",
       "    </tr>\n",
       "  </tbody>\n",
       "</table>\n",
       "</div>"
      ],
      "text/plain": [
       "  Mutated_seq                                             WT_seq  \\\n",
       "0       CN_F1  TCTCCTGTTGAAGGTTCTCCAGCTAAGCCAGAAGATTACCCACACT...   \n",
       "\n",
       "                                              nt_seq  \n",
       "0  TCTCCTGTTGAAGGTTCTCCAGCTAAGCCAGAAGATTACCCACACT...  "
      ]
     },
     "execution_count": 9,
     "metadata": {},
     "output_type": "execute_result"
    }
   ],
   "source": [
    "wt_df = pd.read_csv(wtseq_path)\n",
    "wt_df[\"nt_seq\"] = wt_df[\"WT_seq\"].str.upper()\n",
    "wt_df"
   ]
  },
  {
   "cell_type": "markdown",
   "id": "6a87dce4-06bd-462a-bf6b-3b9c53f3a2a6",
   "metadata": {},
   "source": [
    "## Get single mutants"
   ]
  },
  {
   "cell_type": "markdown",
   "id": "14b1cc53-e77e-49df-927b-b37298f97f22",
   "metadata": {},
   "source": [
    "### Get all allowed codons"
   ]
  },
  {
   "cell_type": "code",
   "execution_count": null,
   "id": "7e11128a-f321-4bfe-ae26-bd8d580fdd18",
   "metadata": {},
   "outputs": [
    {
     "data": {
      "application/vnd.microsoft.datawrangler.viewer.v0+json": {
       "columns": [
        {
         "name": "index",
         "rawType": "int64",
         "type": "integer"
        },
        {
         "name": "Mutated_seq",
         "rawType": "object",
         "type": "string"
        },
        {
         "name": "WT_seq",
         "rawType": "object",
         "type": "string"
        },
        {
         "name": "nt_seq",
         "rawType": "object",
         "type": "string"
        },
        {
         "name": "pos",
         "rawType": "object",
         "type": "unknown"
        },
        {
         "name": "alt_codons",
         "rawType": "object",
         "type": "unknown"
        }
       ],
       "ref": "829f207b-d08c-4603-b094-629da31fbcec",
       "rows": [
        [
         "0",
         "CN_F1",
         "TCTCCTGTTGAAGGTTCTCCAGCTAAGCCAGAAGATTACCCACACTTCATGTCCGTTGCTCACGAACAAGCTTTGAAGTCTTTGTCTGAAGGTGGTATTCCAATTGGTGCTGCTTTGGTTCATTTGCCAACTTCTAGAATTATTTCCAGAGGTCACAACAACAGAGTCCAATTATCTTCTAACGTCCGTCACGGTGAAATGGACTGTTTG",
         "TCTCCTGTTGAAGGTTCTCCAGCTAAGCCAGAAGATTACCCACACTTCATGTCCGTTGCTCACGAACAAGCTTTGAAGTCTTTGTCTGAAGGTGGTATTCCAATTGGTGCTGCTTTGGTTCATTTGCCAACTTCTAGAATTATTTCCAGAGGTCACAACAACAGAGTCCAATTATCTTCTAACGTCCGTCACGGTGAAATGGACTGTTTG",
         "[0, 1, 2, 3, 4, 5, 6, 7, 8, 9, 10, 11, 12, 13, 14, 15, 16, 17, 18, 19, 20, 21, 22, 23, 24, 25, 26, 27, 28, 29, 30, 31, 32, 33, 34, 35, 36, 37, 38, 39, 40, 41, 42, 43, 44, 45, 46, 47, 48, 49, 50, 51, 52, 53, 54, 55, 56, 57, 58, 59, 60, 61, 62, 63, 64, 65, 66, 67, 68, 69]",
         "[['TTT', 'TTG', 'CTT', 'CTG', 'ATT', 'ATG', 'GTT', 'GTG', 'TCG', 'CCT', 'CCG', 'ACT', 'ACG', 'GCT', 'GCG', 'TAT', 'TAG', 'CAT', 'CAG', 'AAT', 'AAG', 'GAT', 'GAG', 'TGT', 'TGG', 'CGT', 'CGG', 'AGT', 'AGG', 'GGT', 'GGG'], ['TTT', 'TTG', 'CTT', 'CTG', 'ATT', 'ATG', 'GTT', 'GTG', 'TCT', 'TCG', 'CCG', 'ACT', 'ACG', 'GCT', 'GCG', 'TAT', 'TAG', 'CAT', 'CAG', 'AAT', 'AAG', 'GAT', 'GAG', 'TGT', 'TGG', 'CGT', 'CGG', 'AGT', 'AGG', 'GGT', 'GGG'], ['TTT', 'TTG', 'CTT', 'CTG', 'ATT', 'ATG', 'GTG', 'TCT', 'TCG', 'CCT', 'CCG', 'ACT', 'ACG', 'GCT', 'GCG', 'TAT', 'TAG', 'CAT', 'CAG', 'AAT', 'AAG', 'GAT', 'GAG', 'TGT', 'TGG', 'CGT', 'CGG', 'AGT', 'AGG', 'GGT', 'GGG'], ['TTT', 'TTG', 'CTT', 'CTG', 'ATT', 'ATG', 'GTT', 'GTG', 'TCT', 'TCG', 'CCT', 'CCG', 'ACT', 'ACG', 'GCT', 'GCG', 'TAT', 'TAG', 'CAT', 'CAG', 'AAT', 'AAG', 'GAT', 'GAG', 'TGT', 'TGG', 'CGT', 'CGG', 'AGT', 'AGG', 'GGT', 'GGG'], ['TTT', 'TTG', 'CTT', 'CTG', 'ATT', 'ATG', 'GTT', 'GTG', 'TCT', 'TCG', 'CCT', 'CCG', 'ACT', 'ACG', 'GCT', 'GCG', 'TAT', 'TAG', 'CAT', 'CAG', 'AAT', 'AAG', 'GAT', 'GAG', 'TGT', 'TGG', 'CGT', 'CGG', 'AGT', 'AGG', 'GGG'], ['TTT', 'TTG', 'CTT', 'CTG', 'ATT', 'ATG', 'GTT', 'GTG', 'TCG', 'CCT', 'CCG', 'ACT', 'ACG', 'GCT', 'GCG', 'TAT', 'TAG', 'CAT', 'CAG', 'AAT', 'AAG', 'GAT', 'GAG', 'TGT', 'TGG', 'CGT', 'CGG', 'AGT', 'AGG', 'GGT', 'GGG'], ['TTT', 'TTG', 'CTT', 'CTG', 'ATT', 'ATG', 'GTT', 'GTG', 'TCT', 'TCG', 'CCT', 'CCG', 'ACT', 'ACG', 'GCT', 'GCG', 'TAT', 'TAG', 'CAT', 'CAG', 'AAT', 'AAG', 'GAT', 'GAG', 'TGT', 'TGG', 'CGT', 'CGG', 'AGT', 'AGG', 'GGT', 'GGG'], ['TTT', 'TTG', 'CTT', 'CTG', 'ATT', 'ATG', 'GTT', 'GTG', 'TCT', 'TCG', 'CCT', 'CCG', 'ACT', 'ACG', 'GCG', 'TAT', 'TAG', 'CAT', 'CAG', 'AAT', 'AAG', 'GAT', 'GAG', 'TGT', 'TGG', 'CGT', 'CGG', 'AGT', 'AGG', 'GGT', 'GGG'], ['TTT', 'TTG', 'CTT', 'CTG', 'ATT', 'ATG', 'GTT', 'GTG', 'TCT', 'TCG', 'CCT', 'CCG', 'ACT', 'ACG', 'GCT', 'GCG', 'TAT', 'TAG', 'CAT', 'CAG', 'AAT', 'GAT', 'GAG', 'TGT', 'TGG', 'CGT', 'CGG', 'AGT', 'AGG', 'GGT', 'GGG'], ['TTT', 'TTG', 'CTT', 'CTG', 'ATT', 'ATG', 'GTT', 'GTG', 'TCT', 'TCG', 'CCT', 'CCG', 'ACT', 'ACG', 'GCT', 'GCG', 'TAT', 'TAG', 'CAT', 'CAG', 'AAT', 'AAG', 'GAT', 'GAG', 'TGT', 'TGG', 'CGT', 'CGG', 'AGT', 'AGG', 'GGT', 'GGG'], ['TTT', 'TTG', 'CTT', 'CTG', 'ATT', 'ATG', 'GTT', 'GTG', 'TCT', 'TCG', 'CCT', 'CCG', 'ACT', 'ACG', 'GCT', 'GCG', 'TAT', 'TAG', 'CAT', 'CAG', 'AAT', 'AAG', 'GAT', 'GAG', 'TGT', 'TGG', 'CGT', 'CGG', 'AGT', 'AGG', 'GGT', 'GGG'], ['TTT', 'TTG', 'CTT', 'CTG', 'ATT', 'ATG', 'GTT', 'GTG', 'TCT', 'TCG', 'CCT', 'CCG', 'ACT', 'ACG', 'GCT', 'GCG', 'TAT', 'TAG', 'CAT', 'CAG', 'AAT', 'AAG', 'GAG', 'TGT', 'TGG', 'CGT', 'CGG', 'AGT', 'AGG', 'GGT', 'GGG'], ['TTT', 'TTG', 'CTT', 'CTG', 'ATT', 'ATG', 'GTT', 'GTG', 'TCT', 'TCG', 'CCT', 'CCG', 'ACT', 'ACG', 'GCT', 'GCG', 'TAT', 'TAG', 'CAT', 'CAG', 'AAT', 'AAG', 'GAT', 'GAG', 'TGT', 'TGG', 'CGT', 'CGG', 'AGT', 'AGG', 'GGT', 'GGG'], ['TTT', 'TTG', 'CTT', 'CTG', 'ATT', 'ATG', 'GTT', 'GTG', 'TCT', 'TCG', 'CCT', 'CCG', 'ACT', 'ACG', 'GCT', 'GCG', 'TAT', 'TAG', 'CAT', 'CAG', 'AAT', 'AAG', 'GAT', 'GAG', 'TGT', 'TGG', 'CGT', 'CGG', 'AGT', 'AGG', 'GGT', 'GGG'], ['TTT', 'TTG', 'CTT', 'CTG', 'ATT', 'ATG', 'GTT', 'GTG', 'TCT', 'TCG', 'CCT', 'CCG', 'ACT', 'ACG', 'GCT', 'GCG', 'TAT', 'TAG', 'CAT', 'CAG', 'AAT', 'AAG', 'GAT', 'GAG', 'TGT', 'TGG', 'CGT', 'CGG', 'AGT', 'AGG', 'GGT', 'GGG'], ['TTT', 'TTG', 'CTT', 'CTG', 'ATT', 'ATG', 'GTT', 'GTG', 'TCT', 'TCG', 'CCT', 'CCG', 'ACT', 'ACG', 'GCT', 'GCG', 'TAT', 'TAG', 'CAT', 'CAG', 'AAT', 'AAG', 'GAT', 'GAG', 'TGT', 'TGG', 'CGT', 'CGG', 'AGT', 'AGG', 'GGT', 'GGG'], ['TTT', 'TTG', 'CTT', 'CTG', 'ATT', 'GTT', 'GTG', 'TCT', 'TCG', 'CCT', 'CCG', 'ACT', 'ACG', 'GCT', 'GCG', 'TAT', 'TAG', 'CAT', 'CAG', 'AAT', 'AAG', 'GAT', 'GAG', 'TGT', 'TGG', 'CGT', 'CGG', 'AGT', 'AGG', 'GGT', 'GGG'], ['TTT', 'TTG', 'CTT', 'CTG', 'ATT', 'ATG', 'GTT', 'GTG', 'TCT', 'TCG', 'CCT', 'CCG', 'ACT', 'ACG', 'GCT', 'GCG', 'TAT', 'TAG', 'CAT', 'CAG', 'AAT', 'AAG', 'GAT', 'GAG', 'TGT', 'TGG', 'CGT', 'CGG', 'AGT', 'AGG', 'GGT', 'GGG'], ['TTT', 'TTG', 'CTT', 'CTG', 'ATT', 'ATG', 'GTG', 'TCT', 'TCG', 'CCT', 'CCG', 'ACT', 'ACG', 'GCT', 'GCG', 'TAT', 'TAG', 'CAT', 'CAG', 'AAT', 'AAG', 'GAT', 'GAG', 'TGT', 'TGG', 'CGT', 'CGG', 'AGT', 'AGG', 'GGT', 'GGG'], ['TTT', 'TTG', 'CTT', 'CTG', 'ATT', 'ATG', 'GTT', 'GTG', 'TCT', 'TCG', 'CCT', 'CCG', 'ACT', 'ACG', 'GCG', 'TAT', 'TAG', 'CAT', 'CAG', 'AAT', 'AAG', 'GAT', 'GAG', 'TGT', 'TGG', 'CGT', 'CGG', 'AGT', 'AGG', 'GGT', 'GGG'], ['TTT', 'TTG', 'CTT', 'CTG', 'ATT', 'ATG', 'GTT', 'GTG', 'TCT', 'TCG', 'CCT', 'CCG', 'ACT', 'ACG', 'GCT', 'GCG', 'TAT', 'TAG', 'CAT', 'CAG', 'AAT', 'AAG', 'GAT', 'GAG', 'TGT', 'TGG', 'CGT', 'CGG', 'AGT', 'AGG', 'GGT', 'GGG'], ['TTT', 'TTG', 'CTT', 'CTG', 'ATT', 'ATG', 'GTT', 'GTG', 'TCT', 'TCG', 'CCT', 'CCG', 'ACT', 'ACG', 'GCT', 'GCG', 'TAT', 'TAG', 'CAT', 'CAG', 'AAT', 'AAG', 'GAT', 'GAG', 'TGT', 'TGG', 'CGT', 'CGG', 'AGT', 'AGG', 'GGT', 'GGG'], ['TTT', 'TTG', 'CTT', 'CTG', 'ATT', 'ATG', 'GTT', 'GTG', 'TCT', 'TCG', 'CCT', 'CCG', 'ACT', 'ACG', 'GCT', 'GCG', 'TAT', 'TAG', 'CAT', 'CAG', 'AAT', 'AAG', 'GAT', 'GAG', 'TGT', 'TGG', 'CGT', 'CGG', 'AGT', 'AGG', 'GGT', 'GGG'], ['TTT', 'TTG', 'CTT', 'CTG', 'ATT', 'ATG', 'GTT', 'GTG', 'TCT', 'TCG', 'CCT', 'CCG', 'ACT', 'ACG', 'GCG', 'TAT', 'TAG', 'CAT', 'CAG', 'AAT', 'AAG', 'GAT', 'GAG', 'TGT', 'TGG', 'CGT', 'CGG', 'AGT', 'AGG', 'GGT', 'GGG'], ['TTT', 'CTT', 'CTG', 'ATT', 'ATG', 'GTT', 'GTG', 'TCT', 'TCG', 'CCT', 'CCG', 'ACT', 'ACG', 'GCT', 'GCG', 'TAT', 'TAG', 'CAT', 'CAG', 'AAT', 'AAG', 'GAT', 'GAG', 'TGT', 'TGG', 'CGT', 'CGG', 'AGT', 'AGG', 'GGT', 'GGG'], ['TTT', 'TTG', 'CTT', 'CTG', 'ATT', 'ATG', 'GTT', 'GTG', 'TCT', 'TCG', 'CCT', 'CCG', 'ACT', 'ACG', 'GCT', 'GCG', 'TAT', 'TAG', 'CAT', 'CAG', 'AAT', 'GAT', 'GAG', 'TGT', 'TGG', 'CGT', 'CGG', 'AGT', 'AGG', 'GGT', 'GGG'], ['TTT', 'TTG', 'CTT', 'CTG', 'ATT', 'ATG', 'GTT', 'GTG', 'TCG', 'CCT', 'CCG', 'ACT', 'ACG', 'GCT', 'GCG', 'TAT', 'TAG', 'CAT', 'CAG', 'AAT', 'AAG', 'GAT', 'GAG', 'TGT', 'TGG', 'CGT', 'CGG', 'AGT', 'AGG', 'GGT', 'GGG'], ['TTT', 'CTT', 'CTG', 'ATT', 'ATG', 'GTT', 'GTG', 'TCT', 'TCG', 'CCT', 'CCG', 'ACT', 'ACG', 'GCT', 'GCG', 'TAT', 'TAG', 'CAT', 'CAG', 'AAT', 'AAG', 'GAT', 'GAG', 'TGT', 'TGG', 'CGT', 'CGG', 'AGT', 'AGG', 'GGT', 'GGG'], ['TTT', 'TTG', 'CTT', 'CTG', 'ATT', 'ATG', 'GTT', 'GTG', 'TCG', 'CCT', 'CCG', 'ACT', 'ACG', 'GCT', 'GCG', 'TAT', 'TAG', 'CAT', 'CAG', 'AAT', 'AAG', 'GAT', 'GAG', 'TGT', 'TGG', 'CGT', 'CGG', 'AGT', 'AGG', 'GGT', 'GGG'], ['TTT', 'TTG', 'CTT', 'CTG', 'ATT', 'ATG', 'GTT', 'GTG', 'TCT', 'TCG', 'CCT', 'CCG', 'ACT', 'ACG', 'GCT', 'GCG', 'TAT', 'TAG', 'CAT', 'CAG', 'AAT', 'AAG', 'GAT', 'GAG', 'TGT', 'TGG', 'CGT', 'CGG', 'AGT', 'AGG', 'GGT', 'GGG'], ['TTT', 'TTG', 'CTT', 'CTG', 'ATT', 'ATG', 'GTT', 'GTG', 'TCT', 'TCG', 'CCT', 'CCG', 'ACT', 'ACG', 'GCT', 'GCG', 'TAT', 'TAG', 'CAT', 'CAG', 'AAT', 'AAG', 'GAT', 'GAG', 'TGT', 'TGG', 'CGT', 'CGG', 'AGT', 'AGG', 'GGG'], ['TTT', 'TTG', 'CTT', 'CTG', 'ATT', 'ATG', 'GTT', 'GTG', 'TCT', 'TCG', 'CCT', 'CCG', 'ACT', 'ACG', 'GCT', 'GCG', 'TAT', 'TAG', 'CAT', 'CAG', 'AAT', 'AAG', 'GAT', 'GAG', 'TGT', 'TGG', 'CGT', 'CGG', 'AGT', 'AGG', 'GGG'], ['TTT', 'TTG', 'CTT', 'CTG', 'ATG', 'GTT', 'GTG', 'TCT', 'TCG', 'CCT', 'CCG', 'ACT', 'ACG', 'GCT', 'GCG', 'TAT', 'TAG', 'CAT', 'CAG', 'AAT', 'AAG', 'GAT', 'GAG', 'TGT', 'TGG', 'CGT', 'CGG', 'AGT', 'AGG', 'GGT', 'GGG'], ['TTT', 'TTG', 'CTT', 'CTG', 'ATT', 'ATG', 'GTT', 'GTG', 'TCT', 'TCG', 'CCT', 'CCG', 'ACT', 'ACG', 'GCT', 'GCG', 'TAT', 'TAG', 'CAT', 'CAG', 'AAT', 'AAG', 'GAT', 'GAG', 'TGT', 'TGG', 'CGT', 'CGG', 'AGT', 'AGG', 'GGT', 'GGG'], ['TTT', 'TTG', 'CTT', 'CTG', 'ATG', 'GTT', 'GTG', 'TCT', 'TCG', 'CCT', 'CCG', 'ACT', 'ACG', 'GCT', 'GCG', 'TAT', 'TAG', 'CAT', 'CAG', 'AAT', 'AAG', 'GAT', 'GAG', 'TGT', 'TGG', 'CGT', 'CGG', 'AGT', 'AGG', 'GGT', 'GGG'], ['TTT', 'TTG', 'CTT', 'CTG', 'ATT', 'ATG', 'GTT', 'GTG', 'TCT', 'TCG', 'CCT', 'CCG', 'ACT', 'ACG', 'GCT', 'GCG', 'TAT', 'TAG', 'CAT', 'CAG', 'AAT', 'AAG', 'GAT', 'GAG', 'TGT', 'TGG', 'CGT', 'CGG', 'AGT', 'AGG', 'GGG'], ['TTT', 'TTG', 'CTT', 'CTG', 'ATT', 'ATG', 'GTT', 'GTG', 'TCT', 'TCG', 'CCT', 'CCG', 'ACT', 'ACG', 'GCG', 'TAT', 'TAG', 'CAT', 'CAG', 'AAT', 'AAG', 'GAT', 'GAG', 'TGT', 'TGG', 'CGT', 'CGG', 'AGT', 'AGG', 'GGT', 'GGG'], ['TTT', 'TTG', 'CTT', 'CTG', 'ATT', 'ATG', 'GTT', 'GTG', 'TCT', 'TCG', 'CCT', 'CCG', 'ACT', 'ACG', 'GCG', 'TAT', 'TAG', 'CAT', 'CAG', 'AAT', 'AAG', 'GAT', 'GAG', 'TGT', 'TGG', 'CGT', 'CGG', 'AGT', 'AGG', 'GGT', 'GGG'], ['TTT', 'CTT', 'CTG', 'ATT', 'ATG', 'GTT', 'GTG', 'TCT', 'TCG', 'CCT', 'CCG', 'ACT', 'ACG', 'GCT', 'GCG', 'TAT', 'TAG', 'CAT', 'CAG', 'AAT', 'AAG', 'GAT', 'GAG', 'TGT', 'TGG', 'CGT', 'CGG', 'AGT', 'AGG', 'GGT', 'GGG'], ['TTT', 'TTG', 'CTT', 'CTG', 'ATT', 'ATG', 'GTG', 'TCT', 'TCG', 'CCT', 'CCG', 'ACT', 'ACG', 'GCT', 'GCG', 'TAT', 'TAG', 'CAT', 'CAG', 'AAT', 'AAG', 'GAT', 'GAG', 'TGT', 'TGG', 'CGT', 'CGG', 'AGT', 'AGG', 'GGT', 'GGG'], ['TTT', 'TTG', 'CTT', 'CTG', 'ATT', 'ATG', 'GTT', 'GTG', 'TCT', 'TCG', 'CCT', 'CCG', 'ACT', 'ACG', 'GCT', 'GCG', 'TAT', 'TAG', 'CAG', 'AAT', 'AAG', 'GAT', 'GAG', 'TGT', 'TGG', 'CGT', 'CGG', 'AGT', 'AGG', 'GGT', 'GGG'], ['TTT', 'CTT', 'CTG', 'ATT', 'ATG', 'GTT', 'GTG', 'TCT', 'TCG', 'CCT', 'CCG', 'ACT', 'ACG', 'GCT', 'GCG', 'TAT', 'TAG', 'CAT', 'CAG', 'AAT', 'AAG', 'GAT', 'GAG', 'TGT', 'TGG', 'CGT', 'CGG', 'AGT', 'AGG', 'GGT', 'GGG'], ['TTT', 'TTG', 'CTT', 'CTG', 'ATT', 'ATG', 'GTT', 'GTG', 'TCT', 'TCG', 'CCT', 'CCG', 'ACT', 'ACG', 'GCT', 'GCG', 'TAT', 'TAG', 'CAT', 'CAG', 'AAT', 'AAG', 'GAT', 'GAG', 'TGT', 'TGG', 'CGT', 'CGG', 'AGT', 'AGG', 'GGT', 'GGG'], ['TTT', 'TTG', 'CTT', 'CTG', 'ATT', 'ATG', 'GTT', 'GTG', 'TCT', 'TCG', 'CCT', 'CCG', 'ACG', 'GCT', 'GCG', 'TAT', 'TAG', 'CAT', 'CAG', 'AAT', 'AAG', 'GAT', 'GAG', 'TGT', 'TGG', 'CGT', 'CGG', 'AGT', 'AGG', 'GGT', 'GGG'], ['TTT', 'TTG', 'CTT', 'CTG', 'ATT', 'ATG', 'GTT', 'GTG', 'TCG', 'CCT', 'CCG', 'ACT', 'ACG', 'GCT', 'GCG', 'TAT', 'TAG', 'CAT', 'CAG', 'AAT', 'AAG', 'GAT', 'GAG', 'TGT', 'TGG', 'CGT', 'CGG', 'AGT', 'AGG', 'GGT', 'GGG'], ['TTT', 'TTG', 'CTT', 'CTG', 'ATT', 'ATG', 'GTT', 'GTG', 'TCT', 'TCG', 'CCT', 'CCG', 'ACT', 'ACG', 'GCT', 'GCG', 'TAT', 'TAG', 'CAT', 'CAG', 'AAT', 'AAG', 'GAT', 'GAG', 'TGT', 'TGG', 'CGT', 'CGG', 'AGT', 'AGG', 'GGT', 'GGG'], ['TTT', 'TTG', 'CTT', 'CTG', 'ATG', 'GTT', 'GTG', 'TCT', 'TCG', 'CCT', 'CCG', 'ACT', 'ACG', 'GCT', 'GCG', 'TAT', 'TAG', 'CAT', 'CAG', 'AAT', 'AAG', 'GAT', 'GAG', 'TGT', 'TGG', 'CGT', 'CGG', 'AGT', 'AGG', 'GGT', 'GGG'], ['TTT', 'TTG', 'CTT', 'CTG', 'ATG', 'GTT', 'GTG', 'TCT', 'TCG', 'CCT', 'CCG', 'ACT', 'ACG', 'GCT', 'GCG', 'TAT', 'TAG', 'CAT', 'CAG', 'AAT', 'AAG', 'GAT', 'GAG', 'TGT', 'TGG', 'CGT', 'CGG', 'AGT', 'AGG', 'GGT', 'GGG'], ['TTT', 'TTG', 'CTT', 'CTG', 'ATT', 'ATG', 'GTT', 'GTG', 'TCT', 'TCG', 'CCT', 'CCG', 'ACT', 'ACG', 'GCT', 'GCG', 'TAT', 'TAG', 'CAT', 'CAG', 'AAT', 'AAG', 'GAT', 'GAG', 'TGT', 'TGG', 'CGT', 'CGG', 'AGT', 'AGG', 'GGT', 'GGG'], ['TTT', 'TTG', 'CTT', 'CTG', 'ATT', 'ATG', 'GTT', 'GTG', 'TCT', 'TCG', 'CCT', 'CCG', 'ACT', 'ACG', 'GCT', 'GCG', 'TAT', 'TAG', 'CAT', 'CAG', 'AAT', 'AAG', 'GAT', 'GAG', 'TGT', 'TGG', 'CGT', 'CGG', 'AGT', 'AGG', 'GGT', 'GGG'], ['TTT', 'TTG', 'CTT', 'CTG', 'ATT', 'ATG', 'GTT', 'GTG', 'TCT', 'TCG', 'CCT', 'CCG', 'ACT', 'ACG', 'GCT', 'GCG', 'TAT', 'TAG', 'CAT', 'CAG', 'AAT', 'AAG', 'GAT', 'GAG', 'TGT', 'TGG', 'CGT', 'CGG', 'AGT', 'AGG', 'GGG'], ['TTT', 'TTG', 'CTT', 'CTG', 'ATT', 'ATG', 'GTT', 'GTG', 'TCT', 'TCG', 'CCT', 'CCG', 'ACT', 'ACG', 'GCT', 'GCG', 'TAT', 'TAG', 'CAT', 'CAG', 'AAT', 'AAG', 'GAT', 'GAG', 'TGT', 'TGG', 'CGT', 'CGG', 'AGT', 'AGG', 'GGT', 'GGG'], ['TTT', 'TTG', 'CTT', 'CTG', 'ATT', 'ATG', 'GTT', 'GTG', 'TCT', 'TCG', 'CCT', 'CCG', 'ACT', 'ACG', 'GCT', 'GCG', 'TAT', 'TAG', 'CAT', 'CAG', 'AAT', 'AAG', 'GAT', 'GAG', 'TGT', 'TGG', 'CGT', 'CGG', 'AGT', 'AGG', 'GGT', 'GGG'], ['TTT', 'TTG', 'CTT', 'CTG', 'ATT', 'ATG', 'GTT', 'GTG', 'TCT', 'TCG', 'CCT', 'CCG', 'ACT', 'ACG', 'GCT', 'GCG', 'TAT', 'TAG', 'CAT', 'CAG', 'AAT', 'AAG', 'GAT', 'GAG', 'TGT', 'TGG', 'CGT', 'CGG', 'AGT', 'AGG', 'GGT', 'GGG'], ['TTT', 'TTG', 'CTT', 'CTG', 'ATT', 'ATG', 'GTT', 'GTG', 'TCT', 'TCG', 'CCT', 'CCG', 'ACT', 'ACG', 'GCT', 'GCG', 'TAT', 'TAG', 'CAT', 'CAG', 'AAT', 'AAG', 'GAT', 'GAG', 'TGT', 'TGG', 'CGT', 'CGG', 'AGT', 'AGG', 'GGT', 'GGG'], ['TTT', 'TTG', 'CTT', 'CTG', 'ATT', 'ATG', 'GTT', 'GTG', 'TCT', 'TCG', 'CCT', 'CCG', 'ACT', 'ACG', 'GCT', 'GCG', 'TAT', 'TAG', 'CAT', 'CAG', 'AAT', 'AAG', 'GAT', 'GAG', 'TGT', 'TGG', 'CGT', 'CGG', 'AGT', 'AGG', 'GGT', 'GGG'], ['TTT', 'TTG', 'CTT', 'CTG', 'ATT', 'ATG', 'GTT', 'GTG', 'TCT', 'TCG', 'CCT', 'CCG', 'ACT', 'ACG', 'GCT', 'GCG', 'TAT', 'TAG', 'CAT', 'CAG', 'AAT', 'AAG', 'GAT', 'GAG', 'TGT', 'TGG', 'CGT', 'CGG', 'AGT', 'AGG', 'GGT', 'GGG'], ['TTT', 'TTG', 'CTT', 'CTG', 'ATT', 'ATG', 'GTT', 'GTG', 'TCT', 'TCG', 'CCT', 'CCG', 'ACT', 'ACG', 'GCT', 'GCG', 'TAT', 'TAG', 'CAT', 'CAG', 'AAT', 'AAG', 'GAT', 'GAG', 'TGT', 'TGG', 'CGT', 'CGG', 'AGT', 'AGG', 'GGT', 'GGG'], ['TTT', 'TTG', 'CTT', 'CTG', 'ATT', 'ATG', 'GTT', 'GTG', 'TCG', 'CCT', 'CCG', 'ACT', 'ACG', 'GCT', 'GCG', 'TAT', 'TAG', 'CAT', 'CAG', 'AAT', 'AAG', 'GAT', 'GAG', 'TGT', 'TGG', 'CGT', 'CGG', 'AGT', 'AGG', 'GGT', 'GGG'], ['TTT', 'TTG', 'CTT', 'CTG', 'ATT', 'ATG', 'GTT', 'GTG', 'TCG', 'CCT', 'CCG', 'ACT', 'ACG', 'GCT', 'GCG', 'TAT', 'TAG', 'CAT', 'CAG', 'AAT', 'AAG', 'GAT', 'GAG', 'TGT', 'TGG', 'CGT', 'CGG', 'AGT', 'AGG', 'GGT', 'GGG'], ['TTT', 'TTG', 'CTT', 'CTG', 'ATT', 'ATG', 'GTT', 'GTG', 'TCT', 'TCG', 'CCT', 'CCG', 'ACT', 'ACG', 'GCT', 'GCG', 'TAT', 'TAG', 'CAT', 'CAG', 'AAT', 'AAG', 'GAT', 'GAG', 'TGT', 'TGG', 'CGT', 'CGG', 'AGT', 'AGG', 'GGT', 'GGG'], ['TTT', 'TTG', 'CTT', 'CTG', 'ATT', 'ATG', 'GTT', 'GTG', 'TCT', 'TCG', 'CCT', 'CCG', 'ACT', 'ACG', 'GCT', 'GCG', 'TAT', 'TAG', 'CAT', 'CAG', 'AAT', 'AAG', 'GAT', 'GAG', 'TGT', 'TGG', 'CGT', 'CGG', 'AGT', 'AGG', 'GGT', 'GGG'], ['TTT', 'TTG', 'CTT', 'CTG', 'ATT', 'ATG', 'GTT', 'GTG', 'TCT', 'TCG', 'CCT', 'CCG', 'ACT', 'ACG', 'GCT', 'GCG', 'TAT', 'TAG', 'CAT', 'CAG', 'AAT', 'AAG', 'GAT', 'GAG', 'TGT', 'TGG', 'CGG', 'AGT', 'AGG', 'GGT', 'GGG'], ['TTT', 'TTG', 'CTT', 'CTG', 'ATT', 'ATG', 'GTT', 'GTG', 'TCT', 'TCG', 'CCT', 'CCG', 'ACT', 'ACG', 'GCT', 'GCG', 'TAT', 'TAG', 'CAT', 'CAG', 'AAT', 'AAG', 'GAT', 'GAG', 'TGT', 'TGG', 'CGT', 'CGG', 'AGT', 'AGG', 'GGT', 'GGG'], ['TTT', 'TTG', 'CTT', 'CTG', 'ATT', 'ATG', 'GTT', 'GTG', 'TCT', 'TCG', 'CCT', 'CCG', 'ACT', 'ACG', 'GCT', 'GCG', 'TAT', 'TAG', 'CAT', 'CAG', 'AAT', 'AAG', 'GAT', 'GAG', 'TGT', 'TGG', 'CGT', 'CGG', 'AGT', 'AGG', 'GGG'], ['TTT', 'TTG', 'CTT', 'CTG', 'ATT', 'ATG', 'GTT', 'GTG', 'TCT', 'TCG', 'CCT', 'CCG', 'ACT', 'ACG', 'GCT', 'GCG', 'TAT', 'TAG', 'CAT', 'CAG', 'AAT', 'AAG', 'GAT', 'GAG', 'TGT', 'TGG', 'CGT', 'CGG', 'AGT', 'AGG', 'GGT', 'GGG'], ['TTT', 'TTG', 'CTT', 'CTG', 'ATT', 'GTT', 'GTG', 'TCT', 'TCG', 'CCT', 'CCG', 'ACT', 'ACG', 'GCT', 'GCG', 'TAT', 'TAG', 'CAT', 'CAG', 'AAT', 'AAG', 'GAT', 'GAG', 'TGT', 'TGG', 'CGT', 'CGG', 'AGT', 'AGG', 'GGT', 'GGG'], ['TTT', 'TTG', 'CTT', 'CTG', 'ATT', 'ATG', 'GTT', 'GTG', 'TCT', 'TCG', 'CCT', 'CCG', 'ACT', 'ACG', 'GCT', 'GCG', 'TAT', 'TAG', 'CAT', 'CAG', 'AAT', 'AAG', 'GAT', 'GAG', 'TGT', 'TGG', 'CGT', 'CGG', 'AGT', 'AGG', 'GGT', 'GGG'], ['TTT', 'TTG', 'CTT', 'CTG', 'ATT', 'ATG', 'GTT', 'GTG', 'TCT', 'TCG', 'CCT', 'CCG', 'ACT', 'ACG', 'GCT', 'GCG', 'TAT', 'TAG', 'CAT', 'CAG', 'AAT', 'AAG', 'GAT', 'GAG', 'TGG', 'CGT', 'CGG', 'AGT', 'AGG', 'GGT', 'GGG'], ['TTT', 'CTT', 'CTG', 'ATT', 'ATG', 'GTT', 'GTG', 'TCT', 'TCG', 'CCT', 'CCG', 'ACT', 'ACG', 'GCT', 'GCG', 'TAT', 'TAG', 'CAT', 'CAG', 'AAT', 'AAG', 'GAT', 'GAG', 'TGT', 'TGG', 'CGT', 'CGG', 'AGT', 'AGG', 'GGT', 'GGG']]"
        ]
       ],
       "shape": {
        "columns": 5,
        "rows": 1
       }
      },
      "text/html": [
       "<div>\n",
       "<style scoped>\n",
       "    .dataframe tbody tr th:only-of-type {\n",
       "        vertical-align: middle;\n",
       "    }\n",
       "\n",
       "    .dataframe tbody tr th {\n",
       "        vertical-align: top;\n",
       "    }\n",
       "\n",
       "    .dataframe thead th {\n",
       "        text-align: right;\n",
       "    }\n",
       "</style>\n",
       "<table border=\"1\" class=\"dataframe\">\n",
       "  <thead>\n",
       "    <tr style=\"text-align: right;\">\n",
       "      <th></th>\n",
       "      <th>Mutated_seq</th>\n",
       "      <th>WT_seq</th>\n",
       "      <th>nt_seq</th>\n",
       "      <th>pos</th>\n",
       "      <th>alt_codons</th>\n",
       "    </tr>\n",
       "  </thead>\n",
       "  <tbody>\n",
       "    <tr>\n",
       "      <th>0</th>\n",
       "      <td>CN_F1</td>\n",
       "      <td>TCTCCTGTTGAAGGTTCTCCAGCTAAGCCAGAAGATTACCCACACT...</td>\n",
       "      <td>TCTCCTGTTGAAGGTTCTCCAGCTAAGCCAGAAGATTACCCACACT...</td>\n",
       "      <td>[0, 1, 2, 3, 4, 5, 6, 7, 8, 9, 10, 11, 12, 13,...</td>\n",
       "      <td>[[TTT, TTG, CTT, CTG, ATT, ATG, GTT, GTG, TCG,...</td>\n",
       "    </tr>\n",
       "  </tbody>\n",
       "</table>\n",
       "</div>"
      ],
      "text/plain": [
       "  Mutated_seq                                             WT_seq  \\\n",
       "0       CN_F1  TCTCCTGTTGAAGGTTCTCCAGCTAAGCCAGAAGATTACCCACACT...   \n",
       "\n",
       "                                              nt_seq  \\\n",
       "0  TCTCCTGTTGAAGGTTCTCCAGCTAAGCCAGAAGATTACCCACACT...   \n",
       "\n",
       "                                                 pos  \\\n",
       "0  [0, 1, 2, 3, 4, 5, 6, 7, 8, 9, 10, 11, 12, 13,...   \n",
       "\n",
       "                                          alt_codons  \n",
       "0  [[TTT, TTG, CTT, CTG, ATT, ATG, GTT, GTG, TCG,...  "
      ]
     },
     "execution_count": 10,
     "metadata": {},
     "output_type": "execute_result"
    }
   ],
   "source": [
    "wt_seq = wt_df.copy()\n",
    "wt_seq[\"pos\"], wt_seq[\"alt_codons\"] = zip(\n",
    "    *wt_seq.WT_seq.apply(lambda x: get_alt_codons(x, codon_dic, single_codon_mode))\n",
    ")\n",
    "wt_seq"
   ]
  },
  {
   "cell_type": "markdown",
   "id": "7fe4b96b-cf61-4204-b1bd-0b8b43398b0c",
   "metadata": {},
   "source": [
    "### Reshape"
   ]
  },
  {
   "cell_type": "code",
   "execution_count": 11,
   "id": "da6a9281-b120-4ecb-8e5a-6123c57ebdce",
   "metadata": {},
   "outputs": [
    {
     "data": {
      "application/vnd.microsoft.datawrangler.viewer.v0+json": {
       "columns": [
        {
         "name": "index",
         "rawType": "int64",
         "type": "integer"
        },
        {
         "name": "Mutated_seq",
         "rawType": "object",
         "type": "string"
        },
        {
         "name": "WT_seq",
         "rawType": "object",
         "type": "string"
        },
        {
         "name": "nt_seq",
         "rawType": "object",
         "type": "string"
        },
        {
         "name": "pos",
         "rawType": "object",
         "type": "unknown"
        },
        {
         "name": "alt_codons",
         "rawType": "object",
         "type": "unknown"
        }
       ],
       "ref": "9adad31b-77d2-41fe-9cf2-0332fca54984",
       "rows": [
        [
         "0",
         "CN_F1",
         "TCTCCTGTTGAAGGTTCTCCAGCTAAGCCAGAAGATTACCCACACTTCATGTCCGTTGCTCACGAACAAGCTTTGAAGTCTTTGTCTGAAGGTGGTATTCCAATTGGTGCTGCTTTGGTTCATTTGCCAACTTCTAGAATTATTTCCAGAGGTCACAACAACAGAGTCCAATTATCTTCTAACGTCCGTCACGGTGAAATGGACTGTTTG",
         "TCTCCTGTTGAAGGTTCTCCAGCTAAGCCAGAAGATTACCCACACTTCATGTCCGTTGCTCACGAACAAGCTTTGAAGTCTTTGTCTGAAGGTGGTATTCCAATTGGTGCTGCTTTGGTTCATTTGCCAACTTCTAGAATTATTTCCAGAGGTCACAACAACAGAGTCCAATTATCTTCTAACGTCCGTCACGGTGAAATGGACTGTTTG",
         "0",
         "['TTT', 'TTG', 'CTT', 'CTG', 'ATT', 'ATG', 'GTT', 'GTG', 'TCG', 'CCT', 'CCG', 'ACT', 'ACG', 'GCT', 'GCG', 'TAT', 'TAG', 'CAT', 'CAG', 'AAT', 'AAG', 'GAT', 'GAG', 'TGT', 'TGG', 'CGT', 'CGG', 'AGT', 'AGG', 'GGT', 'GGG']"
        ],
        [
         "0",
         "CN_F1",
         "TCTCCTGTTGAAGGTTCTCCAGCTAAGCCAGAAGATTACCCACACTTCATGTCCGTTGCTCACGAACAAGCTTTGAAGTCTTTGTCTGAAGGTGGTATTCCAATTGGTGCTGCTTTGGTTCATTTGCCAACTTCTAGAATTATTTCCAGAGGTCACAACAACAGAGTCCAATTATCTTCTAACGTCCGTCACGGTGAAATGGACTGTTTG",
         "TCTCCTGTTGAAGGTTCTCCAGCTAAGCCAGAAGATTACCCACACTTCATGTCCGTTGCTCACGAACAAGCTTTGAAGTCTTTGTCTGAAGGTGGTATTCCAATTGGTGCTGCTTTGGTTCATTTGCCAACTTCTAGAATTATTTCCAGAGGTCACAACAACAGAGTCCAATTATCTTCTAACGTCCGTCACGGTGAAATGGACTGTTTG",
         "1",
         "['TTT', 'TTG', 'CTT', 'CTG', 'ATT', 'ATG', 'GTT', 'GTG', 'TCT', 'TCG', 'CCG', 'ACT', 'ACG', 'GCT', 'GCG', 'TAT', 'TAG', 'CAT', 'CAG', 'AAT', 'AAG', 'GAT', 'GAG', 'TGT', 'TGG', 'CGT', 'CGG', 'AGT', 'AGG', 'GGT', 'GGG']"
        ]
       ],
       "shape": {
        "columns": 5,
        "rows": 2
       }
      },
      "text/html": [
       "<div>\n",
       "<style scoped>\n",
       "    .dataframe tbody tr th:only-of-type {\n",
       "        vertical-align: middle;\n",
       "    }\n",
       "\n",
       "    .dataframe tbody tr th {\n",
       "        vertical-align: top;\n",
       "    }\n",
       "\n",
       "    .dataframe thead th {\n",
       "        text-align: right;\n",
       "    }\n",
       "</style>\n",
       "<table border=\"1\" class=\"dataframe\">\n",
       "  <thead>\n",
       "    <tr style=\"text-align: right;\">\n",
       "      <th></th>\n",
       "      <th>Mutated_seq</th>\n",
       "      <th>WT_seq</th>\n",
       "      <th>nt_seq</th>\n",
       "      <th>pos</th>\n",
       "      <th>alt_codons</th>\n",
       "    </tr>\n",
       "  </thead>\n",
       "  <tbody>\n",
       "    <tr>\n",
       "      <th>0</th>\n",
       "      <td>CN_F1</td>\n",
       "      <td>TCTCCTGTTGAAGGTTCTCCAGCTAAGCCAGAAGATTACCCACACT...</td>\n",
       "      <td>TCTCCTGTTGAAGGTTCTCCAGCTAAGCCAGAAGATTACCCACACT...</td>\n",
       "      <td>0</td>\n",
       "      <td>[TTT, TTG, CTT, CTG, ATT, ATG, GTT, GTG, TCG, ...</td>\n",
       "    </tr>\n",
       "    <tr>\n",
       "      <th>0</th>\n",
       "      <td>CN_F1</td>\n",
       "      <td>TCTCCTGTTGAAGGTTCTCCAGCTAAGCCAGAAGATTACCCACACT...</td>\n",
       "      <td>TCTCCTGTTGAAGGTTCTCCAGCTAAGCCAGAAGATTACCCACACT...</td>\n",
       "      <td>1</td>\n",
       "      <td>[TTT, TTG, CTT, CTG, ATT, ATG, GTT, GTG, TCT, ...</td>\n",
       "    </tr>\n",
       "  </tbody>\n",
       "</table>\n",
       "</div>"
      ],
      "text/plain": [
       "  Mutated_seq                                             WT_seq  \\\n",
       "0       CN_F1  TCTCCTGTTGAAGGTTCTCCAGCTAAGCCAGAAGATTACCCACACT...   \n",
       "0       CN_F1  TCTCCTGTTGAAGGTTCTCCAGCTAAGCCAGAAGATTACCCACACT...   \n",
       "\n",
       "                                              nt_seq pos  \\\n",
       "0  TCTCCTGTTGAAGGTTCTCCAGCTAAGCCAGAAGATTACCCACACT...   0   \n",
       "0  TCTCCTGTTGAAGGTTCTCCAGCTAAGCCAGAAGATTACCCACACT...   1   \n",
       "\n",
       "                                          alt_codons  \n",
       "0  [TTT, TTG, CTT, CTG, ATT, ATG, GTT, GTG, TCG, ...  \n",
       "0  [TTT, TTG, CTT, CTG, ATT, ATG, GTT, GTG, TCT, ...  "
      ]
     },
     "execution_count": 11,
     "metadata": {},
     "output_type": "execute_result"
    }
   ],
   "source": [
    "singles_compact = wt_seq.explode([\"pos\", \"alt_codons\"])\n",
    "singles_compact.head(2)"
   ]
  },
  {
   "cell_type": "code",
   "execution_count": 12,
   "id": "7e53e333-afe5-46c7-ae13-9561f56372f9",
   "metadata": {},
   "outputs": [
    {
     "data": {
      "application/vnd.microsoft.datawrangler.viewer.v0+json": {
       "columns": [
        {
         "name": "index",
         "rawType": "int64",
         "type": "integer"
        },
        {
         "name": "Mutated_seq",
         "rawType": "object",
         "type": "string"
        },
        {
         "name": "WT_seq",
         "rawType": "object",
         "type": "string"
        },
        {
         "name": "nt_seq",
         "rawType": "object",
         "type": "string"
        },
        {
         "name": "pos",
         "rawType": "object",
         "type": "unknown"
        },
        {
         "name": "alt_codons",
         "rawType": "object",
         "type": "string"
        }
       ],
       "ref": "970c206f-d013-4998-bddc-1fe07733075c",
       "rows": [
        [
         "0",
         "CN_F1",
         "TCTCCTGTTGAAGGTTCTCCAGCTAAGCCAGAAGATTACCCACACTTCATGTCCGTTGCTCACGAACAAGCTTTGAAGTCTTTGTCTGAAGGTGGTATTCCAATTGGTGCTGCTTTGGTTCATTTGCCAACTTCTAGAATTATTTCCAGAGGTCACAACAACAGAGTCCAATTATCTTCTAACGTCCGTCACGGTGAAATGGACTGTTTG",
         "TCTCCTGTTGAAGGTTCTCCAGCTAAGCCAGAAGATTACCCACACTTCATGTCCGTTGCTCACGAACAAGCTTTGAAGTCTTTGTCTGAAGGTGGTATTCCAATTGGTGCTGCTTTGGTTCATTTGCCAACTTCTAGAATTATTTCCAGAGGTCACAACAACAGAGTCCAATTATCTTCTAACGTCCGTCACGGTGAAATGGACTGTTTG",
         "0",
         "TTT"
        ],
        [
         "0",
         "CN_F1",
         "TCTCCTGTTGAAGGTTCTCCAGCTAAGCCAGAAGATTACCCACACTTCATGTCCGTTGCTCACGAACAAGCTTTGAAGTCTTTGTCTGAAGGTGGTATTCCAATTGGTGCTGCTTTGGTTCATTTGCCAACTTCTAGAATTATTTCCAGAGGTCACAACAACAGAGTCCAATTATCTTCTAACGTCCGTCACGGTGAAATGGACTGTTTG",
         "TCTCCTGTTGAAGGTTCTCCAGCTAAGCCAGAAGATTACCCACACTTCATGTCCGTTGCTCACGAACAAGCTTTGAAGTCTTTGTCTGAAGGTGGTATTCCAATTGGTGCTGCTTTGGTTCATTTGCCAACTTCTAGAATTATTTCCAGAGGTCACAACAACAGAGTCCAATTATCTTCTAACGTCCGTCACGGTGAAATGGACTGTTTG",
         "0",
         "TTG"
        ],
        [
         "0",
         "CN_F1",
         "TCTCCTGTTGAAGGTTCTCCAGCTAAGCCAGAAGATTACCCACACTTCATGTCCGTTGCTCACGAACAAGCTTTGAAGTCTTTGTCTGAAGGTGGTATTCCAATTGGTGCTGCTTTGGTTCATTTGCCAACTTCTAGAATTATTTCCAGAGGTCACAACAACAGAGTCCAATTATCTTCTAACGTCCGTCACGGTGAAATGGACTGTTTG",
         "TCTCCTGTTGAAGGTTCTCCAGCTAAGCCAGAAGATTACCCACACTTCATGTCCGTTGCTCACGAACAAGCTTTGAAGTCTTTGTCTGAAGGTGGTATTCCAATTGGTGCTGCTTTGGTTCATTTGCCAACTTCTAGAATTATTTCCAGAGGTCACAACAACAGAGTCCAATTATCTTCTAACGTCCGTCACGGTGAAATGGACTGTTTG",
         "0",
         "CTT"
        ],
        [
         "0",
         "CN_F1",
         "TCTCCTGTTGAAGGTTCTCCAGCTAAGCCAGAAGATTACCCACACTTCATGTCCGTTGCTCACGAACAAGCTTTGAAGTCTTTGTCTGAAGGTGGTATTCCAATTGGTGCTGCTTTGGTTCATTTGCCAACTTCTAGAATTATTTCCAGAGGTCACAACAACAGAGTCCAATTATCTTCTAACGTCCGTCACGGTGAAATGGACTGTTTG",
         "TCTCCTGTTGAAGGTTCTCCAGCTAAGCCAGAAGATTACCCACACTTCATGTCCGTTGCTCACGAACAAGCTTTGAAGTCTTTGTCTGAAGGTGGTATTCCAATTGGTGCTGCTTTGGTTCATTTGCCAACTTCTAGAATTATTTCCAGAGGTCACAACAACAGAGTCCAATTATCTTCTAACGTCCGTCACGGTGAAATGGACTGTTTG",
         "0",
         "CTG"
        ],
        [
         "0",
         "CN_F1",
         "TCTCCTGTTGAAGGTTCTCCAGCTAAGCCAGAAGATTACCCACACTTCATGTCCGTTGCTCACGAACAAGCTTTGAAGTCTTTGTCTGAAGGTGGTATTCCAATTGGTGCTGCTTTGGTTCATTTGCCAACTTCTAGAATTATTTCCAGAGGTCACAACAACAGAGTCCAATTATCTTCTAACGTCCGTCACGGTGAAATGGACTGTTTG",
         "TCTCCTGTTGAAGGTTCTCCAGCTAAGCCAGAAGATTACCCACACTTCATGTCCGTTGCTCACGAACAAGCTTTGAAGTCTTTGTCTGAAGGTGGTATTCCAATTGGTGCTGCTTTGGTTCATTTGCCAACTTCTAGAATTATTTCCAGAGGTCACAACAACAGAGTCCAATTATCTTCTAACGTCCGTCACGGTGAAATGGACTGTTTG",
         "0",
         "ATT"
        ],
        [
         "0",
         "CN_F1",
         "TCTCCTGTTGAAGGTTCTCCAGCTAAGCCAGAAGATTACCCACACTTCATGTCCGTTGCTCACGAACAAGCTTTGAAGTCTTTGTCTGAAGGTGGTATTCCAATTGGTGCTGCTTTGGTTCATTTGCCAACTTCTAGAATTATTTCCAGAGGTCACAACAACAGAGTCCAATTATCTTCTAACGTCCGTCACGGTGAAATGGACTGTTTG",
         "TCTCCTGTTGAAGGTTCTCCAGCTAAGCCAGAAGATTACCCACACTTCATGTCCGTTGCTCACGAACAAGCTTTGAAGTCTTTGTCTGAAGGTGGTATTCCAATTGGTGCTGCTTTGGTTCATTTGCCAACTTCTAGAATTATTTCCAGAGGTCACAACAACAGAGTCCAATTATCTTCTAACGTCCGTCACGGTGAAATGGACTGTTTG",
         "0",
         "ATG"
        ],
        [
         "0",
         "CN_F1",
         "TCTCCTGTTGAAGGTTCTCCAGCTAAGCCAGAAGATTACCCACACTTCATGTCCGTTGCTCACGAACAAGCTTTGAAGTCTTTGTCTGAAGGTGGTATTCCAATTGGTGCTGCTTTGGTTCATTTGCCAACTTCTAGAATTATTTCCAGAGGTCACAACAACAGAGTCCAATTATCTTCTAACGTCCGTCACGGTGAAATGGACTGTTTG",
         "TCTCCTGTTGAAGGTTCTCCAGCTAAGCCAGAAGATTACCCACACTTCATGTCCGTTGCTCACGAACAAGCTTTGAAGTCTTTGTCTGAAGGTGGTATTCCAATTGGTGCTGCTTTGGTTCATTTGCCAACTTCTAGAATTATTTCCAGAGGTCACAACAACAGAGTCCAATTATCTTCTAACGTCCGTCACGGTGAAATGGACTGTTTG",
         "0",
         "GTT"
        ],
        [
         "0",
         "CN_F1",
         "TCTCCTGTTGAAGGTTCTCCAGCTAAGCCAGAAGATTACCCACACTTCATGTCCGTTGCTCACGAACAAGCTTTGAAGTCTTTGTCTGAAGGTGGTATTCCAATTGGTGCTGCTTTGGTTCATTTGCCAACTTCTAGAATTATTTCCAGAGGTCACAACAACAGAGTCCAATTATCTTCTAACGTCCGTCACGGTGAAATGGACTGTTTG",
         "TCTCCTGTTGAAGGTTCTCCAGCTAAGCCAGAAGATTACCCACACTTCATGTCCGTTGCTCACGAACAAGCTTTGAAGTCTTTGTCTGAAGGTGGTATTCCAATTGGTGCTGCTTTGGTTCATTTGCCAACTTCTAGAATTATTTCCAGAGGTCACAACAACAGAGTCCAATTATCTTCTAACGTCCGTCACGGTGAAATGGACTGTTTG",
         "0",
         "GTG"
        ],
        [
         "0",
         "CN_F1",
         "TCTCCTGTTGAAGGTTCTCCAGCTAAGCCAGAAGATTACCCACACTTCATGTCCGTTGCTCACGAACAAGCTTTGAAGTCTTTGTCTGAAGGTGGTATTCCAATTGGTGCTGCTTTGGTTCATTTGCCAACTTCTAGAATTATTTCCAGAGGTCACAACAACAGAGTCCAATTATCTTCTAACGTCCGTCACGGTGAAATGGACTGTTTG",
         "TCTCCTGTTGAAGGTTCTCCAGCTAAGCCAGAAGATTACCCACACTTCATGTCCGTTGCTCACGAACAAGCTTTGAAGTCTTTGTCTGAAGGTGGTATTCCAATTGGTGCTGCTTTGGTTCATTTGCCAACTTCTAGAATTATTTCCAGAGGTCACAACAACAGAGTCCAATTATCTTCTAACGTCCGTCACGGTGAAATGGACTGTTTG",
         "0",
         "TCG"
        ],
        [
         "0",
         "CN_F1",
         "TCTCCTGTTGAAGGTTCTCCAGCTAAGCCAGAAGATTACCCACACTTCATGTCCGTTGCTCACGAACAAGCTTTGAAGTCTTTGTCTGAAGGTGGTATTCCAATTGGTGCTGCTTTGGTTCATTTGCCAACTTCTAGAATTATTTCCAGAGGTCACAACAACAGAGTCCAATTATCTTCTAACGTCCGTCACGGTGAAATGGACTGTTTG",
         "TCTCCTGTTGAAGGTTCTCCAGCTAAGCCAGAAGATTACCCACACTTCATGTCCGTTGCTCACGAACAAGCTTTGAAGTCTTTGTCTGAAGGTGGTATTCCAATTGGTGCTGCTTTGGTTCATTTGCCAACTTCTAGAATTATTTCCAGAGGTCACAACAACAGAGTCCAATTATCTTCTAACGTCCGTCACGGTGAAATGGACTGTTTG",
         "0",
         "CCT"
        ],
        [
         "0",
         "CN_F1",
         "TCTCCTGTTGAAGGTTCTCCAGCTAAGCCAGAAGATTACCCACACTTCATGTCCGTTGCTCACGAACAAGCTTTGAAGTCTTTGTCTGAAGGTGGTATTCCAATTGGTGCTGCTTTGGTTCATTTGCCAACTTCTAGAATTATTTCCAGAGGTCACAACAACAGAGTCCAATTATCTTCTAACGTCCGTCACGGTGAAATGGACTGTTTG",
         "TCTCCTGTTGAAGGTTCTCCAGCTAAGCCAGAAGATTACCCACACTTCATGTCCGTTGCTCACGAACAAGCTTTGAAGTCTTTGTCTGAAGGTGGTATTCCAATTGGTGCTGCTTTGGTTCATTTGCCAACTTCTAGAATTATTTCCAGAGGTCACAACAACAGAGTCCAATTATCTTCTAACGTCCGTCACGGTGAAATGGACTGTTTG",
         "0",
         "CCG"
        ],
        [
         "0",
         "CN_F1",
         "TCTCCTGTTGAAGGTTCTCCAGCTAAGCCAGAAGATTACCCACACTTCATGTCCGTTGCTCACGAACAAGCTTTGAAGTCTTTGTCTGAAGGTGGTATTCCAATTGGTGCTGCTTTGGTTCATTTGCCAACTTCTAGAATTATTTCCAGAGGTCACAACAACAGAGTCCAATTATCTTCTAACGTCCGTCACGGTGAAATGGACTGTTTG",
         "TCTCCTGTTGAAGGTTCTCCAGCTAAGCCAGAAGATTACCCACACTTCATGTCCGTTGCTCACGAACAAGCTTTGAAGTCTTTGTCTGAAGGTGGTATTCCAATTGGTGCTGCTTTGGTTCATTTGCCAACTTCTAGAATTATTTCCAGAGGTCACAACAACAGAGTCCAATTATCTTCTAACGTCCGTCACGGTGAAATGGACTGTTTG",
         "0",
         "ACT"
        ],
        [
         "0",
         "CN_F1",
         "TCTCCTGTTGAAGGTTCTCCAGCTAAGCCAGAAGATTACCCACACTTCATGTCCGTTGCTCACGAACAAGCTTTGAAGTCTTTGTCTGAAGGTGGTATTCCAATTGGTGCTGCTTTGGTTCATTTGCCAACTTCTAGAATTATTTCCAGAGGTCACAACAACAGAGTCCAATTATCTTCTAACGTCCGTCACGGTGAAATGGACTGTTTG",
         "TCTCCTGTTGAAGGTTCTCCAGCTAAGCCAGAAGATTACCCACACTTCATGTCCGTTGCTCACGAACAAGCTTTGAAGTCTTTGTCTGAAGGTGGTATTCCAATTGGTGCTGCTTTGGTTCATTTGCCAACTTCTAGAATTATTTCCAGAGGTCACAACAACAGAGTCCAATTATCTTCTAACGTCCGTCACGGTGAAATGGACTGTTTG",
         "0",
         "ACG"
        ],
        [
         "0",
         "CN_F1",
         "TCTCCTGTTGAAGGTTCTCCAGCTAAGCCAGAAGATTACCCACACTTCATGTCCGTTGCTCACGAACAAGCTTTGAAGTCTTTGTCTGAAGGTGGTATTCCAATTGGTGCTGCTTTGGTTCATTTGCCAACTTCTAGAATTATTTCCAGAGGTCACAACAACAGAGTCCAATTATCTTCTAACGTCCGTCACGGTGAAATGGACTGTTTG",
         "TCTCCTGTTGAAGGTTCTCCAGCTAAGCCAGAAGATTACCCACACTTCATGTCCGTTGCTCACGAACAAGCTTTGAAGTCTTTGTCTGAAGGTGGTATTCCAATTGGTGCTGCTTTGGTTCATTTGCCAACTTCTAGAATTATTTCCAGAGGTCACAACAACAGAGTCCAATTATCTTCTAACGTCCGTCACGGTGAAATGGACTGTTTG",
         "0",
         "GCT"
        ],
        [
         "0",
         "CN_F1",
         "TCTCCTGTTGAAGGTTCTCCAGCTAAGCCAGAAGATTACCCACACTTCATGTCCGTTGCTCACGAACAAGCTTTGAAGTCTTTGTCTGAAGGTGGTATTCCAATTGGTGCTGCTTTGGTTCATTTGCCAACTTCTAGAATTATTTCCAGAGGTCACAACAACAGAGTCCAATTATCTTCTAACGTCCGTCACGGTGAAATGGACTGTTTG",
         "TCTCCTGTTGAAGGTTCTCCAGCTAAGCCAGAAGATTACCCACACTTCATGTCCGTTGCTCACGAACAAGCTTTGAAGTCTTTGTCTGAAGGTGGTATTCCAATTGGTGCTGCTTTGGTTCATTTGCCAACTTCTAGAATTATTTCCAGAGGTCACAACAACAGAGTCCAATTATCTTCTAACGTCCGTCACGGTGAAATGGACTGTTTG",
         "0",
         "GCG"
        ],
        [
         "0",
         "CN_F1",
         "TCTCCTGTTGAAGGTTCTCCAGCTAAGCCAGAAGATTACCCACACTTCATGTCCGTTGCTCACGAACAAGCTTTGAAGTCTTTGTCTGAAGGTGGTATTCCAATTGGTGCTGCTTTGGTTCATTTGCCAACTTCTAGAATTATTTCCAGAGGTCACAACAACAGAGTCCAATTATCTTCTAACGTCCGTCACGGTGAAATGGACTGTTTG",
         "TCTCCTGTTGAAGGTTCTCCAGCTAAGCCAGAAGATTACCCACACTTCATGTCCGTTGCTCACGAACAAGCTTTGAAGTCTTTGTCTGAAGGTGGTATTCCAATTGGTGCTGCTTTGGTTCATTTGCCAACTTCTAGAATTATTTCCAGAGGTCACAACAACAGAGTCCAATTATCTTCTAACGTCCGTCACGGTGAAATGGACTGTTTG",
         "0",
         "TAT"
        ],
        [
         "0",
         "CN_F1",
         "TCTCCTGTTGAAGGTTCTCCAGCTAAGCCAGAAGATTACCCACACTTCATGTCCGTTGCTCACGAACAAGCTTTGAAGTCTTTGTCTGAAGGTGGTATTCCAATTGGTGCTGCTTTGGTTCATTTGCCAACTTCTAGAATTATTTCCAGAGGTCACAACAACAGAGTCCAATTATCTTCTAACGTCCGTCACGGTGAAATGGACTGTTTG",
         "TCTCCTGTTGAAGGTTCTCCAGCTAAGCCAGAAGATTACCCACACTTCATGTCCGTTGCTCACGAACAAGCTTTGAAGTCTTTGTCTGAAGGTGGTATTCCAATTGGTGCTGCTTTGGTTCATTTGCCAACTTCTAGAATTATTTCCAGAGGTCACAACAACAGAGTCCAATTATCTTCTAACGTCCGTCACGGTGAAATGGACTGTTTG",
         "0",
         "TAG"
        ],
        [
         "0",
         "CN_F1",
         "TCTCCTGTTGAAGGTTCTCCAGCTAAGCCAGAAGATTACCCACACTTCATGTCCGTTGCTCACGAACAAGCTTTGAAGTCTTTGTCTGAAGGTGGTATTCCAATTGGTGCTGCTTTGGTTCATTTGCCAACTTCTAGAATTATTTCCAGAGGTCACAACAACAGAGTCCAATTATCTTCTAACGTCCGTCACGGTGAAATGGACTGTTTG",
         "TCTCCTGTTGAAGGTTCTCCAGCTAAGCCAGAAGATTACCCACACTTCATGTCCGTTGCTCACGAACAAGCTTTGAAGTCTTTGTCTGAAGGTGGTATTCCAATTGGTGCTGCTTTGGTTCATTTGCCAACTTCTAGAATTATTTCCAGAGGTCACAACAACAGAGTCCAATTATCTTCTAACGTCCGTCACGGTGAAATGGACTGTTTG",
         "0",
         "CAT"
        ],
        [
         "0",
         "CN_F1",
         "TCTCCTGTTGAAGGTTCTCCAGCTAAGCCAGAAGATTACCCACACTTCATGTCCGTTGCTCACGAACAAGCTTTGAAGTCTTTGTCTGAAGGTGGTATTCCAATTGGTGCTGCTTTGGTTCATTTGCCAACTTCTAGAATTATTTCCAGAGGTCACAACAACAGAGTCCAATTATCTTCTAACGTCCGTCACGGTGAAATGGACTGTTTG",
         "TCTCCTGTTGAAGGTTCTCCAGCTAAGCCAGAAGATTACCCACACTTCATGTCCGTTGCTCACGAACAAGCTTTGAAGTCTTTGTCTGAAGGTGGTATTCCAATTGGTGCTGCTTTGGTTCATTTGCCAACTTCTAGAATTATTTCCAGAGGTCACAACAACAGAGTCCAATTATCTTCTAACGTCCGTCACGGTGAAATGGACTGTTTG",
         "0",
         "CAG"
        ],
        [
         "0",
         "CN_F1",
         "TCTCCTGTTGAAGGTTCTCCAGCTAAGCCAGAAGATTACCCACACTTCATGTCCGTTGCTCACGAACAAGCTTTGAAGTCTTTGTCTGAAGGTGGTATTCCAATTGGTGCTGCTTTGGTTCATTTGCCAACTTCTAGAATTATTTCCAGAGGTCACAACAACAGAGTCCAATTATCTTCTAACGTCCGTCACGGTGAAATGGACTGTTTG",
         "TCTCCTGTTGAAGGTTCTCCAGCTAAGCCAGAAGATTACCCACACTTCATGTCCGTTGCTCACGAACAAGCTTTGAAGTCTTTGTCTGAAGGTGGTATTCCAATTGGTGCTGCTTTGGTTCATTTGCCAACTTCTAGAATTATTTCCAGAGGTCACAACAACAGAGTCCAATTATCTTCTAACGTCCGTCACGGTGAAATGGACTGTTTG",
         "0",
         "AAT"
        ],
        [
         "0",
         "CN_F1",
         "TCTCCTGTTGAAGGTTCTCCAGCTAAGCCAGAAGATTACCCACACTTCATGTCCGTTGCTCACGAACAAGCTTTGAAGTCTTTGTCTGAAGGTGGTATTCCAATTGGTGCTGCTTTGGTTCATTTGCCAACTTCTAGAATTATTTCCAGAGGTCACAACAACAGAGTCCAATTATCTTCTAACGTCCGTCACGGTGAAATGGACTGTTTG",
         "TCTCCTGTTGAAGGTTCTCCAGCTAAGCCAGAAGATTACCCACACTTCATGTCCGTTGCTCACGAACAAGCTTTGAAGTCTTTGTCTGAAGGTGGTATTCCAATTGGTGCTGCTTTGGTTCATTTGCCAACTTCTAGAATTATTTCCAGAGGTCACAACAACAGAGTCCAATTATCTTCTAACGTCCGTCACGGTGAAATGGACTGTTTG",
         "0",
         "AAG"
        ],
        [
         "0",
         "CN_F1",
         "TCTCCTGTTGAAGGTTCTCCAGCTAAGCCAGAAGATTACCCACACTTCATGTCCGTTGCTCACGAACAAGCTTTGAAGTCTTTGTCTGAAGGTGGTATTCCAATTGGTGCTGCTTTGGTTCATTTGCCAACTTCTAGAATTATTTCCAGAGGTCACAACAACAGAGTCCAATTATCTTCTAACGTCCGTCACGGTGAAATGGACTGTTTG",
         "TCTCCTGTTGAAGGTTCTCCAGCTAAGCCAGAAGATTACCCACACTTCATGTCCGTTGCTCACGAACAAGCTTTGAAGTCTTTGTCTGAAGGTGGTATTCCAATTGGTGCTGCTTTGGTTCATTTGCCAACTTCTAGAATTATTTCCAGAGGTCACAACAACAGAGTCCAATTATCTTCTAACGTCCGTCACGGTGAAATGGACTGTTTG",
         "0",
         "GAT"
        ],
        [
         "0",
         "CN_F1",
         "TCTCCTGTTGAAGGTTCTCCAGCTAAGCCAGAAGATTACCCACACTTCATGTCCGTTGCTCACGAACAAGCTTTGAAGTCTTTGTCTGAAGGTGGTATTCCAATTGGTGCTGCTTTGGTTCATTTGCCAACTTCTAGAATTATTTCCAGAGGTCACAACAACAGAGTCCAATTATCTTCTAACGTCCGTCACGGTGAAATGGACTGTTTG",
         "TCTCCTGTTGAAGGTTCTCCAGCTAAGCCAGAAGATTACCCACACTTCATGTCCGTTGCTCACGAACAAGCTTTGAAGTCTTTGTCTGAAGGTGGTATTCCAATTGGTGCTGCTTTGGTTCATTTGCCAACTTCTAGAATTATTTCCAGAGGTCACAACAACAGAGTCCAATTATCTTCTAACGTCCGTCACGGTGAAATGGACTGTTTG",
         "0",
         "GAG"
        ],
        [
         "0",
         "CN_F1",
         "TCTCCTGTTGAAGGTTCTCCAGCTAAGCCAGAAGATTACCCACACTTCATGTCCGTTGCTCACGAACAAGCTTTGAAGTCTTTGTCTGAAGGTGGTATTCCAATTGGTGCTGCTTTGGTTCATTTGCCAACTTCTAGAATTATTTCCAGAGGTCACAACAACAGAGTCCAATTATCTTCTAACGTCCGTCACGGTGAAATGGACTGTTTG",
         "TCTCCTGTTGAAGGTTCTCCAGCTAAGCCAGAAGATTACCCACACTTCATGTCCGTTGCTCACGAACAAGCTTTGAAGTCTTTGTCTGAAGGTGGTATTCCAATTGGTGCTGCTTTGGTTCATTTGCCAACTTCTAGAATTATTTCCAGAGGTCACAACAACAGAGTCCAATTATCTTCTAACGTCCGTCACGGTGAAATGGACTGTTTG",
         "0",
         "TGT"
        ],
        [
         "0",
         "CN_F1",
         "TCTCCTGTTGAAGGTTCTCCAGCTAAGCCAGAAGATTACCCACACTTCATGTCCGTTGCTCACGAACAAGCTTTGAAGTCTTTGTCTGAAGGTGGTATTCCAATTGGTGCTGCTTTGGTTCATTTGCCAACTTCTAGAATTATTTCCAGAGGTCACAACAACAGAGTCCAATTATCTTCTAACGTCCGTCACGGTGAAATGGACTGTTTG",
         "TCTCCTGTTGAAGGTTCTCCAGCTAAGCCAGAAGATTACCCACACTTCATGTCCGTTGCTCACGAACAAGCTTTGAAGTCTTTGTCTGAAGGTGGTATTCCAATTGGTGCTGCTTTGGTTCATTTGCCAACTTCTAGAATTATTTCCAGAGGTCACAACAACAGAGTCCAATTATCTTCTAACGTCCGTCACGGTGAAATGGACTGTTTG",
         "0",
         "TGG"
        ],
        [
         "0",
         "CN_F1",
         "TCTCCTGTTGAAGGTTCTCCAGCTAAGCCAGAAGATTACCCACACTTCATGTCCGTTGCTCACGAACAAGCTTTGAAGTCTTTGTCTGAAGGTGGTATTCCAATTGGTGCTGCTTTGGTTCATTTGCCAACTTCTAGAATTATTTCCAGAGGTCACAACAACAGAGTCCAATTATCTTCTAACGTCCGTCACGGTGAAATGGACTGTTTG",
         "TCTCCTGTTGAAGGTTCTCCAGCTAAGCCAGAAGATTACCCACACTTCATGTCCGTTGCTCACGAACAAGCTTTGAAGTCTTTGTCTGAAGGTGGTATTCCAATTGGTGCTGCTTTGGTTCATTTGCCAACTTCTAGAATTATTTCCAGAGGTCACAACAACAGAGTCCAATTATCTTCTAACGTCCGTCACGGTGAAATGGACTGTTTG",
         "0",
         "CGT"
        ],
        [
         "0",
         "CN_F1",
         "TCTCCTGTTGAAGGTTCTCCAGCTAAGCCAGAAGATTACCCACACTTCATGTCCGTTGCTCACGAACAAGCTTTGAAGTCTTTGTCTGAAGGTGGTATTCCAATTGGTGCTGCTTTGGTTCATTTGCCAACTTCTAGAATTATTTCCAGAGGTCACAACAACAGAGTCCAATTATCTTCTAACGTCCGTCACGGTGAAATGGACTGTTTG",
         "TCTCCTGTTGAAGGTTCTCCAGCTAAGCCAGAAGATTACCCACACTTCATGTCCGTTGCTCACGAACAAGCTTTGAAGTCTTTGTCTGAAGGTGGTATTCCAATTGGTGCTGCTTTGGTTCATTTGCCAACTTCTAGAATTATTTCCAGAGGTCACAACAACAGAGTCCAATTATCTTCTAACGTCCGTCACGGTGAAATGGACTGTTTG",
         "0",
         "CGG"
        ],
        [
         "0",
         "CN_F1",
         "TCTCCTGTTGAAGGTTCTCCAGCTAAGCCAGAAGATTACCCACACTTCATGTCCGTTGCTCACGAACAAGCTTTGAAGTCTTTGTCTGAAGGTGGTATTCCAATTGGTGCTGCTTTGGTTCATTTGCCAACTTCTAGAATTATTTCCAGAGGTCACAACAACAGAGTCCAATTATCTTCTAACGTCCGTCACGGTGAAATGGACTGTTTG",
         "TCTCCTGTTGAAGGTTCTCCAGCTAAGCCAGAAGATTACCCACACTTCATGTCCGTTGCTCACGAACAAGCTTTGAAGTCTTTGTCTGAAGGTGGTATTCCAATTGGTGCTGCTTTGGTTCATTTGCCAACTTCTAGAATTATTTCCAGAGGTCACAACAACAGAGTCCAATTATCTTCTAACGTCCGTCACGGTGAAATGGACTGTTTG",
         "0",
         "AGT"
        ],
        [
         "0",
         "CN_F1",
         "TCTCCTGTTGAAGGTTCTCCAGCTAAGCCAGAAGATTACCCACACTTCATGTCCGTTGCTCACGAACAAGCTTTGAAGTCTTTGTCTGAAGGTGGTATTCCAATTGGTGCTGCTTTGGTTCATTTGCCAACTTCTAGAATTATTTCCAGAGGTCACAACAACAGAGTCCAATTATCTTCTAACGTCCGTCACGGTGAAATGGACTGTTTG",
         "TCTCCTGTTGAAGGTTCTCCAGCTAAGCCAGAAGATTACCCACACTTCATGTCCGTTGCTCACGAACAAGCTTTGAAGTCTTTGTCTGAAGGTGGTATTCCAATTGGTGCTGCTTTGGTTCATTTGCCAACTTCTAGAATTATTTCCAGAGGTCACAACAACAGAGTCCAATTATCTTCTAACGTCCGTCACGGTGAAATGGACTGTTTG",
         "0",
         "AGG"
        ],
        [
         "0",
         "CN_F1",
         "TCTCCTGTTGAAGGTTCTCCAGCTAAGCCAGAAGATTACCCACACTTCATGTCCGTTGCTCACGAACAAGCTTTGAAGTCTTTGTCTGAAGGTGGTATTCCAATTGGTGCTGCTTTGGTTCATTTGCCAACTTCTAGAATTATTTCCAGAGGTCACAACAACAGAGTCCAATTATCTTCTAACGTCCGTCACGGTGAAATGGACTGTTTG",
         "TCTCCTGTTGAAGGTTCTCCAGCTAAGCCAGAAGATTACCCACACTTCATGTCCGTTGCTCACGAACAAGCTTTGAAGTCTTTGTCTGAAGGTGGTATTCCAATTGGTGCTGCTTTGGTTCATTTGCCAACTTCTAGAATTATTTCCAGAGGTCACAACAACAGAGTCCAATTATCTTCTAACGTCCGTCACGGTGAAATGGACTGTTTG",
         "0",
         "GGT"
        ],
        [
         "0",
         "CN_F1",
         "TCTCCTGTTGAAGGTTCTCCAGCTAAGCCAGAAGATTACCCACACTTCATGTCCGTTGCTCACGAACAAGCTTTGAAGTCTTTGTCTGAAGGTGGTATTCCAATTGGTGCTGCTTTGGTTCATTTGCCAACTTCTAGAATTATTTCCAGAGGTCACAACAACAGAGTCCAATTATCTTCTAACGTCCGTCACGGTGAAATGGACTGTTTG",
         "TCTCCTGTTGAAGGTTCTCCAGCTAAGCCAGAAGATTACCCACACTTCATGTCCGTTGCTCACGAACAAGCTTTGAAGTCTTTGTCTGAAGGTGGTATTCCAATTGGTGCTGCTTTGGTTCATTTGCCAACTTCTAGAATTATTTCCAGAGGTCACAACAACAGAGTCCAATTATCTTCTAACGTCCGTCACGGTGAAATGGACTGTTTG",
         "0",
         "GGG"
        ],
        [
         "0",
         "CN_F1",
         "TCTCCTGTTGAAGGTTCTCCAGCTAAGCCAGAAGATTACCCACACTTCATGTCCGTTGCTCACGAACAAGCTTTGAAGTCTTTGTCTGAAGGTGGTATTCCAATTGGTGCTGCTTTGGTTCATTTGCCAACTTCTAGAATTATTTCCAGAGGTCACAACAACAGAGTCCAATTATCTTCTAACGTCCGTCACGGTGAAATGGACTGTTTG",
         "TCTCCTGTTGAAGGTTCTCCAGCTAAGCCAGAAGATTACCCACACTTCATGTCCGTTGCTCACGAACAAGCTTTGAAGTCTTTGTCTGAAGGTGGTATTCCAATTGGTGCTGCTTTGGTTCATTTGCCAACTTCTAGAATTATTTCCAGAGGTCACAACAACAGAGTCCAATTATCTTCTAACGTCCGTCACGGTGAAATGGACTGTTTG",
         "1",
         "TTT"
        ],
        [
         "0",
         "CN_F1",
         "TCTCCTGTTGAAGGTTCTCCAGCTAAGCCAGAAGATTACCCACACTTCATGTCCGTTGCTCACGAACAAGCTTTGAAGTCTTTGTCTGAAGGTGGTATTCCAATTGGTGCTGCTTTGGTTCATTTGCCAACTTCTAGAATTATTTCCAGAGGTCACAACAACAGAGTCCAATTATCTTCTAACGTCCGTCACGGTGAAATGGACTGTTTG",
         "TCTCCTGTTGAAGGTTCTCCAGCTAAGCCAGAAGATTACCCACACTTCATGTCCGTTGCTCACGAACAAGCTTTGAAGTCTTTGTCTGAAGGTGGTATTCCAATTGGTGCTGCTTTGGTTCATTTGCCAACTTCTAGAATTATTTCCAGAGGTCACAACAACAGAGTCCAATTATCTTCTAACGTCCGTCACGGTGAAATGGACTGTTTG",
         "1",
         "TTG"
        ],
        [
         "0",
         "CN_F1",
         "TCTCCTGTTGAAGGTTCTCCAGCTAAGCCAGAAGATTACCCACACTTCATGTCCGTTGCTCACGAACAAGCTTTGAAGTCTTTGTCTGAAGGTGGTATTCCAATTGGTGCTGCTTTGGTTCATTTGCCAACTTCTAGAATTATTTCCAGAGGTCACAACAACAGAGTCCAATTATCTTCTAACGTCCGTCACGGTGAAATGGACTGTTTG",
         "TCTCCTGTTGAAGGTTCTCCAGCTAAGCCAGAAGATTACCCACACTTCATGTCCGTTGCTCACGAACAAGCTTTGAAGTCTTTGTCTGAAGGTGGTATTCCAATTGGTGCTGCTTTGGTTCATTTGCCAACTTCTAGAATTATTTCCAGAGGTCACAACAACAGAGTCCAATTATCTTCTAACGTCCGTCACGGTGAAATGGACTGTTTG",
         "1",
         "CTT"
        ],
        [
         "0",
         "CN_F1",
         "TCTCCTGTTGAAGGTTCTCCAGCTAAGCCAGAAGATTACCCACACTTCATGTCCGTTGCTCACGAACAAGCTTTGAAGTCTTTGTCTGAAGGTGGTATTCCAATTGGTGCTGCTTTGGTTCATTTGCCAACTTCTAGAATTATTTCCAGAGGTCACAACAACAGAGTCCAATTATCTTCTAACGTCCGTCACGGTGAAATGGACTGTTTG",
         "TCTCCTGTTGAAGGTTCTCCAGCTAAGCCAGAAGATTACCCACACTTCATGTCCGTTGCTCACGAACAAGCTTTGAAGTCTTTGTCTGAAGGTGGTATTCCAATTGGTGCTGCTTTGGTTCATTTGCCAACTTCTAGAATTATTTCCAGAGGTCACAACAACAGAGTCCAATTATCTTCTAACGTCCGTCACGGTGAAATGGACTGTTTG",
         "1",
         "CTG"
        ],
        [
         "0",
         "CN_F1",
         "TCTCCTGTTGAAGGTTCTCCAGCTAAGCCAGAAGATTACCCACACTTCATGTCCGTTGCTCACGAACAAGCTTTGAAGTCTTTGTCTGAAGGTGGTATTCCAATTGGTGCTGCTTTGGTTCATTTGCCAACTTCTAGAATTATTTCCAGAGGTCACAACAACAGAGTCCAATTATCTTCTAACGTCCGTCACGGTGAAATGGACTGTTTG",
         "TCTCCTGTTGAAGGTTCTCCAGCTAAGCCAGAAGATTACCCACACTTCATGTCCGTTGCTCACGAACAAGCTTTGAAGTCTTTGTCTGAAGGTGGTATTCCAATTGGTGCTGCTTTGGTTCATTTGCCAACTTCTAGAATTATTTCCAGAGGTCACAACAACAGAGTCCAATTATCTTCTAACGTCCGTCACGGTGAAATGGACTGTTTG",
         "1",
         "ATT"
        ],
        [
         "0",
         "CN_F1",
         "TCTCCTGTTGAAGGTTCTCCAGCTAAGCCAGAAGATTACCCACACTTCATGTCCGTTGCTCACGAACAAGCTTTGAAGTCTTTGTCTGAAGGTGGTATTCCAATTGGTGCTGCTTTGGTTCATTTGCCAACTTCTAGAATTATTTCCAGAGGTCACAACAACAGAGTCCAATTATCTTCTAACGTCCGTCACGGTGAAATGGACTGTTTG",
         "TCTCCTGTTGAAGGTTCTCCAGCTAAGCCAGAAGATTACCCACACTTCATGTCCGTTGCTCACGAACAAGCTTTGAAGTCTTTGTCTGAAGGTGGTATTCCAATTGGTGCTGCTTTGGTTCATTTGCCAACTTCTAGAATTATTTCCAGAGGTCACAACAACAGAGTCCAATTATCTTCTAACGTCCGTCACGGTGAAATGGACTGTTTG",
         "1",
         "ATG"
        ],
        [
         "0",
         "CN_F1",
         "TCTCCTGTTGAAGGTTCTCCAGCTAAGCCAGAAGATTACCCACACTTCATGTCCGTTGCTCACGAACAAGCTTTGAAGTCTTTGTCTGAAGGTGGTATTCCAATTGGTGCTGCTTTGGTTCATTTGCCAACTTCTAGAATTATTTCCAGAGGTCACAACAACAGAGTCCAATTATCTTCTAACGTCCGTCACGGTGAAATGGACTGTTTG",
         "TCTCCTGTTGAAGGTTCTCCAGCTAAGCCAGAAGATTACCCACACTTCATGTCCGTTGCTCACGAACAAGCTTTGAAGTCTTTGTCTGAAGGTGGTATTCCAATTGGTGCTGCTTTGGTTCATTTGCCAACTTCTAGAATTATTTCCAGAGGTCACAACAACAGAGTCCAATTATCTTCTAACGTCCGTCACGGTGAAATGGACTGTTTG",
         "1",
         "GTT"
        ],
        [
         "0",
         "CN_F1",
         "TCTCCTGTTGAAGGTTCTCCAGCTAAGCCAGAAGATTACCCACACTTCATGTCCGTTGCTCACGAACAAGCTTTGAAGTCTTTGTCTGAAGGTGGTATTCCAATTGGTGCTGCTTTGGTTCATTTGCCAACTTCTAGAATTATTTCCAGAGGTCACAACAACAGAGTCCAATTATCTTCTAACGTCCGTCACGGTGAAATGGACTGTTTG",
         "TCTCCTGTTGAAGGTTCTCCAGCTAAGCCAGAAGATTACCCACACTTCATGTCCGTTGCTCACGAACAAGCTTTGAAGTCTTTGTCTGAAGGTGGTATTCCAATTGGTGCTGCTTTGGTTCATTTGCCAACTTCTAGAATTATTTCCAGAGGTCACAACAACAGAGTCCAATTATCTTCTAACGTCCGTCACGGTGAAATGGACTGTTTG",
         "1",
         "GTG"
        ],
        [
         "0",
         "CN_F1",
         "TCTCCTGTTGAAGGTTCTCCAGCTAAGCCAGAAGATTACCCACACTTCATGTCCGTTGCTCACGAACAAGCTTTGAAGTCTTTGTCTGAAGGTGGTATTCCAATTGGTGCTGCTTTGGTTCATTTGCCAACTTCTAGAATTATTTCCAGAGGTCACAACAACAGAGTCCAATTATCTTCTAACGTCCGTCACGGTGAAATGGACTGTTTG",
         "TCTCCTGTTGAAGGTTCTCCAGCTAAGCCAGAAGATTACCCACACTTCATGTCCGTTGCTCACGAACAAGCTTTGAAGTCTTTGTCTGAAGGTGGTATTCCAATTGGTGCTGCTTTGGTTCATTTGCCAACTTCTAGAATTATTTCCAGAGGTCACAACAACAGAGTCCAATTATCTTCTAACGTCCGTCACGGTGAAATGGACTGTTTG",
         "1",
         "TCT"
        ],
        [
         "0",
         "CN_F1",
         "TCTCCTGTTGAAGGTTCTCCAGCTAAGCCAGAAGATTACCCACACTTCATGTCCGTTGCTCACGAACAAGCTTTGAAGTCTTTGTCTGAAGGTGGTATTCCAATTGGTGCTGCTTTGGTTCATTTGCCAACTTCTAGAATTATTTCCAGAGGTCACAACAACAGAGTCCAATTATCTTCTAACGTCCGTCACGGTGAAATGGACTGTTTG",
         "TCTCCTGTTGAAGGTTCTCCAGCTAAGCCAGAAGATTACCCACACTTCATGTCCGTTGCTCACGAACAAGCTTTGAAGTCTTTGTCTGAAGGTGGTATTCCAATTGGTGCTGCTTTGGTTCATTTGCCAACTTCTAGAATTATTTCCAGAGGTCACAACAACAGAGTCCAATTATCTTCTAACGTCCGTCACGGTGAAATGGACTGTTTG",
         "1",
         "TCG"
        ],
        [
         "0",
         "CN_F1",
         "TCTCCTGTTGAAGGTTCTCCAGCTAAGCCAGAAGATTACCCACACTTCATGTCCGTTGCTCACGAACAAGCTTTGAAGTCTTTGTCTGAAGGTGGTATTCCAATTGGTGCTGCTTTGGTTCATTTGCCAACTTCTAGAATTATTTCCAGAGGTCACAACAACAGAGTCCAATTATCTTCTAACGTCCGTCACGGTGAAATGGACTGTTTG",
         "TCTCCTGTTGAAGGTTCTCCAGCTAAGCCAGAAGATTACCCACACTTCATGTCCGTTGCTCACGAACAAGCTTTGAAGTCTTTGTCTGAAGGTGGTATTCCAATTGGTGCTGCTTTGGTTCATTTGCCAACTTCTAGAATTATTTCCAGAGGTCACAACAACAGAGTCCAATTATCTTCTAACGTCCGTCACGGTGAAATGGACTGTTTG",
         "1",
         "CCG"
        ],
        [
         "0",
         "CN_F1",
         "TCTCCTGTTGAAGGTTCTCCAGCTAAGCCAGAAGATTACCCACACTTCATGTCCGTTGCTCACGAACAAGCTTTGAAGTCTTTGTCTGAAGGTGGTATTCCAATTGGTGCTGCTTTGGTTCATTTGCCAACTTCTAGAATTATTTCCAGAGGTCACAACAACAGAGTCCAATTATCTTCTAACGTCCGTCACGGTGAAATGGACTGTTTG",
         "TCTCCTGTTGAAGGTTCTCCAGCTAAGCCAGAAGATTACCCACACTTCATGTCCGTTGCTCACGAACAAGCTTTGAAGTCTTTGTCTGAAGGTGGTATTCCAATTGGTGCTGCTTTGGTTCATTTGCCAACTTCTAGAATTATTTCCAGAGGTCACAACAACAGAGTCCAATTATCTTCTAACGTCCGTCACGGTGAAATGGACTGTTTG",
         "1",
         "ACT"
        ],
        [
         "0",
         "CN_F1",
         "TCTCCTGTTGAAGGTTCTCCAGCTAAGCCAGAAGATTACCCACACTTCATGTCCGTTGCTCACGAACAAGCTTTGAAGTCTTTGTCTGAAGGTGGTATTCCAATTGGTGCTGCTTTGGTTCATTTGCCAACTTCTAGAATTATTTCCAGAGGTCACAACAACAGAGTCCAATTATCTTCTAACGTCCGTCACGGTGAAATGGACTGTTTG",
         "TCTCCTGTTGAAGGTTCTCCAGCTAAGCCAGAAGATTACCCACACTTCATGTCCGTTGCTCACGAACAAGCTTTGAAGTCTTTGTCTGAAGGTGGTATTCCAATTGGTGCTGCTTTGGTTCATTTGCCAACTTCTAGAATTATTTCCAGAGGTCACAACAACAGAGTCCAATTATCTTCTAACGTCCGTCACGGTGAAATGGACTGTTTG",
         "1",
         "ACG"
        ],
        [
         "0",
         "CN_F1",
         "TCTCCTGTTGAAGGTTCTCCAGCTAAGCCAGAAGATTACCCACACTTCATGTCCGTTGCTCACGAACAAGCTTTGAAGTCTTTGTCTGAAGGTGGTATTCCAATTGGTGCTGCTTTGGTTCATTTGCCAACTTCTAGAATTATTTCCAGAGGTCACAACAACAGAGTCCAATTATCTTCTAACGTCCGTCACGGTGAAATGGACTGTTTG",
         "TCTCCTGTTGAAGGTTCTCCAGCTAAGCCAGAAGATTACCCACACTTCATGTCCGTTGCTCACGAACAAGCTTTGAAGTCTTTGTCTGAAGGTGGTATTCCAATTGGTGCTGCTTTGGTTCATTTGCCAACTTCTAGAATTATTTCCAGAGGTCACAACAACAGAGTCCAATTATCTTCTAACGTCCGTCACGGTGAAATGGACTGTTTG",
         "1",
         "GCT"
        ],
        [
         "0",
         "CN_F1",
         "TCTCCTGTTGAAGGTTCTCCAGCTAAGCCAGAAGATTACCCACACTTCATGTCCGTTGCTCACGAACAAGCTTTGAAGTCTTTGTCTGAAGGTGGTATTCCAATTGGTGCTGCTTTGGTTCATTTGCCAACTTCTAGAATTATTTCCAGAGGTCACAACAACAGAGTCCAATTATCTTCTAACGTCCGTCACGGTGAAATGGACTGTTTG",
         "TCTCCTGTTGAAGGTTCTCCAGCTAAGCCAGAAGATTACCCACACTTCATGTCCGTTGCTCACGAACAAGCTTTGAAGTCTTTGTCTGAAGGTGGTATTCCAATTGGTGCTGCTTTGGTTCATTTGCCAACTTCTAGAATTATTTCCAGAGGTCACAACAACAGAGTCCAATTATCTTCTAACGTCCGTCACGGTGAAATGGACTGTTTG",
         "1",
         "GCG"
        ],
        [
         "0",
         "CN_F1",
         "TCTCCTGTTGAAGGTTCTCCAGCTAAGCCAGAAGATTACCCACACTTCATGTCCGTTGCTCACGAACAAGCTTTGAAGTCTTTGTCTGAAGGTGGTATTCCAATTGGTGCTGCTTTGGTTCATTTGCCAACTTCTAGAATTATTTCCAGAGGTCACAACAACAGAGTCCAATTATCTTCTAACGTCCGTCACGGTGAAATGGACTGTTTG",
         "TCTCCTGTTGAAGGTTCTCCAGCTAAGCCAGAAGATTACCCACACTTCATGTCCGTTGCTCACGAACAAGCTTTGAAGTCTTTGTCTGAAGGTGGTATTCCAATTGGTGCTGCTTTGGTTCATTTGCCAACTTCTAGAATTATTTCCAGAGGTCACAACAACAGAGTCCAATTATCTTCTAACGTCCGTCACGGTGAAATGGACTGTTTG",
         "1",
         "TAT"
        ],
        [
         "0",
         "CN_F1",
         "TCTCCTGTTGAAGGTTCTCCAGCTAAGCCAGAAGATTACCCACACTTCATGTCCGTTGCTCACGAACAAGCTTTGAAGTCTTTGTCTGAAGGTGGTATTCCAATTGGTGCTGCTTTGGTTCATTTGCCAACTTCTAGAATTATTTCCAGAGGTCACAACAACAGAGTCCAATTATCTTCTAACGTCCGTCACGGTGAAATGGACTGTTTG",
         "TCTCCTGTTGAAGGTTCTCCAGCTAAGCCAGAAGATTACCCACACTTCATGTCCGTTGCTCACGAACAAGCTTTGAAGTCTTTGTCTGAAGGTGGTATTCCAATTGGTGCTGCTTTGGTTCATTTGCCAACTTCTAGAATTATTTCCAGAGGTCACAACAACAGAGTCCAATTATCTTCTAACGTCCGTCACGGTGAAATGGACTGTTTG",
         "1",
         "TAG"
        ],
        [
         "0",
         "CN_F1",
         "TCTCCTGTTGAAGGTTCTCCAGCTAAGCCAGAAGATTACCCACACTTCATGTCCGTTGCTCACGAACAAGCTTTGAAGTCTTTGTCTGAAGGTGGTATTCCAATTGGTGCTGCTTTGGTTCATTTGCCAACTTCTAGAATTATTTCCAGAGGTCACAACAACAGAGTCCAATTATCTTCTAACGTCCGTCACGGTGAAATGGACTGTTTG",
         "TCTCCTGTTGAAGGTTCTCCAGCTAAGCCAGAAGATTACCCACACTTCATGTCCGTTGCTCACGAACAAGCTTTGAAGTCTTTGTCTGAAGGTGGTATTCCAATTGGTGCTGCTTTGGTTCATTTGCCAACTTCTAGAATTATTTCCAGAGGTCACAACAACAGAGTCCAATTATCTTCTAACGTCCGTCACGGTGAAATGGACTGTTTG",
         "1",
         "CAT"
        ],
        [
         "0",
         "CN_F1",
         "TCTCCTGTTGAAGGTTCTCCAGCTAAGCCAGAAGATTACCCACACTTCATGTCCGTTGCTCACGAACAAGCTTTGAAGTCTTTGTCTGAAGGTGGTATTCCAATTGGTGCTGCTTTGGTTCATTTGCCAACTTCTAGAATTATTTCCAGAGGTCACAACAACAGAGTCCAATTATCTTCTAACGTCCGTCACGGTGAAATGGACTGTTTG",
         "TCTCCTGTTGAAGGTTCTCCAGCTAAGCCAGAAGATTACCCACACTTCATGTCCGTTGCTCACGAACAAGCTTTGAAGTCTTTGTCTGAAGGTGGTATTCCAATTGGTGCTGCTTTGGTTCATTTGCCAACTTCTAGAATTATTTCCAGAGGTCACAACAACAGAGTCCAATTATCTTCTAACGTCCGTCACGGTGAAATGGACTGTTTG",
         "1",
         "CAG"
        ]
       ],
       "shape": {
        "columns": 5,
        "rows": 2200
       }
      },
      "text/html": [
       "<div>\n",
       "<style scoped>\n",
       "    .dataframe tbody tr th:only-of-type {\n",
       "        vertical-align: middle;\n",
       "    }\n",
       "\n",
       "    .dataframe tbody tr th {\n",
       "        vertical-align: top;\n",
       "    }\n",
       "\n",
       "    .dataframe thead th {\n",
       "        text-align: right;\n",
       "    }\n",
       "</style>\n",
       "<table border=\"1\" class=\"dataframe\">\n",
       "  <thead>\n",
       "    <tr style=\"text-align: right;\">\n",
       "      <th></th>\n",
       "      <th>Mutated_seq</th>\n",
       "      <th>WT_seq</th>\n",
       "      <th>nt_seq</th>\n",
       "      <th>pos</th>\n",
       "      <th>alt_codons</th>\n",
       "    </tr>\n",
       "  </thead>\n",
       "  <tbody>\n",
       "    <tr>\n",
       "      <th>0</th>\n",
       "      <td>CN_F1</td>\n",
       "      <td>TCTCCTGTTGAAGGTTCTCCAGCTAAGCCAGAAGATTACCCACACT...</td>\n",
       "      <td>TCTCCTGTTGAAGGTTCTCCAGCTAAGCCAGAAGATTACCCACACT...</td>\n",
       "      <td>0</td>\n",
       "      <td>TTT</td>\n",
       "    </tr>\n",
       "    <tr>\n",
       "      <th>0</th>\n",
       "      <td>CN_F1</td>\n",
       "      <td>TCTCCTGTTGAAGGTTCTCCAGCTAAGCCAGAAGATTACCCACACT...</td>\n",
       "      <td>TCTCCTGTTGAAGGTTCTCCAGCTAAGCCAGAAGATTACCCACACT...</td>\n",
       "      <td>0</td>\n",
       "      <td>TTG</td>\n",
       "    </tr>\n",
       "    <tr>\n",
       "      <th>0</th>\n",
       "      <td>CN_F1</td>\n",
       "      <td>TCTCCTGTTGAAGGTTCTCCAGCTAAGCCAGAAGATTACCCACACT...</td>\n",
       "      <td>TCTCCTGTTGAAGGTTCTCCAGCTAAGCCAGAAGATTACCCACACT...</td>\n",
       "      <td>0</td>\n",
       "      <td>CTT</td>\n",
       "    </tr>\n",
       "    <tr>\n",
       "      <th>0</th>\n",
       "      <td>CN_F1</td>\n",
       "      <td>TCTCCTGTTGAAGGTTCTCCAGCTAAGCCAGAAGATTACCCACACT...</td>\n",
       "      <td>TCTCCTGTTGAAGGTTCTCCAGCTAAGCCAGAAGATTACCCACACT...</td>\n",
       "      <td>0</td>\n",
       "      <td>CTG</td>\n",
       "    </tr>\n",
       "    <tr>\n",
       "      <th>0</th>\n",
       "      <td>CN_F1</td>\n",
       "      <td>TCTCCTGTTGAAGGTTCTCCAGCTAAGCCAGAAGATTACCCACACT...</td>\n",
       "      <td>TCTCCTGTTGAAGGTTCTCCAGCTAAGCCAGAAGATTACCCACACT...</td>\n",
       "      <td>0</td>\n",
       "      <td>ATT</td>\n",
       "    </tr>\n",
       "    <tr>\n",
       "      <th>...</th>\n",
       "      <td>...</td>\n",
       "      <td>...</td>\n",
       "      <td>...</td>\n",
       "      <td>...</td>\n",
       "      <td>...</td>\n",
       "    </tr>\n",
       "    <tr>\n",
       "      <th>0</th>\n",
       "      <td>CN_F1</td>\n",
       "      <td>TCTCCTGTTGAAGGTTCTCCAGCTAAGCCAGAAGATTACCCACACT...</td>\n",
       "      <td>TCTCCTGTTGAAGGTTCTCCAGCTAAGCCAGAAGATTACCCACACT...</td>\n",
       "      <td>69</td>\n",
       "      <td>CGG</td>\n",
       "    </tr>\n",
       "    <tr>\n",
       "      <th>0</th>\n",
       "      <td>CN_F1</td>\n",
       "      <td>TCTCCTGTTGAAGGTTCTCCAGCTAAGCCAGAAGATTACCCACACT...</td>\n",
       "      <td>TCTCCTGTTGAAGGTTCTCCAGCTAAGCCAGAAGATTACCCACACT...</td>\n",
       "      <td>69</td>\n",
       "      <td>AGT</td>\n",
       "    </tr>\n",
       "    <tr>\n",
       "      <th>0</th>\n",
       "      <td>CN_F1</td>\n",
       "      <td>TCTCCTGTTGAAGGTTCTCCAGCTAAGCCAGAAGATTACCCACACT...</td>\n",
       "      <td>TCTCCTGTTGAAGGTTCTCCAGCTAAGCCAGAAGATTACCCACACT...</td>\n",
       "      <td>69</td>\n",
       "      <td>AGG</td>\n",
       "    </tr>\n",
       "    <tr>\n",
       "      <th>0</th>\n",
       "      <td>CN_F1</td>\n",
       "      <td>TCTCCTGTTGAAGGTTCTCCAGCTAAGCCAGAAGATTACCCACACT...</td>\n",
       "      <td>TCTCCTGTTGAAGGTTCTCCAGCTAAGCCAGAAGATTACCCACACT...</td>\n",
       "      <td>69</td>\n",
       "      <td>GGT</td>\n",
       "    </tr>\n",
       "    <tr>\n",
       "      <th>0</th>\n",
       "      <td>CN_F1</td>\n",
       "      <td>TCTCCTGTTGAAGGTTCTCCAGCTAAGCCAGAAGATTACCCACACT...</td>\n",
       "      <td>TCTCCTGTTGAAGGTTCTCCAGCTAAGCCAGAAGATTACCCACACT...</td>\n",
       "      <td>69</td>\n",
       "      <td>GGG</td>\n",
       "    </tr>\n",
       "  </tbody>\n",
       "</table>\n",
       "<p>2200 rows × 5 columns</p>\n",
       "</div>"
      ],
      "text/plain": [
       "   Mutated_seq                                             WT_seq  \\\n",
       "0        CN_F1  TCTCCTGTTGAAGGTTCTCCAGCTAAGCCAGAAGATTACCCACACT...   \n",
       "0        CN_F1  TCTCCTGTTGAAGGTTCTCCAGCTAAGCCAGAAGATTACCCACACT...   \n",
       "0        CN_F1  TCTCCTGTTGAAGGTTCTCCAGCTAAGCCAGAAGATTACCCACACT...   \n",
       "0        CN_F1  TCTCCTGTTGAAGGTTCTCCAGCTAAGCCAGAAGATTACCCACACT...   \n",
       "0        CN_F1  TCTCCTGTTGAAGGTTCTCCAGCTAAGCCAGAAGATTACCCACACT...   \n",
       "..         ...                                                ...   \n",
       "0        CN_F1  TCTCCTGTTGAAGGTTCTCCAGCTAAGCCAGAAGATTACCCACACT...   \n",
       "0        CN_F1  TCTCCTGTTGAAGGTTCTCCAGCTAAGCCAGAAGATTACCCACACT...   \n",
       "0        CN_F1  TCTCCTGTTGAAGGTTCTCCAGCTAAGCCAGAAGATTACCCACACT...   \n",
       "0        CN_F1  TCTCCTGTTGAAGGTTCTCCAGCTAAGCCAGAAGATTACCCACACT...   \n",
       "0        CN_F1  TCTCCTGTTGAAGGTTCTCCAGCTAAGCCAGAAGATTACCCACACT...   \n",
       "\n",
       "                                               nt_seq pos alt_codons  \n",
       "0   TCTCCTGTTGAAGGTTCTCCAGCTAAGCCAGAAGATTACCCACACT...   0        TTT  \n",
       "0   TCTCCTGTTGAAGGTTCTCCAGCTAAGCCAGAAGATTACCCACACT...   0        TTG  \n",
       "0   TCTCCTGTTGAAGGTTCTCCAGCTAAGCCAGAAGATTACCCACACT...   0        CTT  \n",
       "0   TCTCCTGTTGAAGGTTCTCCAGCTAAGCCAGAAGATTACCCACACT...   0        CTG  \n",
       "0   TCTCCTGTTGAAGGTTCTCCAGCTAAGCCAGAAGATTACCCACACT...   0        ATT  \n",
       "..                                                ...  ..        ...  \n",
       "0   TCTCCTGTTGAAGGTTCTCCAGCTAAGCCAGAAGATTACCCACACT...  69        CGG  \n",
       "0   TCTCCTGTTGAAGGTTCTCCAGCTAAGCCAGAAGATTACCCACACT...  69        AGT  \n",
       "0   TCTCCTGTTGAAGGTTCTCCAGCTAAGCCAGAAGATTACCCACACT...  69        AGG  \n",
       "0   TCTCCTGTTGAAGGTTCTCCAGCTAAGCCAGAAGATTACCCACACT...  69        GGT  \n",
       "0   TCTCCTGTTGAAGGTTCTCCAGCTAAGCCAGAAGATTACCCACACT...  69        GGG  \n",
       "\n",
       "[2200 rows x 5 columns]"
      ]
     },
     "execution_count": 12,
     "metadata": {},
     "output_type": "execute_result"
    }
   ],
   "source": [
    "singles_df = singles_compact.explode(\"alt_codons\")\n",
    "singles_df"
   ]
  },
  {
   "cell_type": "code",
   "execution_count": 13,
   "id": "15566655-391b-4f2f-bebb-ff197dad0fe6",
   "metadata": {},
   "outputs": [
    {
     "data": {
      "application/vnd.microsoft.datawrangler.viewer.v0+json": {
       "columns": [
        {
         "name": "index",
         "rawType": "int64",
         "type": "integer"
        },
        {
         "name": "Mutated_seq",
         "rawType": "object",
         "type": "string"
        },
        {
         "name": "WT_seq",
         "rawType": "object",
         "type": "string"
        },
        {
         "name": "nt_seq",
         "rawType": "object",
         "type": "string"
        },
        {
         "name": "pos",
         "rawType": "object",
         "type": "unknown"
        },
        {
         "name": "alt_codons",
         "rawType": "object",
         "type": "string"
        },
        {
         "name": "mutations",
         "rawType": "object",
         "type": "unknown"
        }
       ],
       "ref": "a1a420d6-0ad9-4f95-925f-e45c3839d139",
       "rows": [
        [
         "0",
         "CN_F1",
         "TCTCCTGTTGAAGGTTCTCCAGCTAAGCCAGAAGATTACCCACACTTCATGTCCGTTGCTCACGAACAAGCTTTGAAGTCTTTGTCTGAAGGTGGTATTCCAATTGGTGCTGCTTTGGTTCATTTGCCAACTTCTAGAATTATTTCCAGAGGTCACAACAACAGAGTCCAATTATCTTCTAACGTCCGTCACGGTGAAATGGACTGTTTG",
         "TCTCCTGTTGAAGGTTCTCCAGCTAAGCCAGAAGATTACCCACACTTCATGTCCGTTGCTCACGAACAAGCTTTGAAGTCTTTGTCTGAAGGTGGTATTCCAATTGGTGCTGCTTTGGTTCATTTGCCAACTTCTAGAATTATTTCCAGAGGTCACAACAACAGAGTCCAATTATCTTCTAACGTCCGTCACGGTGAAATGGACTGTTTG",
         "0",
         "TTT",
         "{0: 'TTT'}"
        ],
        [
         "0",
         "CN_F1",
         "TCTCCTGTTGAAGGTTCTCCAGCTAAGCCAGAAGATTACCCACACTTCATGTCCGTTGCTCACGAACAAGCTTTGAAGTCTTTGTCTGAAGGTGGTATTCCAATTGGTGCTGCTTTGGTTCATTTGCCAACTTCTAGAATTATTTCCAGAGGTCACAACAACAGAGTCCAATTATCTTCTAACGTCCGTCACGGTGAAATGGACTGTTTG",
         "TCTCCTGTTGAAGGTTCTCCAGCTAAGCCAGAAGATTACCCACACTTCATGTCCGTTGCTCACGAACAAGCTTTGAAGTCTTTGTCTGAAGGTGGTATTCCAATTGGTGCTGCTTTGGTTCATTTGCCAACTTCTAGAATTATTTCCAGAGGTCACAACAACAGAGTCCAATTATCTTCTAACGTCCGTCACGGTGAAATGGACTGTTTG",
         "0",
         "TTG",
         "{0: 'TTG'}"
        ],
        [
         "0",
         "CN_F1",
         "TCTCCTGTTGAAGGTTCTCCAGCTAAGCCAGAAGATTACCCACACTTCATGTCCGTTGCTCACGAACAAGCTTTGAAGTCTTTGTCTGAAGGTGGTATTCCAATTGGTGCTGCTTTGGTTCATTTGCCAACTTCTAGAATTATTTCCAGAGGTCACAACAACAGAGTCCAATTATCTTCTAACGTCCGTCACGGTGAAATGGACTGTTTG",
         "TCTCCTGTTGAAGGTTCTCCAGCTAAGCCAGAAGATTACCCACACTTCATGTCCGTTGCTCACGAACAAGCTTTGAAGTCTTTGTCTGAAGGTGGTATTCCAATTGGTGCTGCTTTGGTTCATTTGCCAACTTCTAGAATTATTTCCAGAGGTCACAACAACAGAGTCCAATTATCTTCTAACGTCCGTCACGGTGAAATGGACTGTTTG",
         "0",
         "CTT",
         "{0: 'CTT'}"
        ],
        [
         "0",
         "CN_F1",
         "TCTCCTGTTGAAGGTTCTCCAGCTAAGCCAGAAGATTACCCACACTTCATGTCCGTTGCTCACGAACAAGCTTTGAAGTCTTTGTCTGAAGGTGGTATTCCAATTGGTGCTGCTTTGGTTCATTTGCCAACTTCTAGAATTATTTCCAGAGGTCACAACAACAGAGTCCAATTATCTTCTAACGTCCGTCACGGTGAAATGGACTGTTTG",
         "TCTCCTGTTGAAGGTTCTCCAGCTAAGCCAGAAGATTACCCACACTTCATGTCCGTTGCTCACGAACAAGCTTTGAAGTCTTTGTCTGAAGGTGGTATTCCAATTGGTGCTGCTTTGGTTCATTTGCCAACTTCTAGAATTATTTCCAGAGGTCACAACAACAGAGTCCAATTATCTTCTAACGTCCGTCACGGTGAAATGGACTGTTTG",
         "0",
         "CTG",
         "{0: 'CTG'}"
        ],
        [
         "0",
         "CN_F1",
         "TCTCCTGTTGAAGGTTCTCCAGCTAAGCCAGAAGATTACCCACACTTCATGTCCGTTGCTCACGAACAAGCTTTGAAGTCTTTGTCTGAAGGTGGTATTCCAATTGGTGCTGCTTTGGTTCATTTGCCAACTTCTAGAATTATTTCCAGAGGTCACAACAACAGAGTCCAATTATCTTCTAACGTCCGTCACGGTGAAATGGACTGTTTG",
         "TCTCCTGTTGAAGGTTCTCCAGCTAAGCCAGAAGATTACCCACACTTCATGTCCGTTGCTCACGAACAAGCTTTGAAGTCTTTGTCTGAAGGTGGTATTCCAATTGGTGCTGCTTTGGTTCATTTGCCAACTTCTAGAATTATTTCCAGAGGTCACAACAACAGAGTCCAATTATCTTCTAACGTCCGTCACGGTGAAATGGACTGTTTG",
         "0",
         "ATT",
         "{0: 'ATT'}"
        ],
        [
         "0",
         "CN_F1",
         "TCTCCTGTTGAAGGTTCTCCAGCTAAGCCAGAAGATTACCCACACTTCATGTCCGTTGCTCACGAACAAGCTTTGAAGTCTTTGTCTGAAGGTGGTATTCCAATTGGTGCTGCTTTGGTTCATTTGCCAACTTCTAGAATTATTTCCAGAGGTCACAACAACAGAGTCCAATTATCTTCTAACGTCCGTCACGGTGAAATGGACTGTTTG",
         "TCTCCTGTTGAAGGTTCTCCAGCTAAGCCAGAAGATTACCCACACTTCATGTCCGTTGCTCACGAACAAGCTTTGAAGTCTTTGTCTGAAGGTGGTATTCCAATTGGTGCTGCTTTGGTTCATTTGCCAACTTCTAGAATTATTTCCAGAGGTCACAACAACAGAGTCCAATTATCTTCTAACGTCCGTCACGGTGAAATGGACTGTTTG",
         "0",
         "ATG",
         "{0: 'ATG'}"
        ],
        [
         "0",
         "CN_F1",
         "TCTCCTGTTGAAGGTTCTCCAGCTAAGCCAGAAGATTACCCACACTTCATGTCCGTTGCTCACGAACAAGCTTTGAAGTCTTTGTCTGAAGGTGGTATTCCAATTGGTGCTGCTTTGGTTCATTTGCCAACTTCTAGAATTATTTCCAGAGGTCACAACAACAGAGTCCAATTATCTTCTAACGTCCGTCACGGTGAAATGGACTGTTTG",
         "TCTCCTGTTGAAGGTTCTCCAGCTAAGCCAGAAGATTACCCACACTTCATGTCCGTTGCTCACGAACAAGCTTTGAAGTCTTTGTCTGAAGGTGGTATTCCAATTGGTGCTGCTTTGGTTCATTTGCCAACTTCTAGAATTATTTCCAGAGGTCACAACAACAGAGTCCAATTATCTTCTAACGTCCGTCACGGTGAAATGGACTGTTTG",
         "0",
         "GTT",
         "{0: 'GTT'}"
        ],
        [
         "0",
         "CN_F1",
         "TCTCCTGTTGAAGGTTCTCCAGCTAAGCCAGAAGATTACCCACACTTCATGTCCGTTGCTCACGAACAAGCTTTGAAGTCTTTGTCTGAAGGTGGTATTCCAATTGGTGCTGCTTTGGTTCATTTGCCAACTTCTAGAATTATTTCCAGAGGTCACAACAACAGAGTCCAATTATCTTCTAACGTCCGTCACGGTGAAATGGACTGTTTG",
         "TCTCCTGTTGAAGGTTCTCCAGCTAAGCCAGAAGATTACCCACACTTCATGTCCGTTGCTCACGAACAAGCTTTGAAGTCTTTGTCTGAAGGTGGTATTCCAATTGGTGCTGCTTTGGTTCATTTGCCAACTTCTAGAATTATTTCCAGAGGTCACAACAACAGAGTCCAATTATCTTCTAACGTCCGTCACGGTGAAATGGACTGTTTG",
         "0",
         "GTG",
         "{0: 'GTG'}"
        ],
        [
         "0",
         "CN_F1",
         "TCTCCTGTTGAAGGTTCTCCAGCTAAGCCAGAAGATTACCCACACTTCATGTCCGTTGCTCACGAACAAGCTTTGAAGTCTTTGTCTGAAGGTGGTATTCCAATTGGTGCTGCTTTGGTTCATTTGCCAACTTCTAGAATTATTTCCAGAGGTCACAACAACAGAGTCCAATTATCTTCTAACGTCCGTCACGGTGAAATGGACTGTTTG",
         "TCTCCTGTTGAAGGTTCTCCAGCTAAGCCAGAAGATTACCCACACTTCATGTCCGTTGCTCACGAACAAGCTTTGAAGTCTTTGTCTGAAGGTGGTATTCCAATTGGTGCTGCTTTGGTTCATTTGCCAACTTCTAGAATTATTTCCAGAGGTCACAACAACAGAGTCCAATTATCTTCTAACGTCCGTCACGGTGAAATGGACTGTTTG",
         "0",
         "TCG",
         "{0: 'TCG'}"
        ],
        [
         "0",
         "CN_F1",
         "TCTCCTGTTGAAGGTTCTCCAGCTAAGCCAGAAGATTACCCACACTTCATGTCCGTTGCTCACGAACAAGCTTTGAAGTCTTTGTCTGAAGGTGGTATTCCAATTGGTGCTGCTTTGGTTCATTTGCCAACTTCTAGAATTATTTCCAGAGGTCACAACAACAGAGTCCAATTATCTTCTAACGTCCGTCACGGTGAAATGGACTGTTTG",
         "TCTCCTGTTGAAGGTTCTCCAGCTAAGCCAGAAGATTACCCACACTTCATGTCCGTTGCTCACGAACAAGCTTTGAAGTCTTTGTCTGAAGGTGGTATTCCAATTGGTGCTGCTTTGGTTCATTTGCCAACTTCTAGAATTATTTCCAGAGGTCACAACAACAGAGTCCAATTATCTTCTAACGTCCGTCACGGTGAAATGGACTGTTTG",
         "0",
         "CCT",
         "{0: 'CCT'}"
        ],
        [
         "0",
         "CN_F1",
         "TCTCCTGTTGAAGGTTCTCCAGCTAAGCCAGAAGATTACCCACACTTCATGTCCGTTGCTCACGAACAAGCTTTGAAGTCTTTGTCTGAAGGTGGTATTCCAATTGGTGCTGCTTTGGTTCATTTGCCAACTTCTAGAATTATTTCCAGAGGTCACAACAACAGAGTCCAATTATCTTCTAACGTCCGTCACGGTGAAATGGACTGTTTG",
         "TCTCCTGTTGAAGGTTCTCCAGCTAAGCCAGAAGATTACCCACACTTCATGTCCGTTGCTCACGAACAAGCTTTGAAGTCTTTGTCTGAAGGTGGTATTCCAATTGGTGCTGCTTTGGTTCATTTGCCAACTTCTAGAATTATTTCCAGAGGTCACAACAACAGAGTCCAATTATCTTCTAACGTCCGTCACGGTGAAATGGACTGTTTG",
         "0",
         "CCG",
         "{0: 'CCG'}"
        ],
        [
         "0",
         "CN_F1",
         "TCTCCTGTTGAAGGTTCTCCAGCTAAGCCAGAAGATTACCCACACTTCATGTCCGTTGCTCACGAACAAGCTTTGAAGTCTTTGTCTGAAGGTGGTATTCCAATTGGTGCTGCTTTGGTTCATTTGCCAACTTCTAGAATTATTTCCAGAGGTCACAACAACAGAGTCCAATTATCTTCTAACGTCCGTCACGGTGAAATGGACTGTTTG",
         "TCTCCTGTTGAAGGTTCTCCAGCTAAGCCAGAAGATTACCCACACTTCATGTCCGTTGCTCACGAACAAGCTTTGAAGTCTTTGTCTGAAGGTGGTATTCCAATTGGTGCTGCTTTGGTTCATTTGCCAACTTCTAGAATTATTTCCAGAGGTCACAACAACAGAGTCCAATTATCTTCTAACGTCCGTCACGGTGAAATGGACTGTTTG",
         "0",
         "ACT",
         "{0: 'ACT'}"
        ],
        [
         "0",
         "CN_F1",
         "TCTCCTGTTGAAGGTTCTCCAGCTAAGCCAGAAGATTACCCACACTTCATGTCCGTTGCTCACGAACAAGCTTTGAAGTCTTTGTCTGAAGGTGGTATTCCAATTGGTGCTGCTTTGGTTCATTTGCCAACTTCTAGAATTATTTCCAGAGGTCACAACAACAGAGTCCAATTATCTTCTAACGTCCGTCACGGTGAAATGGACTGTTTG",
         "TCTCCTGTTGAAGGTTCTCCAGCTAAGCCAGAAGATTACCCACACTTCATGTCCGTTGCTCACGAACAAGCTTTGAAGTCTTTGTCTGAAGGTGGTATTCCAATTGGTGCTGCTTTGGTTCATTTGCCAACTTCTAGAATTATTTCCAGAGGTCACAACAACAGAGTCCAATTATCTTCTAACGTCCGTCACGGTGAAATGGACTGTTTG",
         "0",
         "ACG",
         "{0: 'ACG'}"
        ],
        [
         "0",
         "CN_F1",
         "TCTCCTGTTGAAGGTTCTCCAGCTAAGCCAGAAGATTACCCACACTTCATGTCCGTTGCTCACGAACAAGCTTTGAAGTCTTTGTCTGAAGGTGGTATTCCAATTGGTGCTGCTTTGGTTCATTTGCCAACTTCTAGAATTATTTCCAGAGGTCACAACAACAGAGTCCAATTATCTTCTAACGTCCGTCACGGTGAAATGGACTGTTTG",
         "TCTCCTGTTGAAGGTTCTCCAGCTAAGCCAGAAGATTACCCACACTTCATGTCCGTTGCTCACGAACAAGCTTTGAAGTCTTTGTCTGAAGGTGGTATTCCAATTGGTGCTGCTTTGGTTCATTTGCCAACTTCTAGAATTATTTCCAGAGGTCACAACAACAGAGTCCAATTATCTTCTAACGTCCGTCACGGTGAAATGGACTGTTTG",
         "0",
         "GCT",
         "{0: 'GCT'}"
        ],
        [
         "0",
         "CN_F1",
         "TCTCCTGTTGAAGGTTCTCCAGCTAAGCCAGAAGATTACCCACACTTCATGTCCGTTGCTCACGAACAAGCTTTGAAGTCTTTGTCTGAAGGTGGTATTCCAATTGGTGCTGCTTTGGTTCATTTGCCAACTTCTAGAATTATTTCCAGAGGTCACAACAACAGAGTCCAATTATCTTCTAACGTCCGTCACGGTGAAATGGACTGTTTG",
         "TCTCCTGTTGAAGGTTCTCCAGCTAAGCCAGAAGATTACCCACACTTCATGTCCGTTGCTCACGAACAAGCTTTGAAGTCTTTGTCTGAAGGTGGTATTCCAATTGGTGCTGCTTTGGTTCATTTGCCAACTTCTAGAATTATTTCCAGAGGTCACAACAACAGAGTCCAATTATCTTCTAACGTCCGTCACGGTGAAATGGACTGTTTG",
         "0",
         "GCG",
         "{0: 'GCG'}"
        ],
        [
         "0",
         "CN_F1",
         "TCTCCTGTTGAAGGTTCTCCAGCTAAGCCAGAAGATTACCCACACTTCATGTCCGTTGCTCACGAACAAGCTTTGAAGTCTTTGTCTGAAGGTGGTATTCCAATTGGTGCTGCTTTGGTTCATTTGCCAACTTCTAGAATTATTTCCAGAGGTCACAACAACAGAGTCCAATTATCTTCTAACGTCCGTCACGGTGAAATGGACTGTTTG",
         "TCTCCTGTTGAAGGTTCTCCAGCTAAGCCAGAAGATTACCCACACTTCATGTCCGTTGCTCACGAACAAGCTTTGAAGTCTTTGTCTGAAGGTGGTATTCCAATTGGTGCTGCTTTGGTTCATTTGCCAACTTCTAGAATTATTTCCAGAGGTCACAACAACAGAGTCCAATTATCTTCTAACGTCCGTCACGGTGAAATGGACTGTTTG",
         "0",
         "TAT",
         "{0: 'TAT'}"
        ],
        [
         "0",
         "CN_F1",
         "TCTCCTGTTGAAGGTTCTCCAGCTAAGCCAGAAGATTACCCACACTTCATGTCCGTTGCTCACGAACAAGCTTTGAAGTCTTTGTCTGAAGGTGGTATTCCAATTGGTGCTGCTTTGGTTCATTTGCCAACTTCTAGAATTATTTCCAGAGGTCACAACAACAGAGTCCAATTATCTTCTAACGTCCGTCACGGTGAAATGGACTGTTTG",
         "TCTCCTGTTGAAGGTTCTCCAGCTAAGCCAGAAGATTACCCACACTTCATGTCCGTTGCTCACGAACAAGCTTTGAAGTCTTTGTCTGAAGGTGGTATTCCAATTGGTGCTGCTTTGGTTCATTTGCCAACTTCTAGAATTATTTCCAGAGGTCACAACAACAGAGTCCAATTATCTTCTAACGTCCGTCACGGTGAAATGGACTGTTTG",
         "0",
         "TAG",
         "{0: 'TAG'}"
        ],
        [
         "0",
         "CN_F1",
         "TCTCCTGTTGAAGGTTCTCCAGCTAAGCCAGAAGATTACCCACACTTCATGTCCGTTGCTCACGAACAAGCTTTGAAGTCTTTGTCTGAAGGTGGTATTCCAATTGGTGCTGCTTTGGTTCATTTGCCAACTTCTAGAATTATTTCCAGAGGTCACAACAACAGAGTCCAATTATCTTCTAACGTCCGTCACGGTGAAATGGACTGTTTG",
         "TCTCCTGTTGAAGGTTCTCCAGCTAAGCCAGAAGATTACCCACACTTCATGTCCGTTGCTCACGAACAAGCTTTGAAGTCTTTGTCTGAAGGTGGTATTCCAATTGGTGCTGCTTTGGTTCATTTGCCAACTTCTAGAATTATTTCCAGAGGTCACAACAACAGAGTCCAATTATCTTCTAACGTCCGTCACGGTGAAATGGACTGTTTG",
         "0",
         "CAT",
         "{0: 'CAT'}"
        ],
        [
         "0",
         "CN_F1",
         "TCTCCTGTTGAAGGTTCTCCAGCTAAGCCAGAAGATTACCCACACTTCATGTCCGTTGCTCACGAACAAGCTTTGAAGTCTTTGTCTGAAGGTGGTATTCCAATTGGTGCTGCTTTGGTTCATTTGCCAACTTCTAGAATTATTTCCAGAGGTCACAACAACAGAGTCCAATTATCTTCTAACGTCCGTCACGGTGAAATGGACTGTTTG",
         "TCTCCTGTTGAAGGTTCTCCAGCTAAGCCAGAAGATTACCCACACTTCATGTCCGTTGCTCACGAACAAGCTTTGAAGTCTTTGTCTGAAGGTGGTATTCCAATTGGTGCTGCTTTGGTTCATTTGCCAACTTCTAGAATTATTTCCAGAGGTCACAACAACAGAGTCCAATTATCTTCTAACGTCCGTCACGGTGAAATGGACTGTTTG",
         "0",
         "CAG",
         "{0: 'CAG'}"
        ],
        [
         "0",
         "CN_F1",
         "TCTCCTGTTGAAGGTTCTCCAGCTAAGCCAGAAGATTACCCACACTTCATGTCCGTTGCTCACGAACAAGCTTTGAAGTCTTTGTCTGAAGGTGGTATTCCAATTGGTGCTGCTTTGGTTCATTTGCCAACTTCTAGAATTATTTCCAGAGGTCACAACAACAGAGTCCAATTATCTTCTAACGTCCGTCACGGTGAAATGGACTGTTTG",
         "TCTCCTGTTGAAGGTTCTCCAGCTAAGCCAGAAGATTACCCACACTTCATGTCCGTTGCTCACGAACAAGCTTTGAAGTCTTTGTCTGAAGGTGGTATTCCAATTGGTGCTGCTTTGGTTCATTTGCCAACTTCTAGAATTATTTCCAGAGGTCACAACAACAGAGTCCAATTATCTTCTAACGTCCGTCACGGTGAAATGGACTGTTTG",
         "0",
         "AAT",
         "{0: 'AAT'}"
        ],
        [
         "0",
         "CN_F1",
         "TCTCCTGTTGAAGGTTCTCCAGCTAAGCCAGAAGATTACCCACACTTCATGTCCGTTGCTCACGAACAAGCTTTGAAGTCTTTGTCTGAAGGTGGTATTCCAATTGGTGCTGCTTTGGTTCATTTGCCAACTTCTAGAATTATTTCCAGAGGTCACAACAACAGAGTCCAATTATCTTCTAACGTCCGTCACGGTGAAATGGACTGTTTG",
         "TCTCCTGTTGAAGGTTCTCCAGCTAAGCCAGAAGATTACCCACACTTCATGTCCGTTGCTCACGAACAAGCTTTGAAGTCTTTGTCTGAAGGTGGTATTCCAATTGGTGCTGCTTTGGTTCATTTGCCAACTTCTAGAATTATTTCCAGAGGTCACAACAACAGAGTCCAATTATCTTCTAACGTCCGTCACGGTGAAATGGACTGTTTG",
         "0",
         "AAG",
         "{0: 'AAG'}"
        ],
        [
         "0",
         "CN_F1",
         "TCTCCTGTTGAAGGTTCTCCAGCTAAGCCAGAAGATTACCCACACTTCATGTCCGTTGCTCACGAACAAGCTTTGAAGTCTTTGTCTGAAGGTGGTATTCCAATTGGTGCTGCTTTGGTTCATTTGCCAACTTCTAGAATTATTTCCAGAGGTCACAACAACAGAGTCCAATTATCTTCTAACGTCCGTCACGGTGAAATGGACTGTTTG",
         "TCTCCTGTTGAAGGTTCTCCAGCTAAGCCAGAAGATTACCCACACTTCATGTCCGTTGCTCACGAACAAGCTTTGAAGTCTTTGTCTGAAGGTGGTATTCCAATTGGTGCTGCTTTGGTTCATTTGCCAACTTCTAGAATTATTTCCAGAGGTCACAACAACAGAGTCCAATTATCTTCTAACGTCCGTCACGGTGAAATGGACTGTTTG",
         "0",
         "GAT",
         "{0: 'GAT'}"
        ],
        [
         "0",
         "CN_F1",
         "TCTCCTGTTGAAGGTTCTCCAGCTAAGCCAGAAGATTACCCACACTTCATGTCCGTTGCTCACGAACAAGCTTTGAAGTCTTTGTCTGAAGGTGGTATTCCAATTGGTGCTGCTTTGGTTCATTTGCCAACTTCTAGAATTATTTCCAGAGGTCACAACAACAGAGTCCAATTATCTTCTAACGTCCGTCACGGTGAAATGGACTGTTTG",
         "TCTCCTGTTGAAGGTTCTCCAGCTAAGCCAGAAGATTACCCACACTTCATGTCCGTTGCTCACGAACAAGCTTTGAAGTCTTTGTCTGAAGGTGGTATTCCAATTGGTGCTGCTTTGGTTCATTTGCCAACTTCTAGAATTATTTCCAGAGGTCACAACAACAGAGTCCAATTATCTTCTAACGTCCGTCACGGTGAAATGGACTGTTTG",
         "0",
         "GAG",
         "{0: 'GAG'}"
        ],
        [
         "0",
         "CN_F1",
         "TCTCCTGTTGAAGGTTCTCCAGCTAAGCCAGAAGATTACCCACACTTCATGTCCGTTGCTCACGAACAAGCTTTGAAGTCTTTGTCTGAAGGTGGTATTCCAATTGGTGCTGCTTTGGTTCATTTGCCAACTTCTAGAATTATTTCCAGAGGTCACAACAACAGAGTCCAATTATCTTCTAACGTCCGTCACGGTGAAATGGACTGTTTG",
         "TCTCCTGTTGAAGGTTCTCCAGCTAAGCCAGAAGATTACCCACACTTCATGTCCGTTGCTCACGAACAAGCTTTGAAGTCTTTGTCTGAAGGTGGTATTCCAATTGGTGCTGCTTTGGTTCATTTGCCAACTTCTAGAATTATTTCCAGAGGTCACAACAACAGAGTCCAATTATCTTCTAACGTCCGTCACGGTGAAATGGACTGTTTG",
         "0",
         "TGT",
         "{0: 'TGT'}"
        ],
        [
         "0",
         "CN_F1",
         "TCTCCTGTTGAAGGTTCTCCAGCTAAGCCAGAAGATTACCCACACTTCATGTCCGTTGCTCACGAACAAGCTTTGAAGTCTTTGTCTGAAGGTGGTATTCCAATTGGTGCTGCTTTGGTTCATTTGCCAACTTCTAGAATTATTTCCAGAGGTCACAACAACAGAGTCCAATTATCTTCTAACGTCCGTCACGGTGAAATGGACTGTTTG",
         "TCTCCTGTTGAAGGTTCTCCAGCTAAGCCAGAAGATTACCCACACTTCATGTCCGTTGCTCACGAACAAGCTTTGAAGTCTTTGTCTGAAGGTGGTATTCCAATTGGTGCTGCTTTGGTTCATTTGCCAACTTCTAGAATTATTTCCAGAGGTCACAACAACAGAGTCCAATTATCTTCTAACGTCCGTCACGGTGAAATGGACTGTTTG",
         "0",
         "TGG",
         "{0: 'TGG'}"
        ],
        [
         "0",
         "CN_F1",
         "TCTCCTGTTGAAGGTTCTCCAGCTAAGCCAGAAGATTACCCACACTTCATGTCCGTTGCTCACGAACAAGCTTTGAAGTCTTTGTCTGAAGGTGGTATTCCAATTGGTGCTGCTTTGGTTCATTTGCCAACTTCTAGAATTATTTCCAGAGGTCACAACAACAGAGTCCAATTATCTTCTAACGTCCGTCACGGTGAAATGGACTGTTTG",
         "TCTCCTGTTGAAGGTTCTCCAGCTAAGCCAGAAGATTACCCACACTTCATGTCCGTTGCTCACGAACAAGCTTTGAAGTCTTTGTCTGAAGGTGGTATTCCAATTGGTGCTGCTTTGGTTCATTTGCCAACTTCTAGAATTATTTCCAGAGGTCACAACAACAGAGTCCAATTATCTTCTAACGTCCGTCACGGTGAAATGGACTGTTTG",
         "0",
         "CGT",
         "{0: 'CGT'}"
        ],
        [
         "0",
         "CN_F1",
         "TCTCCTGTTGAAGGTTCTCCAGCTAAGCCAGAAGATTACCCACACTTCATGTCCGTTGCTCACGAACAAGCTTTGAAGTCTTTGTCTGAAGGTGGTATTCCAATTGGTGCTGCTTTGGTTCATTTGCCAACTTCTAGAATTATTTCCAGAGGTCACAACAACAGAGTCCAATTATCTTCTAACGTCCGTCACGGTGAAATGGACTGTTTG",
         "TCTCCTGTTGAAGGTTCTCCAGCTAAGCCAGAAGATTACCCACACTTCATGTCCGTTGCTCACGAACAAGCTTTGAAGTCTTTGTCTGAAGGTGGTATTCCAATTGGTGCTGCTTTGGTTCATTTGCCAACTTCTAGAATTATTTCCAGAGGTCACAACAACAGAGTCCAATTATCTTCTAACGTCCGTCACGGTGAAATGGACTGTTTG",
         "0",
         "CGG",
         "{0: 'CGG'}"
        ],
        [
         "0",
         "CN_F1",
         "TCTCCTGTTGAAGGTTCTCCAGCTAAGCCAGAAGATTACCCACACTTCATGTCCGTTGCTCACGAACAAGCTTTGAAGTCTTTGTCTGAAGGTGGTATTCCAATTGGTGCTGCTTTGGTTCATTTGCCAACTTCTAGAATTATTTCCAGAGGTCACAACAACAGAGTCCAATTATCTTCTAACGTCCGTCACGGTGAAATGGACTGTTTG",
         "TCTCCTGTTGAAGGTTCTCCAGCTAAGCCAGAAGATTACCCACACTTCATGTCCGTTGCTCACGAACAAGCTTTGAAGTCTTTGTCTGAAGGTGGTATTCCAATTGGTGCTGCTTTGGTTCATTTGCCAACTTCTAGAATTATTTCCAGAGGTCACAACAACAGAGTCCAATTATCTTCTAACGTCCGTCACGGTGAAATGGACTGTTTG",
         "0",
         "AGT",
         "{0: 'AGT'}"
        ],
        [
         "0",
         "CN_F1",
         "TCTCCTGTTGAAGGTTCTCCAGCTAAGCCAGAAGATTACCCACACTTCATGTCCGTTGCTCACGAACAAGCTTTGAAGTCTTTGTCTGAAGGTGGTATTCCAATTGGTGCTGCTTTGGTTCATTTGCCAACTTCTAGAATTATTTCCAGAGGTCACAACAACAGAGTCCAATTATCTTCTAACGTCCGTCACGGTGAAATGGACTGTTTG",
         "TCTCCTGTTGAAGGTTCTCCAGCTAAGCCAGAAGATTACCCACACTTCATGTCCGTTGCTCACGAACAAGCTTTGAAGTCTTTGTCTGAAGGTGGTATTCCAATTGGTGCTGCTTTGGTTCATTTGCCAACTTCTAGAATTATTTCCAGAGGTCACAACAACAGAGTCCAATTATCTTCTAACGTCCGTCACGGTGAAATGGACTGTTTG",
         "0",
         "AGG",
         "{0: 'AGG'}"
        ],
        [
         "0",
         "CN_F1",
         "TCTCCTGTTGAAGGTTCTCCAGCTAAGCCAGAAGATTACCCACACTTCATGTCCGTTGCTCACGAACAAGCTTTGAAGTCTTTGTCTGAAGGTGGTATTCCAATTGGTGCTGCTTTGGTTCATTTGCCAACTTCTAGAATTATTTCCAGAGGTCACAACAACAGAGTCCAATTATCTTCTAACGTCCGTCACGGTGAAATGGACTGTTTG",
         "TCTCCTGTTGAAGGTTCTCCAGCTAAGCCAGAAGATTACCCACACTTCATGTCCGTTGCTCACGAACAAGCTTTGAAGTCTTTGTCTGAAGGTGGTATTCCAATTGGTGCTGCTTTGGTTCATTTGCCAACTTCTAGAATTATTTCCAGAGGTCACAACAACAGAGTCCAATTATCTTCTAACGTCCGTCACGGTGAAATGGACTGTTTG",
         "0",
         "GGT",
         "{0: 'GGT'}"
        ],
        [
         "0",
         "CN_F1",
         "TCTCCTGTTGAAGGTTCTCCAGCTAAGCCAGAAGATTACCCACACTTCATGTCCGTTGCTCACGAACAAGCTTTGAAGTCTTTGTCTGAAGGTGGTATTCCAATTGGTGCTGCTTTGGTTCATTTGCCAACTTCTAGAATTATTTCCAGAGGTCACAACAACAGAGTCCAATTATCTTCTAACGTCCGTCACGGTGAAATGGACTGTTTG",
         "TCTCCTGTTGAAGGTTCTCCAGCTAAGCCAGAAGATTACCCACACTTCATGTCCGTTGCTCACGAACAAGCTTTGAAGTCTTTGTCTGAAGGTGGTATTCCAATTGGTGCTGCTTTGGTTCATTTGCCAACTTCTAGAATTATTTCCAGAGGTCACAACAACAGAGTCCAATTATCTTCTAACGTCCGTCACGGTGAAATGGACTGTTTG",
         "0",
         "GGG",
         "{0: 'GGG'}"
        ],
        [
         "0",
         "CN_F1",
         "TCTCCTGTTGAAGGTTCTCCAGCTAAGCCAGAAGATTACCCACACTTCATGTCCGTTGCTCACGAACAAGCTTTGAAGTCTTTGTCTGAAGGTGGTATTCCAATTGGTGCTGCTTTGGTTCATTTGCCAACTTCTAGAATTATTTCCAGAGGTCACAACAACAGAGTCCAATTATCTTCTAACGTCCGTCACGGTGAAATGGACTGTTTG",
         "TCTCCTGTTGAAGGTTCTCCAGCTAAGCCAGAAGATTACCCACACTTCATGTCCGTTGCTCACGAACAAGCTTTGAAGTCTTTGTCTGAAGGTGGTATTCCAATTGGTGCTGCTTTGGTTCATTTGCCAACTTCTAGAATTATTTCCAGAGGTCACAACAACAGAGTCCAATTATCTTCTAACGTCCGTCACGGTGAAATGGACTGTTTG",
         "1",
         "TTT",
         "{1: 'TTT'}"
        ],
        [
         "0",
         "CN_F1",
         "TCTCCTGTTGAAGGTTCTCCAGCTAAGCCAGAAGATTACCCACACTTCATGTCCGTTGCTCACGAACAAGCTTTGAAGTCTTTGTCTGAAGGTGGTATTCCAATTGGTGCTGCTTTGGTTCATTTGCCAACTTCTAGAATTATTTCCAGAGGTCACAACAACAGAGTCCAATTATCTTCTAACGTCCGTCACGGTGAAATGGACTGTTTG",
         "TCTCCTGTTGAAGGTTCTCCAGCTAAGCCAGAAGATTACCCACACTTCATGTCCGTTGCTCACGAACAAGCTTTGAAGTCTTTGTCTGAAGGTGGTATTCCAATTGGTGCTGCTTTGGTTCATTTGCCAACTTCTAGAATTATTTCCAGAGGTCACAACAACAGAGTCCAATTATCTTCTAACGTCCGTCACGGTGAAATGGACTGTTTG",
         "1",
         "TTG",
         "{1: 'TTG'}"
        ],
        [
         "0",
         "CN_F1",
         "TCTCCTGTTGAAGGTTCTCCAGCTAAGCCAGAAGATTACCCACACTTCATGTCCGTTGCTCACGAACAAGCTTTGAAGTCTTTGTCTGAAGGTGGTATTCCAATTGGTGCTGCTTTGGTTCATTTGCCAACTTCTAGAATTATTTCCAGAGGTCACAACAACAGAGTCCAATTATCTTCTAACGTCCGTCACGGTGAAATGGACTGTTTG",
         "TCTCCTGTTGAAGGTTCTCCAGCTAAGCCAGAAGATTACCCACACTTCATGTCCGTTGCTCACGAACAAGCTTTGAAGTCTTTGTCTGAAGGTGGTATTCCAATTGGTGCTGCTTTGGTTCATTTGCCAACTTCTAGAATTATTTCCAGAGGTCACAACAACAGAGTCCAATTATCTTCTAACGTCCGTCACGGTGAAATGGACTGTTTG",
         "1",
         "CTT",
         "{1: 'CTT'}"
        ],
        [
         "0",
         "CN_F1",
         "TCTCCTGTTGAAGGTTCTCCAGCTAAGCCAGAAGATTACCCACACTTCATGTCCGTTGCTCACGAACAAGCTTTGAAGTCTTTGTCTGAAGGTGGTATTCCAATTGGTGCTGCTTTGGTTCATTTGCCAACTTCTAGAATTATTTCCAGAGGTCACAACAACAGAGTCCAATTATCTTCTAACGTCCGTCACGGTGAAATGGACTGTTTG",
         "TCTCCTGTTGAAGGTTCTCCAGCTAAGCCAGAAGATTACCCACACTTCATGTCCGTTGCTCACGAACAAGCTTTGAAGTCTTTGTCTGAAGGTGGTATTCCAATTGGTGCTGCTTTGGTTCATTTGCCAACTTCTAGAATTATTTCCAGAGGTCACAACAACAGAGTCCAATTATCTTCTAACGTCCGTCACGGTGAAATGGACTGTTTG",
         "1",
         "CTG",
         "{1: 'CTG'}"
        ],
        [
         "0",
         "CN_F1",
         "TCTCCTGTTGAAGGTTCTCCAGCTAAGCCAGAAGATTACCCACACTTCATGTCCGTTGCTCACGAACAAGCTTTGAAGTCTTTGTCTGAAGGTGGTATTCCAATTGGTGCTGCTTTGGTTCATTTGCCAACTTCTAGAATTATTTCCAGAGGTCACAACAACAGAGTCCAATTATCTTCTAACGTCCGTCACGGTGAAATGGACTGTTTG",
         "TCTCCTGTTGAAGGTTCTCCAGCTAAGCCAGAAGATTACCCACACTTCATGTCCGTTGCTCACGAACAAGCTTTGAAGTCTTTGTCTGAAGGTGGTATTCCAATTGGTGCTGCTTTGGTTCATTTGCCAACTTCTAGAATTATTTCCAGAGGTCACAACAACAGAGTCCAATTATCTTCTAACGTCCGTCACGGTGAAATGGACTGTTTG",
         "1",
         "ATT",
         "{1: 'ATT'}"
        ],
        [
         "0",
         "CN_F1",
         "TCTCCTGTTGAAGGTTCTCCAGCTAAGCCAGAAGATTACCCACACTTCATGTCCGTTGCTCACGAACAAGCTTTGAAGTCTTTGTCTGAAGGTGGTATTCCAATTGGTGCTGCTTTGGTTCATTTGCCAACTTCTAGAATTATTTCCAGAGGTCACAACAACAGAGTCCAATTATCTTCTAACGTCCGTCACGGTGAAATGGACTGTTTG",
         "TCTCCTGTTGAAGGTTCTCCAGCTAAGCCAGAAGATTACCCACACTTCATGTCCGTTGCTCACGAACAAGCTTTGAAGTCTTTGTCTGAAGGTGGTATTCCAATTGGTGCTGCTTTGGTTCATTTGCCAACTTCTAGAATTATTTCCAGAGGTCACAACAACAGAGTCCAATTATCTTCTAACGTCCGTCACGGTGAAATGGACTGTTTG",
         "1",
         "ATG",
         "{1: 'ATG'}"
        ],
        [
         "0",
         "CN_F1",
         "TCTCCTGTTGAAGGTTCTCCAGCTAAGCCAGAAGATTACCCACACTTCATGTCCGTTGCTCACGAACAAGCTTTGAAGTCTTTGTCTGAAGGTGGTATTCCAATTGGTGCTGCTTTGGTTCATTTGCCAACTTCTAGAATTATTTCCAGAGGTCACAACAACAGAGTCCAATTATCTTCTAACGTCCGTCACGGTGAAATGGACTGTTTG",
         "TCTCCTGTTGAAGGTTCTCCAGCTAAGCCAGAAGATTACCCACACTTCATGTCCGTTGCTCACGAACAAGCTTTGAAGTCTTTGTCTGAAGGTGGTATTCCAATTGGTGCTGCTTTGGTTCATTTGCCAACTTCTAGAATTATTTCCAGAGGTCACAACAACAGAGTCCAATTATCTTCTAACGTCCGTCACGGTGAAATGGACTGTTTG",
         "1",
         "GTT",
         "{1: 'GTT'}"
        ],
        [
         "0",
         "CN_F1",
         "TCTCCTGTTGAAGGTTCTCCAGCTAAGCCAGAAGATTACCCACACTTCATGTCCGTTGCTCACGAACAAGCTTTGAAGTCTTTGTCTGAAGGTGGTATTCCAATTGGTGCTGCTTTGGTTCATTTGCCAACTTCTAGAATTATTTCCAGAGGTCACAACAACAGAGTCCAATTATCTTCTAACGTCCGTCACGGTGAAATGGACTGTTTG",
         "TCTCCTGTTGAAGGTTCTCCAGCTAAGCCAGAAGATTACCCACACTTCATGTCCGTTGCTCACGAACAAGCTTTGAAGTCTTTGTCTGAAGGTGGTATTCCAATTGGTGCTGCTTTGGTTCATTTGCCAACTTCTAGAATTATTTCCAGAGGTCACAACAACAGAGTCCAATTATCTTCTAACGTCCGTCACGGTGAAATGGACTGTTTG",
         "1",
         "GTG",
         "{1: 'GTG'}"
        ],
        [
         "0",
         "CN_F1",
         "TCTCCTGTTGAAGGTTCTCCAGCTAAGCCAGAAGATTACCCACACTTCATGTCCGTTGCTCACGAACAAGCTTTGAAGTCTTTGTCTGAAGGTGGTATTCCAATTGGTGCTGCTTTGGTTCATTTGCCAACTTCTAGAATTATTTCCAGAGGTCACAACAACAGAGTCCAATTATCTTCTAACGTCCGTCACGGTGAAATGGACTGTTTG",
         "TCTCCTGTTGAAGGTTCTCCAGCTAAGCCAGAAGATTACCCACACTTCATGTCCGTTGCTCACGAACAAGCTTTGAAGTCTTTGTCTGAAGGTGGTATTCCAATTGGTGCTGCTTTGGTTCATTTGCCAACTTCTAGAATTATTTCCAGAGGTCACAACAACAGAGTCCAATTATCTTCTAACGTCCGTCACGGTGAAATGGACTGTTTG",
         "1",
         "TCT",
         "{1: 'TCT'}"
        ],
        [
         "0",
         "CN_F1",
         "TCTCCTGTTGAAGGTTCTCCAGCTAAGCCAGAAGATTACCCACACTTCATGTCCGTTGCTCACGAACAAGCTTTGAAGTCTTTGTCTGAAGGTGGTATTCCAATTGGTGCTGCTTTGGTTCATTTGCCAACTTCTAGAATTATTTCCAGAGGTCACAACAACAGAGTCCAATTATCTTCTAACGTCCGTCACGGTGAAATGGACTGTTTG",
         "TCTCCTGTTGAAGGTTCTCCAGCTAAGCCAGAAGATTACCCACACTTCATGTCCGTTGCTCACGAACAAGCTTTGAAGTCTTTGTCTGAAGGTGGTATTCCAATTGGTGCTGCTTTGGTTCATTTGCCAACTTCTAGAATTATTTCCAGAGGTCACAACAACAGAGTCCAATTATCTTCTAACGTCCGTCACGGTGAAATGGACTGTTTG",
         "1",
         "TCG",
         "{1: 'TCG'}"
        ],
        [
         "0",
         "CN_F1",
         "TCTCCTGTTGAAGGTTCTCCAGCTAAGCCAGAAGATTACCCACACTTCATGTCCGTTGCTCACGAACAAGCTTTGAAGTCTTTGTCTGAAGGTGGTATTCCAATTGGTGCTGCTTTGGTTCATTTGCCAACTTCTAGAATTATTTCCAGAGGTCACAACAACAGAGTCCAATTATCTTCTAACGTCCGTCACGGTGAAATGGACTGTTTG",
         "TCTCCTGTTGAAGGTTCTCCAGCTAAGCCAGAAGATTACCCACACTTCATGTCCGTTGCTCACGAACAAGCTTTGAAGTCTTTGTCTGAAGGTGGTATTCCAATTGGTGCTGCTTTGGTTCATTTGCCAACTTCTAGAATTATTTCCAGAGGTCACAACAACAGAGTCCAATTATCTTCTAACGTCCGTCACGGTGAAATGGACTGTTTG",
         "1",
         "CCG",
         "{1: 'CCG'}"
        ],
        [
         "0",
         "CN_F1",
         "TCTCCTGTTGAAGGTTCTCCAGCTAAGCCAGAAGATTACCCACACTTCATGTCCGTTGCTCACGAACAAGCTTTGAAGTCTTTGTCTGAAGGTGGTATTCCAATTGGTGCTGCTTTGGTTCATTTGCCAACTTCTAGAATTATTTCCAGAGGTCACAACAACAGAGTCCAATTATCTTCTAACGTCCGTCACGGTGAAATGGACTGTTTG",
         "TCTCCTGTTGAAGGTTCTCCAGCTAAGCCAGAAGATTACCCACACTTCATGTCCGTTGCTCACGAACAAGCTTTGAAGTCTTTGTCTGAAGGTGGTATTCCAATTGGTGCTGCTTTGGTTCATTTGCCAACTTCTAGAATTATTTCCAGAGGTCACAACAACAGAGTCCAATTATCTTCTAACGTCCGTCACGGTGAAATGGACTGTTTG",
         "1",
         "ACT",
         "{1: 'ACT'}"
        ],
        [
         "0",
         "CN_F1",
         "TCTCCTGTTGAAGGTTCTCCAGCTAAGCCAGAAGATTACCCACACTTCATGTCCGTTGCTCACGAACAAGCTTTGAAGTCTTTGTCTGAAGGTGGTATTCCAATTGGTGCTGCTTTGGTTCATTTGCCAACTTCTAGAATTATTTCCAGAGGTCACAACAACAGAGTCCAATTATCTTCTAACGTCCGTCACGGTGAAATGGACTGTTTG",
         "TCTCCTGTTGAAGGTTCTCCAGCTAAGCCAGAAGATTACCCACACTTCATGTCCGTTGCTCACGAACAAGCTTTGAAGTCTTTGTCTGAAGGTGGTATTCCAATTGGTGCTGCTTTGGTTCATTTGCCAACTTCTAGAATTATTTCCAGAGGTCACAACAACAGAGTCCAATTATCTTCTAACGTCCGTCACGGTGAAATGGACTGTTTG",
         "1",
         "ACG",
         "{1: 'ACG'}"
        ],
        [
         "0",
         "CN_F1",
         "TCTCCTGTTGAAGGTTCTCCAGCTAAGCCAGAAGATTACCCACACTTCATGTCCGTTGCTCACGAACAAGCTTTGAAGTCTTTGTCTGAAGGTGGTATTCCAATTGGTGCTGCTTTGGTTCATTTGCCAACTTCTAGAATTATTTCCAGAGGTCACAACAACAGAGTCCAATTATCTTCTAACGTCCGTCACGGTGAAATGGACTGTTTG",
         "TCTCCTGTTGAAGGTTCTCCAGCTAAGCCAGAAGATTACCCACACTTCATGTCCGTTGCTCACGAACAAGCTTTGAAGTCTTTGTCTGAAGGTGGTATTCCAATTGGTGCTGCTTTGGTTCATTTGCCAACTTCTAGAATTATTTCCAGAGGTCACAACAACAGAGTCCAATTATCTTCTAACGTCCGTCACGGTGAAATGGACTGTTTG",
         "1",
         "GCT",
         "{1: 'GCT'}"
        ],
        [
         "0",
         "CN_F1",
         "TCTCCTGTTGAAGGTTCTCCAGCTAAGCCAGAAGATTACCCACACTTCATGTCCGTTGCTCACGAACAAGCTTTGAAGTCTTTGTCTGAAGGTGGTATTCCAATTGGTGCTGCTTTGGTTCATTTGCCAACTTCTAGAATTATTTCCAGAGGTCACAACAACAGAGTCCAATTATCTTCTAACGTCCGTCACGGTGAAATGGACTGTTTG",
         "TCTCCTGTTGAAGGTTCTCCAGCTAAGCCAGAAGATTACCCACACTTCATGTCCGTTGCTCACGAACAAGCTTTGAAGTCTTTGTCTGAAGGTGGTATTCCAATTGGTGCTGCTTTGGTTCATTTGCCAACTTCTAGAATTATTTCCAGAGGTCACAACAACAGAGTCCAATTATCTTCTAACGTCCGTCACGGTGAAATGGACTGTTTG",
         "1",
         "GCG",
         "{1: 'GCG'}"
        ],
        [
         "0",
         "CN_F1",
         "TCTCCTGTTGAAGGTTCTCCAGCTAAGCCAGAAGATTACCCACACTTCATGTCCGTTGCTCACGAACAAGCTTTGAAGTCTTTGTCTGAAGGTGGTATTCCAATTGGTGCTGCTTTGGTTCATTTGCCAACTTCTAGAATTATTTCCAGAGGTCACAACAACAGAGTCCAATTATCTTCTAACGTCCGTCACGGTGAAATGGACTGTTTG",
         "TCTCCTGTTGAAGGTTCTCCAGCTAAGCCAGAAGATTACCCACACTTCATGTCCGTTGCTCACGAACAAGCTTTGAAGTCTTTGTCTGAAGGTGGTATTCCAATTGGTGCTGCTTTGGTTCATTTGCCAACTTCTAGAATTATTTCCAGAGGTCACAACAACAGAGTCCAATTATCTTCTAACGTCCGTCACGGTGAAATGGACTGTTTG",
         "1",
         "TAT",
         "{1: 'TAT'}"
        ],
        [
         "0",
         "CN_F1",
         "TCTCCTGTTGAAGGTTCTCCAGCTAAGCCAGAAGATTACCCACACTTCATGTCCGTTGCTCACGAACAAGCTTTGAAGTCTTTGTCTGAAGGTGGTATTCCAATTGGTGCTGCTTTGGTTCATTTGCCAACTTCTAGAATTATTTCCAGAGGTCACAACAACAGAGTCCAATTATCTTCTAACGTCCGTCACGGTGAAATGGACTGTTTG",
         "TCTCCTGTTGAAGGTTCTCCAGCTAAGCCAGAAGATTACCCACACTTCATGTCCGTTGCTCACGAACAAGCTTTGAAGTCTTTGTCTGAAGGTGGTATTCCAATTGGTGCTGCTTTGGTTCATTTGCCAACTTCTAGAATTATTTCCAGAGGTCACAACAACAGAGTCCAATTATCTTCTAACGTCCGTCACGGTGAAATGGACTGTTTG",
         "1",
         "TAG",
         "{1: 'TAG'}"
        ],
        [
         "0",
         "CN_F1",
         "TCTCCTGTTGAAGGTTCTCCAGCTAAGCCAGAAGATTACCCACACTTCATGTCCGTTGCTCACGAACAAGCTTTGAAGTCTTTGTCTGAAGGTGGTATTCCAATTGGTGCTGCTTTGGTTCATTTGCCAACTTCTAGAATTATTTCCAGAGGTCACAACAACAGAGTCCAATTATCTTCTAACGTCCGTCACGGTGAAATGGACTGTTTG",
         "TCTCCTGTTGAAGGTTCTCCAGCTAAGCCAGAAGATTACCCACACTTCATGTCCGTTGCTCACGAACAAGCTTTGAAGTCTTTGTCTGAAGGTGGTATTCCAATTGGTGCTGCTTTGGTTCATTTGCCAACTTCTAGAATTATTTCCAGAGGTCACAACAACAGAGTCCAATTATCTTCTAACGTCCGTCACGGTGAAATGGACTGTTTG",
         "1",
         "CAT",
         "{1: 'CAT'}"
        ],
        [
         "0",
         "CN_F1",
         "TCTCCTGTTGAAGGTTCTCCAGCTAAGCCAGAAGATTACCCACACTTCATGTCCGTTGCTCACGAACAAGCTTTGAAGTCTTTGTCTGAAGGTGGTATTCCAATTGGTGCTGCTTTGGTTCATTTGCCAACTTCTAGAATTATTTCCAGAGGTCACAACAACAGAGTCCAATTATCTTCTAACGTCCGTCACGGTGAAATGGACTGTTTG",
         "TCTCCTGTTGAAGGTTCTCCAGCTAAGCCAGAAGATTACCCACACTTCATGTCCGTTGCTCACGAACAAGCTTTGAAGTCTTTGTCTGAAGGTGGTATTCCAATTGGTGCTGCTTTGGTTCATTTGCCAACTTCTAGAATTATTTCCAGAGGTCACAACAACAGAGTCCAATTATCTTCTAACGTCCGTCACGGTGAAATGGACTGTTTG",
         "1",
         "CAG",
         "{1: 'CAG'}"
        ]
       ],
       "shape": {
        "columns": 6,
        "rows": 2200
       }
      },
      "text/html": [
       "<div>\n",
       "<style scoped>\n",
       "    .dataframe tbody tr th:only-of-type {\n",
       "        vertical-align: middle;\n",
       "    }\n",
       "\n",
       "    .dataframe tbody tr th {\n",
       "        vertical-align: top;\n",
       "    }\n",
       "\n",
       "    .dataframe thead th {\n",
       "        text-align: right;\n",
       "    }\n",
       "</style>\n",
       "<table border=\"1\" class=\"dataframe\">\n",
       "  <thead>\n",
       "    <tr style=\"text-align: right;\">\n",
       "      <th></th>\n",
       "      <th>Mutated_seq</th>\n",
       "      <th>WT_seq</th>\n",
       "      <th>nt_seq</th>\n",
       "      <th>pos</th>\n",
       "      <th>alt_codons</th>\n",
       "      <th>mutations</th>\n",
       "    </tr>\n",
       "  </thead>\n",
       "  <tbody>\n",
       "    <tr>\n",
       "      <th>0</th>\n",
       "      <td>CN_F1</td>\n",
       "      <td>TCTCCTGTTGAAGGTTCTCCAGCTAAGCCAGAAGATTACCCACACT...</td>\n",
       "      <td>TCTCCTGTTGAAGGTTCTCCAGCTAAGCCAGAAGATTACCCACACT...</td>\n",
       "      <td>0</td>\n",
       "      <td>TTT</td>\n",
       "      <td>{0: 'TTT'}</td>\n",
       "    </tr>\n",
       "    <tr>\n",
       "      <th>0</th>\n",
       "      <td>CN_F1</td>\n",
       "      <td>TCTCCTGTTGAAGGTTCTCCAGCTAAGCCAGAAGATTACCCACACT...</td>\n",
       "      <td>TCTCCTGTTGAAGGTTCTCCAGCTAAGCCAGAAGATTACCCACACT...</td>\n",
       "      <td>0</td>\n",
       "      <td>TTG</td>\n",
       "      <td>{0: 'TTG'}</td>\n",
       "    </tr>\n",
       "    <tr>\n",
       "      <th>0</th>\n",
       "      <td>CN_F1</td>\n",
       "      <td>TCTCCTGTTGAAGGTTCTCCAGCTAAGCCAGAAGATTACCCACACT...</td>\n",
       "      <td>TCTCCTGTTGAAGGTTCTCCAGCTAAGCCAGAAGATTACCCACACT...</td>\n",
       "      <td>0</td>\n",
       "      <td>CTT</td>\n",
       "      <td>{0: 'CTT'}</td>\n",
       "    </tr>\n",
       "    <tr>\n",
       "      <th>0</th>\n",
       "      <td>CN_F1</td>\n",
       "      <td>TCTCCTGTTGAAGGTTCTCCAGCTAAGCCAGAAGATTACCCACACT...</td>\n",
       "      <td>TCTCCTGTTGAAGGTTCTCCAGCTAAGCCAGAAGATTACCCACACT...</td>\n",
       "      <td>0</td>\n",
       "      <td>CTG</td>\n",
       "      <td>{0: 'CTG'}</td>\n",
       "    </tr>\n",
       "    <tr>\n",
       "      <th>0</th>\n",
       "      <td>CN_F1</td>\n",
       "      <td>TCTCCTGTTGAAGGTTCTCCAGCTAAGCCAGAAGATTACCCACACT...</td>\n",
       "      <td>TCTCCTGTTGAAGGTTCTCCAGCTAAGCCAGAAGATTACCCACACT...</td>\n",
       "      <td>0</td>\n",
       "      <td>ATT</td>\n",
       "      <td>{0: 'ATT'}</td>\n",
       "    </tr>\n",
       "    <tr>\n",
       "      <th>...</th>\n",
       "      <td>...</td>\n",
       "      <td>...</td>\n",
       "      <td>...</td>\n",
       "      <td>...</td>\n",
       "      <td>...</td>\n",
       "      <td>...</td>\n",
       "    </tr>\n",
       "    <tr>\n",
       "      <th>0</th>\n",
       "      <td>CN_F1</td>\n",
       "      <td>TCTCCTGTTGAAGGTTCTCCAGCTAAGCCAGAAGATTACCCACACT...</td>\n",
       "      <td>TCTCCTGTTGAAGGTTCTCCAGCTAAGCCAGAAGATTACCCACACT...</td>\n",
       "      <td>69</td>\n",
       "      <td>CGG</td>\n",
       "      <td>{69: 'CGG'}</td>\n",
       "    </tr>\n",
       "    <tr>\n",
       "      <th>0</th>\n",
       "      <td>CN_F1</td>\n",
       "      <td>TCTCCTGTTGAAGGTTCTCCAGCTAAGCCAGAAGATTACCCACACT...</td>\n",
       "      <td>TCTCCTGTTGAAGGTTCTCCAGCTAAGCCAGAAGATTACCCACACT...</td>\n",
       "      <td>69</td>\n",
       "      <td>AGT</td>\n",
       "      <td>{69: 'AGT'}</td>\n",
       "    </tr>\n",
       "    <tr>\n",
       "      <th>0</th>\n",
       "      <td>CN_F1</td>\n",
       "      <td>TCTCCTGTTGAAGGTTCTCCAGCTAAGCCAGAAGATTACCCACACT...</td>\n",
       "      <td>TCTCCTGTTGAAGGTTCTCCAGCTAAGCCAGAAGATTACCCACACT...</td>\n",
       "      <td>69</td>\n",
       "      <td>AGG</td>\n",
       "      <td>{69: 'AGG'}</td>\n",
       "    </tr>\n",
       "    <tr>\n",
       "      <th>0</th>\n",
       "      <td>CN_F1</td>\n",
       "      <td>TCTCCTGTTGAAGGTTCTCCAGCTAAGCCAGAAGATTACCCACACT...</td>\n",
       "      <td>TCTCCTGTTGAAGGTTCTCCAGCTAAGCCAGAAGATTACCCACACT...</td>\n",
       "      <td>69</td>\n",
       "      <td>GGT</td>\n",
       "      <td>{69: 'GGT'}</td>\n",
       "    </tr>\n",
       "    <tr>\n",
       "      <th>0</th>\n",
       "      <td>CN_F1</td>\n",
       "      <td>TCTCCTGTTGAAGGTTCTCCAGCTAAGCCAGAAGATTACCCACACT...</td>\n",
       "      <td>TCTCCTGTTGAAGGTTCTCCAGCTAAGCCAGAAGATTACCCACACT...</td>\n",
       "      <td>69</td>\n",
       "      <td>GGG</td>\n",
       "      <td>{69: 'GGG'}</td>\n",
       "    </tr>\n",
       "  </tbody>\n",
       "</table>\n",
       "<p>2200 rows × 6 columns</p>\n",
       "</div>"
      ],
      "text/plain": [
       "   Mutated_seq                                             WT_seq  \\\n",
       "0        CN_F1  TCTCCTGTTGAAGGTTCTCCAGCTAAGCCAGAAGATTACCCACACT...   \n",
       "0        CN_F1  TCTCCTGTTGAAGGTTCTCCAGCTAAGCCAGAAGATTACCCACACT...   \n",
       "0        CN_F1  TCTCCTGTTGAAGGTTCTCCAGCTAAGCCAGAAGATTACCCACACT...   \n",
       "0        CN_F1  TCTCCTGTTGAAGGTTCTCCAGCTAAGCCAGAAGATTACCCACACT...   \n",
       "0        CN_F1  TCTCCTGTTGAAGGTTCTCCAGCTAAGCCAGAAGATTACCCACACT...   \n",
       "..         ...                                                ...   \n",
       "0        CN_F1  TCTCCTGTTGAAGGTTCTCCAGCTAAGCCAGAAGATTACCCACACT...   \n",
       "0        CN_F1  TCTCCTGTTGAAGGTTCTCCAGCTAAGCCAGAAGATTACCCACACT...   \n",
       "0        CN_F1  TCTCCTGTTGAAGGTTCTCCAGCTAAGCCAGAAGATTACCCACACT...   \n",
       "0        CN_F1  TCTCCTGTTGAAGGTTCTCCAGCTAAGCCAGAAGATTACCCACACT...   \n",
       "0        CN_F1  TCTCCTGTTGAAGGTTCTCCAGCTAAGCCAGAAGATTACCCACACT...   \n",
       "\n",
       "                                               nt_seq pos alt_codons  \\\n",
       "0   TCTCCTGTTGAAGGTTCTCCAGCTAAGCCAGAAGATTACCCACACT...   0        TTT   \n",
       "0   TCTCCTGTTGAAGGTTCTCCAGCTAAGCCAGAAGATTACCCACACT...   0        TTG   \n",
       "0   TCTCCTGTTGAAGGTTCTCCAGCTAAGCCAGAAGATTACCCACACT...   0        CTT   \n",
       "0   TCTCCTGTTGAAGGTTCTCCAGCTAAGCCAGAAGATTACCCACACT...   0        CTG   \n",
       "0   TCTCCTGTTGAAGGTTCTCCAGCTAAGCCAGAAGATTACCCACACT...   0        ATT   \n",
       "..                                                ...  ..        ...   \n",
       "0   TCTCCTGTTGAAGGTTCTCCAGCTAAGCCAGAAGATTACCCACACT...  69        CGG   \n",
       "0   TCTCCTGTTGAAGGTTCTCCAGCTAAGCCAGAAGATTACCCACACT...  69        AGT   \n",
       "0   TCTCCTGTTGAAGGTTCTCCAGCTAAGCCAGAAGATTACCCACACT...  69        AGG   \n",
       "0   TCTCCTGTTGAAGGTTCTCCAGCTAAGCCAGAAGATTACCCACACT...  69        GGT   \n",
       "0   TCTCCTGTTGAAGGTTCTCCAGCTAAGCCAGAAGATTACCCACACT...  69        GGG   \n",
       "\n",
       "      mutations  \n",
       "0    {0: 'TTT'}  \n",
       "0    {0: 'TTG'}  \n",
       "0    {0: 'CTT'}  \n",
       "0    {0: 'CTG'}  \n",
       "0    {0: 'ATT'}  \n",
       "..          ...  \n",
       "0   {69: 'CGG'}  \n",
       "0   {69: 'AGT'}  \n",
       "0   {69: 'AGG'}  \n",
       "0   {69: 'GGT'}  \n",
       "0   {69: 'GGG'}  \n",
       "\n",
       "[2200 rows x 6 columns]"
      ]
     },
     "execution_count": 13,
     "metadata": {},
     "output_type": "execute_result"
    }
   ],
   "source": [
    "singles_df[\"mutations\"] = singles_df.apply(\n",
    "    lambda row: {row[f\"pos\"]: row[f\"alt_codons\"]}, axis=1\n",
    ")\n",
    "singles_df"
   ]
  },
  {
   "cell_type": "markdown",
   "id": "7a0ea873-2121-4ea2-9689-517be5644162",
   "metadata": {},
   "source": [
    "## Get double mutants (if specified in the config)"
   ]
  },
  {
   "cell_type": "code",
   "execution_count": null,
   "id": "0a4bf04b",
   "metadata": {},
   "outputs": [],
   "source": [
    "if codon_mode in ['NNN x NNN', 'NNK x NNK']:\n",
    "    pairwise_df = wt_df.copy()\n",
    "\n",
    "    # Get pairwise combinations of codons that will be mutated\n",
    "    pairwise_df['combination'] = pairwise_df.WT_seq.apply(lambda x: [x for x in list(itertools.combinations(range(0,len(x)//3), 2)) for _ in range(2)])\n",
    "    doubles_compact_df = pairwise_df.explode('combination')\n",
    "    doubles_compact_df['mutated_codon'] = np.tile([1, 2], len(doubles_compact_df) // 2 + 1)[:len(doubles_compact_df)]\n",
    "    doubles_compact_df['pos'] = doubles_compact_df.apply(lambda row: row.combination[row.mutated_codon - 1], axis=1)\n",
    "    \n",
    "    # Refer to a previously built dataframe to get alternative codons for each mutated codon (out of 2) at each position\n",
    "    doubles_compact_df['alt_codons'] = doubles_compact_df.apply(lambda row: singles_compact.loc[(singles_compact.Mutated_seq == row.Mutated_seq) & (singles_compact.pos == row.pos), 'alt_codons'].item(), axis=1)\n",
    "\n",
    "    # Dataframe is pivoted only to be able to use pd.explode(), then later on melted to go back to long format\n",
    "    doubles_piv = doubles_compact_df.pivot_table(index = ['Mutated_seq', 'WT_seq', 'combination'], columns = 'mutated_codon', values = ['pos', 'alt_codons'], aggfunc = 'first').reset_index()\n",
    "    doubles_piv.columns = [x[0] for x in doubles_piv.columns[:-4]] + [f\"{x[0]}{x[1]}\" for x in doubles_piv.columns[-4:]]\n",
    "    \n",
    "    # Reshape\n",
    "    doubles_exp1 = doubles_piv.explode('alt_codons1')\n",
    "    doubles_exp2 = doubles_exp1.explode('alt_codons2')\n",
    "    doubles_df = doubles_exp2.reset_index(drop=True)\n",
    "    \n",
    "    # Create dictionary of mutations, here we go with numpy to be as efficient as possible, even with very large datasets\n",
    "    keys = np.stack([doubles_df['pos1'].values, doubles_df['pos2'].values], axis=1)\n",
    "    vals = np.stack([doubles_df['alt_codons1'].values, doubles_df['alt_codons2'].values], axis=1)\n",
    "    doubles_df['mutations'] = [dict(zip(k, v)) for k, v in zip(keys, vals)]"
   ]
  },
  {
   "cell_type": "markdown",
   "id": "aeef937e",
   "metadata": {},
   "source": [
    "## Concatenate single mutants and double mutants"
   ]
  },
  {
   "cell_type": "code",
   "execution_count": 15,
   "id": "bd9b8cf9",
   "metadata": {},
   "outputs": [],
   "source": [
    "mutants_df = pd.concat([singles_df, doubles_df], ignore_index=True)"
   ]
  },
  {
   "cell_type": "markdown",
   "id": "b2464c41",
   "metadata": {},
   "source": [
    "## Construct sequences"
   ]
  },
  {
   "cell_type": "code",
   "execution_count": 18,
   "id": "ad13260a-7caa-4900-adee-a136a43b829b",
   "metadata": {},
   "outputs": [
    {
     "data": {
      "application/vnd.microsoft.datawrangler.viewer.v0+json": {
       "columns": [
        {
         "name": "index",
         "rawType": "int64",
         "type": "integer"
        },
        {
         "name": "Mutated_seq",
         "rawType": "object",
         "type": "string"
        },
        {
         "name": "WT_seq",
         "rawType": "object",
         "type": "string"
        },
        {
         "name": "nt_seq",
         "rawType": "object",
         "type": "string"
        },
        {
         "name": "pos",
         "rawType": "object",
         "type": "unknown"
        },
        {
         "name": "alt_codons",
         "rawType": "object",
         "type": "unknown"
        },
        {
         "name": "mutations",
         "rawType": "object",
         "type": "unknown"
        },
        {
         "name": "combination",
         "rawType": "object",
         "type": "unknown"
        },
        {
         "name": "alt_codons1",
         "rawType": "object",
         "type": "unknown"
        },
        {
         "name": "alt_codons2",
         "rawType": "object",
         "type": "unknown"
        },
        {
         "name": "pos1",
         "rawType": "float64",
         "type": "float"
        },
        {
         "name": "pos2",
         "rawType": "float64",
         "type": "float"
        }
       ],
       "ref": "828387af-a2ff-4ec6-9bd0-ee9449586f58",
       "rows": [
        [
         "0",
         "CN_F1",
         "TCTCCTGTTGAAGGTTCTCCAGCTAAGCCAGAAGATTACCCACACTTCATGTCCGTTGCTCACGAACAAGCTTTGAAGTCTTTGTCTGAAGGTGGTATTCCAATTGGTGCTGCTTTGGTTCATTTGCCAACTTCTAGAATTATTTCCAGAGGTCACAACAACAGAGTCCAATTATCTTCTAACGTCCGTCACGGTGAAATGGACTGTTTG",
         "TTTCCTGTTGAAGGTTCTCCAGCTAAGCCAGAAGATTACCCACACTTCATGTCCGTTGCTCACGAACAAGCTTTGAAGTCTTTGTCTGAAGGTGGTATTCCAATTGGTGCTGCTTTGGTTCATTTGCCAACTTCTAGAATTATTTCCAGAGGTCACAACAACAGAGTCCAATTATCTTCTAACGTCCGTCACGGTGAAATGGACTGTTTG",
         "0",
         "TTT",
         "{0: 'TTT'}",
         null,
         null,
         null,
         null,
         null
        ],
        [
         "1",
         "CN_F1",
         "TCTCCTGTTGAAGGTTCTCCAGCTAAGCCAGAAGATTACCCACACTTCATGTCCGTTGCTCACGAACAAGCTTTGAAGTCTTTGTCTGAAGGTGGTATTCCAATTGGTGCTGCTTTGGTTCATTTGCCAACTTCTAGAATTATTTCCAGAGGTCACAACAACAGAGTCCAATTATCTTCTAACGTCCGTCACGGTGAAATGGACTGTTTG",
         "TTGCCTGTTGAAGGTTCTCCAGCTAAGCCAGAAGATTACCCACACTTCATGTCCGTTGCTCACGAACAAGCTTTGAAGTCTTTGTCTGAAGGTGGTATTCCAATTGGTGCTGCTTTGGTTCATTTGCCAACTTCTAGAATTATTTCCAGAGGTCACAACAACAGAGTCCAATTATCTTCTAACGTCCGTCACGGTGAAATGGACTGTTTG",
         "0",
         "TTG",
         "{0: 'TTG'}",
         null,
         null,
         null,
         null,
         null
        ],
        [
         "2",
         "CN_F1",
         "TCTCCTGTTGAAGGTTCTCCAGCTAAGCCAGAAGATTACCCACACTTCATGTCCGTTGCTCACGAACAAGCTTTGAAGTCTTTGTCTGAAGGTGGTATTCCAATTGGTGCTGCTTTGGTTCATTTGCCAACTTCTAGAATTATTTCCAGAGGTCACAACAACAGAGTCCAATTATCTTCTAACGTCCGTCACGGTGAAATGGACTGTTTG",
         "CTTCCTGTTGAAGGTTCTCCAGCTAAGCCAGAAGATTACCCACACTTCATGTCCGTTGCTCACGAACAAGCTTTGAAGTCTTTGTCTGAAGGTGGTATTCCAATTGGTGCTGCTTTGGTTCATTTGCCAACTTCTAGAATTATTTCCAGAGGTCACAACAACAGAGTCCAATTATCTTCTAACGTCCGTCACGGTGAAATGGACTGTTTG",
         "0",
         "CTT",
         "{0: 'CTT'}",
         null,
         null,
         null,
         null,
         null
        ],
        [
         "3",
         "CN_F1",
         "TCTCCTGTTGAAGGTTCTCCAGCTAAGCCAGAAGATTACCCACACTTCATGTCCGTTGCTCACGAACAAGCTTTGAAGTCTTTGTCTGAAGGTGGTATTCCAATTGGTGCTGCTTTGGTTCATTTGCCAACTTCTAGAATTATTTCCAGAGGTCACAACAACAGAGTCCAATTATCTTCTAACGTCCGTCACGGTGAAATGGACTGTTTG",
         "CTGCCTGTTGAAGGTTCTCCAGCTAAGCCAGAAGATTACCCACACTTCATGTCCGTTGCTCACGAACAAGCTTTGAAGTCTTTGTCTGAAGGTGGTATTCCAATTGGTGCTGCTTTGGTTCATTTGCCAACTTCTAGAATTATTTCCAGAGGTCACAACAACAGAGTCCAATTATCTTCTAACGTCCGTCACGGTGAAATGGACTGTTTG",
         "0",
         "CTG",
         "{0: 'CTG'}",
         null,
         null,
         null,
         null,
         null
        ],
        [
         "4",
         "CN_F1",
         "TCTCCTGTTGAAGGTTCTCCAGCTAAGCCAGAAGATTACCCACACTTCATGTCCGTTGCTCACGAACAAGCTTTGAAGTCTTTGTCTGAAGGTGGTATTCCAATTGGTGCTGCTTTGGTTCATTTGCCAACTTCTAGAATTATTTCCAGAGGTCACAACAACAGAGTCCAATTATCTTCTAACGTCCGTCACGGTGAAATGGACTGTTTG",
         "ATTCCTGTTGAAGGTTCTCCAGCTAAGCCAGAAGATTACCCACACTTCATGTCCGTTGCTCACGAACAAGCTTTGAAGTCTTTGTCTGAAGGTGGTATTCCAATTGGTGCTGCTTTGGTTCATTTGCCAACTTCTAGAATTATTTCCAGAGGTCACAACAACAGAGTCCAATTATCTTCTAACGTCCGTCACGGTGAAATGGACTGTTTG",
         "0",
         "ATT",
         "{0: 'ATT'}",
         null,
         null,
         null,
         null,
         null
        ],
        [
         "5",
         "CN_F1",
         "TCTCCTGTTGAAGGTTCTCCAGCTAAGCCAGAAGATTACCCACACTTCATGTCCGTTGCTCACGAACAAGCTTTGAAGTCTTTGTCTGAAGGTGGTATTCCAATTGGTGCTGCTTTGGTTCATTTGCCAACTTCTAGAATTATTTCCAGAGGTCACAACAACAGAGTCCAATTATCTTCTAACGTCCGTCACGGTGAAATGGACTGTTTG",
         "ATGCCTGTTGAAGGTTCTCCAGCTAAGCCAGAAGATTACCCACACTTCATGTCCGTTGCTCACGAACAAGCTTTGAAGTCTTTGTCTGAAGGTGGTATTCCAATTGGTGCTGCTTTGGTTCATTTGCCAACTTCTAGAATTATTTCCAGAGGTCACAACAACAGAGTCCAATTATCTTCTAACGTCCGTCACGGTGAAATGGACTGTTTG",
         "0",
         "ATG",
         "{0: 'ATG'}",
         null,
         null,
         null,
         null,
         null
        ],
        [
         "6",
         "CN_F1",
         "TCTCCTGTTGAAGGTTCTCCAGCTAAGCCAGAAGATTACCCACACTTCATGTCCGTTGCTCACGAACAAGCTTTGAAGTCTTTGTCTGAAGGTGGTATTCCAATTGGTGCTGCTTTGGTTCATTTGCCAACTTCTAGAATTATTTCCAGAGGTCACAACAACAGAGTCCAATTATCTTCTAACGTCCGTCACGGTGAAATGGACTGTTTG",
         "GTTCCTGTTGAAGGTTCTCCAGCTAAGCCAGAAGATTACCCACACTTCATGTCCGTTGCTCACGAACAAGCTTTGAAGTCTTTGTCTGAAGGTGGTATTCCAATTGGTGCTGCTTTGGTTCATTTGCCAACTTCTAGAATTATTTCCAGAGGTCACAACAACAGAGTCCAATTATCTTCTAACGTCCGTCACGGTGAAATGGACTGTTTG",
         "0",
         "GTT",
         "{0: 'GTT'}",
         null,
         null,
         null,
         null,
         null
        ],
        [
         "7",
         "CN_F1",
         "TCTCCTGTTGAAGGTTCTCCAGCTAAGCCAGAAGATTACCCACACTTCATGTCCGTTGCTCACGAACAAGCTTTGAAGTCTTTGTCTGAAGGTGGTATTCCAATTGGTGCTGCTTTGGTTCATTTGCCAACTTCTAGAATTATTTCCAGAGGTCACAACAACAGAGTCCAATTATCTTCTAACGTCCGTCACGGTGAAATGGACTGTTTG",
         "GTGCCTGTTGAAGGTTCTCCAGCTAAGCCAGAAGATTACCCACACTTCATGTCCGTTGCTCACGAACAAGCTTTGAAGTCTTTGTCTGAAGGTGGTATTCCAATTGGTGCTGCTTTGGTTCATTTGCCAACTTCTAGAATTATTTCCAGAGGTCACAACAACAGAGTCCAATTATCTTCTAACGTCCGTCACGGTGAAATGGACTGTTTG",
         "0",
         "GTG",
         "{0: 'GTG'}",
         null,
         null,
         null,
         null,
         null
        ],
        [
         "8",
         "CN_F1",
         "TCTCCTGTTGAAGGTTCTCCAGCTAAGCCAGAAGATTACCCACACTTCATGTCCGTTGCTCACGAACAAGCTTTGAAGTCTTTGTCTGAAGGTGGTATTCCAATTGGTGCTGCTTTGGTTCATTTGCCAACTTCTAGAATTATTTCCAGAGGTCACAACAACAGAGTCCAATTATCTTCTAACGTCCGTCACGGTGAAATGGACTGTTTG",
         "TCGCCTGTTGAAGGTTCTCCAGCTAAGCCAGAAGATTACCCACACTTCATGTCCGTTGCTCACGAACAAGCTTTGAAGTCTTTGTCTGAAGGTGGTATTCCAATTGGTGCTGCTTTGGTTCATTTGCCAACTTCTAGAATTATTTCCAGAGGTCACAACAACAGAGTCCAATTATCTTCTAACGTCCGTCACGGTGAAATGGACTGTTTG",
         "0",
         "TCG",
         "{0: 'TCG'}",
         null,
         null,
         null,
         null,
         null
        ],
        [
         "9",
         "CN_F1",
         "TCTCCTGTTGAAGGTTCTCCAGCTAAGCCAGAAGATTACCCACACTTCATGTCCGTTGCTCACGAACAAGCTTTGAAGTCTTTGTCTGAAGGTGGTATTCCAATTGGTGCTGCTTTGGTTCATTTGCCAACTTCTAGAATTATTTCCAGAGGTCACAACAACAGAGTCCAATTATCTTCTAACGTCCGTCACGGTGAAATGGACTGTTTG",
         "CCTCCTGTTGAAGGTTCTCCAGCTAAGCCAGAAGATTACCCACACTTCATGTCCGTTGCTCACGAACAAGCTTTGAAGTCTTTGTCTGAAGGTGGTATTCCAATTGGTGCTGCTTTGGTTCATTTGCCAACTTCTAGAATTATTTCCAGAGGTCACAACAACAGAGTCCAATTATCTTCTAACGTCCGTCACGGTGAAATGGACTGTTTG",
         "0",
         "CCT",
         "{0: 'CCT'}",
         null,
         null,
         null,
         null,
         null
        ],
        [
         "10",
         "CN_F1",
         "TCTCCTGTTGAAGGTTCTCCAGCTAAGCCAGAAGATTACCCACACTTCATGTCCGTTGCTCACGAACAAGCTTTGAAGTCTTTGTCTGAAGGTGGTATTCCAATTGGTGCTGCTTTGGTTCATTTGCCAACTTCTAGAATTATTTCCAGAGGTCACAACAACAGAGTCCAATTATCTTCTAACGTCCGTCACGGTGAAATGGACTGTTTG",
         "CCGCCTGTTGAAGGTTCTCCAGCTAAGCCAGAAGATTACCCACACTTCATGTCCGTTGCTCACGAACAAGCTTTGAAGTCTTTGTCTGAAGGTGGTATTCCAATTGGTGCTGCTTTGGTTCATTTGCCAACTTCTAGAATTATTTCCAGAGGTCACAACAACAGAGTCCAATTATCTTCTAACGTCCGTCACGGTGAAATGGACTGTTTG",
         "0",
         "CCG",
         "{0: 'CCG'}",
         null,
         null,
         null,
         null,
         null
        ],
        [
         "11",
         "CN_F1",
         "TCTCCTGTTGAAGGTTCTCCAGCTAAGCCAGAAGATTACCCACACTTCATGTCCGTTGCTCACGAACAAGCTTTGAAGTCTTTGTCTGAAGGTGGTATTCCAATTGGTGCTGCTTTGGTTCATTTGCCAACTTCTAGAATTATTTCCAGAGGTCACAACAACAGAGTCCAATTATCTTCTAACGTCCGTCACGGTGAAATGGACTGTTTG",
         "ACTCCTGTTGAAGGTTCTCCAGCTAAGCCAGAAGATTACCCACACTTCATGTCCGTTGCTCACGAACAAGCTTTGAAGTCTTTGTCTGAAGGTGGTATTCCAATTGGTGCTGCTTTGGTTCATTTGCCAACTTCTAGAATTATTTCCAGAGGTCACAACAACAGAGTCCAATTATCTTCTAACGTCCGTCACGGTGAAATGGACTGTTTG",
         "0",
         "ACT",
         "{0: 'ACT'}",
         null,
         null,
         null,
         null,
         null
        ],
        [
         "12",
         "CN_F1",
         "TCTCCTGTTGAAGGTTCTCCAGCTAAGCCAGAAGATTACCCACACTTCATGTCCGTTGCTCACGAACAAGCTTTGAAGTCTTTGTCTGAAGGTGGTATTCCAATTGGTGCTGCTTTGGTTCATTTGCCAACTTCTAGAATTATTTCCAGAGGTCACAACAACAGAGTCCAATTATCTTCTAACGTCCGTCACGGTGAAATGGACTGTTTG",
         "ACGCCTGTTGAAGGTTCTCCAGCTAAGCCAGAAGATTACCCACACTTCATGTCCGTTGCTCACGAACAAGCTTTGAAGTCTTTGTCTGAAGGTGGTATTCCAATTGGTGCTGCTTTGGTTCATTTGCCAACTTCTAGAATTATTTCCAGAGGTCACAACAACAGAGTCCAATTATCTTCTAACGTCCGTCACGGTGAAATGGACTGTTTG",
         "0",
         "ACG",
         "{0: 'ACG'}",
         null,
         null,
         null,
         null,
         null
        ],
        [
         "13",
         "CN_F1",
         "TCTCCTGTTGAAGGTTCTCCAGCTAAGCCAGAAGATTACCCACACTTCATGTCCGTTGCTCACGAACAAGCTTTGAAGTCTTTGTCTGAAGGTGGTATTCCAATTGGTGCTGCTTTGGTTCATTTGCCAACTTCTAGAATTATTTCCAGAGGTCACAACAACAGAGTCCAATTATCTTCTAACGTCCGTCACGGTGAAATGGACTGTTTG",
         "GCTCCTGTTGAAGGTTCTCCAGCTAAGCCAGAAGATTACCCACACTTCATGTCCGTTGCTCACGAACAAGCTTTGAAGTCTTTGTCTGAAGGTGGTATTCCAATTGGTGCTGCTTTGGTTCATTTGCCAACTTCTAGAATTATTTCCAGAGGTCACAACAACAGAGTCCAATTATCTTCTAACGTCCGTCACGGTGAAATGGACTGTTTG",
         "0",
         "GCT",
         "{0: 'GCT'}",
         null,
         null,
         null,
         null,
         null
        ],
        [
         "14",
         "CN_F1",
         "TCTCCTGTTGAAGGTTCTCCAGCTAAGCCAGAAGATTACCCACACTTCATGTCCGTTGCTCACGAACAAGCTTTGAAGTCTTTGTCTGAAGGTGGTATTCCAATTGGTGCTGCTTTGGTTCATTTGCCAACTTCTAGAATTATTTCCAGAGGTCACAACAACAGAGTCCAATTATCTTCTAACGTCCGTCACGGTGAAATGGACTGTTTG",
         "GCGCCTGTTGAAGGTTCTCCAGCTAAGCCAGAAGATTACCCACACTTCATGTCCGTTGCTCACGAACAAGCTTTGAAGTCTTTGTCTGAAGGTGGTATTCCAATTGGTGCTGCTTTGGTTCATTTGCCAACTTCTAGAATTATTTCCAGAGGTCACAACAACAGAGTCCAATTATCTTCTAACGTCCGTCACGGTGAAATGGACTGTTTG",
         "0",
         "GCG",
         "{0: 'GCG'}",
         null,
         null,
         null,
         null,
         null
        ],
        [
         "15",
         "CN_F1",
         "TCTCCTGTTGAAGGTTCTCCAGCTAAGCCAGAAGATTACCCACACTTCATGTCCGTTGCTCACGAACAAGCTTTGAAGTCTTTGTCTGAAGGTGGTATTCCAATTGGTGCTGCTTTGGTTCATTTGCCAACTTCTAGAATTATTTCCAGAGGTCACAACAACAGAGTCCAATTATCTTCTAACGTCCGTCACGGTGAAATGGACTGTTTG",
         "TATCCTGTTGAAGGTTCTCCAGCTAAGCCAGAAGATTACCCACACTTCATGTCCGTTGCTCACGAACAAGCTTTGAAGTCTTTGTCTGAAGGTGGTATTCCAATTGGTGCTGCTTTGGTTCATTTGCCAACTTCTAGAATTATTTCCAGAGGTCACAACAACAGAGTCCAATTATCTTCTAACGTCCGTCACGGTGAAATGGACTGTTTG",
         "0",
         "TAT",
         "{0: 'TAT'}",
         null,
         null,
         null,
         null,
         null
        ],
        [
         "16",
         "CN_F1",
         "TCTCCTGTTGAAGGTTCTCCAGCTAAGCCAGAAGATTACCCACACTTCATGTCCGTTGCTCACGAACAAGCTTTGAAGTCTTTGTCTGAAGGTGGTATTCCAATTGGTGCTGCTTTGGTTCATTTGCCAACTTCTAGAATTATTTCCAGAGGTCACAACAACAGAGTCCAATTATCTTCTAACGTCCGTCACGGTGAAATGGACTGTTTG",
         "TAGCCTGTTGAAGGTTCTCCAGCTAAGCCAGAAGATTACCCACACTTCATGTCCGTTGCTCACGAACAAGCTTTGAAGTCTTTGTCTGAAGGTGGTATTCCAATTGGTGCTGCTTTGGTTCATTTGCCAACTTCTAGAATTATTTCCAGAGGTCACAACAACAGAGTCCAATTATCTTCTAACGTCCGTCACGGTGAAATGGACTGTTTG",
         "0",
         "TAG",
         "{0: 'TAG'}",
         null,
         null,
         null,
         null,
         null
        ],
        [
         "17",
         "CN_F1",
         "TCTCCTGTTGAAGGTTCTCCAGCTAAGCCAGAAGATTACCCACACTTCATGTCCGTTGCTCACGAACAAGCTTTGAAGTCTTTGTCTGAAGGTGGTATTCCAATTGGTGCTGCTTTGGTTCATTTGCCAACTTCTAGAATTATTTCCAGAGGTCACAACAACAGAGTCCAATTATCTTCTAACGTCCGTCACGGTGAAATGGACTGTTTG",
         "CATCCTGTTGAAGGTTCTCCAGCTAAGCCAGAAGATTACCCACACTTCATGTCCGTTGCTCACGAACAAGCTTTGAAGTCTTTGTCTGAAGGTGGTATTCCAATTGGTGCTGCTTTGGTTCATTTGCCAACTTCTAGAATTATTTCCAGAGGTCACAACAACAGAGTCCAATTATCTTCTAACGTCCGTCACGGTGAAATGGACTGTTTG",
         "0",
         "CAT",
         "{0: 'CAT'}",
         null,
         null,
         null,
         null,
         null
        ],
        [
         "18",
         "CN_F1",
         "TCTCCTGTTGAAGGTTCTCCAGCTAAGCCAGAAGATTACCCACACTTCATGTCCGTTGCTCACGAACAAGCTTTGAAGTCTTTGTCTGAAGGTGGTATTCCAATTGGTGCTGCTTTGGTTCATTTGCCAACTTCTAGAATTATTTCCAGAGGTCACAACAACAGAGTCCAATTATCTTCTAACGTCCGTCACGGTGAAATGGACTGTTTG",
         "CAGCCTGTTGAAGGTTCTCCAGCTAAGCCAGAAGATTACCCACACTTCATGTCCGTTGCTCACGAACAAGCTTTGAAGTCTTTGTCTGAAGGTGGTATTCCAATTGGTGCTGCTTTGGTTCATTTGCCAACTTCTAGAATTATTTCCAGAGGTCACAACAACAGAGTCCAATTATCTTCTAACGTCCGTCACGGTGAAATGGACTGTTTG",
         "0",
         "CAG",
         "{0: 'CAG'}",
         null,
         null,
         null,
         null,
         null
        ],
        [
         "19",
         "CN_F1",
         "TCTCCTGTTGAAGGTTCTCCAGCTAAGCCAGAAGATTACCCACACTTCATGTCCGTTGCTCACGAACAAGCTTTGAAGTCTTTGTCTGAAGGTGGTATTCCAATTGGTGCTGCTTTGGTTCATTTGCCAACTTCTAGAATTATTTCCAGAGGTCACAACAACAGAGTCCAATTATCTTCTAACGTCCGTCACGGTGAAATGGACTGTTTG",
         "AATCCTGTTGAAGGTTCTCCAGCTAAGCCAGAAGATTACCCACACTTCATGTCCGTTGCTCACGAACAAGCTTTGAAGTCTTTGTCTGAAGGTGGTATTCCAATTGGTGCTGCTTTGGTTCATTTGCCAACTTCTAGAATTATTTCCAGAGGTCACAACAACAGAGTCCAATTATCTTCTAACGTCCGTCACGGTGAAATGGACTGTTTG",
         "0",
         "AAT",
         "{0: 'AAT'}",
         null,
         null,
         null,
         null,
         null
        ],
        [
         "20",
         "CN_F1",
         "TCTCCTGTTGAAGGTTCTCCAGCTAAGCCAGAAGATTACCCACACTTCATGTCCGTTGCTCACGAACAAGCTTTGAAGTCTTTGTCTGAAGGTGGTATTCCAATTGGTGCTGCTTTGGTTCATTTGCCAACTTCTAGAATTATTTCCAGAGGTCACAACAACAGAGTCCAATTATCTTCTAACGTCCGTCACGGTGAAATGGACTGTTTG",
         "AAGCCTGTTGAAGGTTCTCCAGCTAAGCCAGAAGATTACCCACACTTCATGTCCGTTGCTCACGAACAAGCTTTGAAGTCTTTGTCTGAAGGTGGTATTCCAATTGGTGCTGCTTTGGTTCATTTGCCAACTTCTAGAATTATTTCCAGAGGTCACAACAACAGAGTCCAATTATCTTCTAACGTCCGTCACGGTGAAATGGACTGTTTG",
         "0",
         "AAG",
         "{0: 'AAG'}",
         null,
         null,
         null,
         null,
         null
        ],
        [
         "21",
         "CN_F1",
         "TCTCCTGTTGAAGGTTCTCCAGCTAAGCCAGAAGATTACCCACACTTCATGTCCGTTGCTCACGAACAAGCTTTGAAGTCTTTGTCTGAAGGTGGTATTCCAATTGGTGCTGCTTTGGTTCATTTGCCAACTTCTAGAATTATTTCCAGAGGTCACAACAACAGAGTCCAATTATCTTCTAACGTCCGTCACGGTGAAATGGACTGTTTG",
         "GATCCTGTTGAAGGTTCTCCAGCTAAGCCAGAAGATTACCCACACTTCATGTCCGTTGCTCACGAACAAGCTTTGAAGTCTTTGTCTGAAGGTGGTATTCCAATTGGTGCTGCTTTGGTTCATTTGCCAACTTCTAGAATTATTTCCAGAGGTCACAACAACAGAGTCCAATTATCTTCTAACGTCCGTCACGGTGAAATGGACTGTTTG",
         "0",
         "GAT",
         "{0: 'GAT'}",
         null,
         null,
         null,
         null,
         null
        ],
        [
         "22",
         "CN_F1",
         "TCTCCTGTTGAAGGTTCTCCAGCTAAGCCAGAAGATTACCCACACTTCATGTCCGTTGCTCACGAACAAGCTTTGAAGTCTTTGTCTGAAGGTGGTATTCCAATTGGTGCTGCTTTGGTTCATTTGCCAACTTCTAGAATTATTTCCAGAGGTCACAACAACAGAGTCCAATTATCTTCTAACGTCCGTCACGGTGAAATGGACTGTTTG",
         "GAGCCTGTTGAAGGTTCTCCAGCTAAGCCAGAAGATTACCCACACTTCATGTCCGTTGCTCACGAACAAGCTTTGAAGTCTTTGTCTGAAGGTGGTATTCCAATTGGTGCTGCTTTGGTTCATTTGCCAACTTCTAGAATTATTTCCAGAGGTCACAACAACAGAGTCCAATTATCTTCTAACGTCCGTCACGGTGAAATGGACTGTTTG",
         "0",
         "GAG",
         "{0: 'GAG'}",
         null,
         null,
         null,
         null,
         null
        ],
        [
         "23",
         "CN_F1",
         "TCTCCTGTTGAAGGTTCTCCAGCTAAGCCAGAAGATTACCCACACTTCATGTCCGTTGCTCACGAACAAGCTTTGAAGTCTTTGTCTGAAGGTGGTATTCCAATTGGTGCTGCTTTGGTTCATTTGCCAACTTCTAGAATTATTTCCAGAGGTCACAACAACAGAGTCCAATTATCTTCTAACGTCCGTCACGGTGAAATGGACTGTTTG",
         "TGTCCTGTTGAAGGTTCTCCAGCTAAGCCAGAAGATTACCCACACTTCATGTCCGTTGCTCACGAACAAGCTTTGAAGTCTTTGTCTGAAGGTGGTATTCCAATTGGTGCTGCTTTGGTTCATTTGCCAACTTCTAGAATTATTTCCAGAGGTCACAACAACAGAGTCCAATTATCTTCTAACGTCCGTCACGGTGAAATGGACTGTTTG",
         "0",
         "TGT",
         "{0: 'TGT'}",
         null,
         null,
         null,
         null,
         null
        ],
        [
         "24",
         "CN_F1",
         "TCTCCTGTTGAAGGTTCTCCAGCTAAGCCAGAAGATTACCCACACTTCATGTCCGTTGCTCACGAACAAGCTTTGAAGTCTTTGTCTGAAGGTGGTATTCCAATTGGTGCTGCTTTGGTTCATTTGCCAACTTCTAGAATTATTTCCAGAGGTCACAACAACAGAGTCCAATTATCTTCTAACGTCCGTCACGGTGAAATGGACTGTTTG",
         "TGGCCTGTTGAAGGTTCTCCAGCTAAGCCAGAAGATTACCCACACTTCATGTCCGTTGCTCACGAACAAGCTTTGAAGTCTTTGTCTGAAGGTGGTATTCCAATTGGTGCTGCTTTGGTTCATTTGCCAACTTCTAGAATTATTTCCAGAGGTCACAACAACAGAGTCCAATTATCTTCTAACGTCCGTCACGGTGAAATGGACTGTTTG",
         "0",
         "TGG",
         "{0: 'TGG'}",
         null,
         null,
         null,
         null,
         null
        ],
        [
         "25",
         "CN_F1",
         "TCTCCTGTTGAAGGTTCTCCAGCTAAGCCAGAAGATTACCCACACTTCATGTCCGTTGCTCACGAACAAGCTTTGAAGTCTTTGTCTGAAGGTGGTATTCCAATTGGTGCTGCTTTGGTTCATTTGCCAACTTCTAGAATTATTTCCAGAGGTCACAACAACAGAGTCCAATTATCTTCTAACGTCCGTCACGGTGAAATGGACTGTTTG",
         "CGTCCTGTTGAAGGTTCTCCAGCTAAGCCAGAAGATTACCCACACTTCATGTCCGTTGCTCACGAACAAGCTTTGAAGTCTTTGTCTGAAGGTGGTATTCCAATTGGTGCTGCTTTGGTTCATTTGCCAACTTCTAGAATTATTTCCAGAGGTCACAACAACAGAGTCCAATTATCTTCTAACGTCCGTCACGGTGAAATGGACTGTTTG",
         "0",
         "CGT",
         "{0: 'CGT'}",
         null,
         null,
         null,
         null,
         null
        ],
        [
         "26",
         "CN_F1",
         "TCTCCTGTTGAAGGTTCTCCAGCTAAGCCAGAAGATTACCCACACTTCATGTCCGTTGCTCACGAACAAGCTTTGAAGTCTTTGTCTGAAGGTGGTATTCCAATTGGTGCTGCTTTGGTTCATTTGCCAACTTCTAGAATTATTTCCAGAGGTCACAACAACAGAGTCCAATTATCTTCTAACGTCCGTCACGGTGAAATGGACTGTTTG",
         "CGGCCTGTTGAAGGTTCTCCAGCTAAGCCAGAAGATTACCCACACTTCATGTCCGTTGCTCACGAACAAGCTTTGAAGTCTTTGTCTGAAGGTGGTATTCCAATTGGTGCTGCTTTGGTTCATTTGCCAACTTCTAGAATTATTTCCAGAGGTCACAACAACAGAGTCCAATTATCTTCTAACGTCCGTCACGGTGAAATGGACTGTTTG",
         "0",
         "CGG",
         "{0: 'CGG'}",
         null,
         null,
         null,
         null,
         null
        ],
        [
         "27",
         "CN_F1",
         "TCTCCTGTTGAAGGTTCTCCAGCTAAGCCAGAAGATTACCCACACTTCATGTCCGTTGCTCACGAACAAGCTTTGAAGTCTTTGTCTGAAGGTGGTATTCCAATTGGTGCTGCTTTGGTTCATTTGCCAACTTCTAGAATTATTTCCAGAGGTCACAACAACAGAGTCCAATTATCTTCTAACGTCCGTCACGGTGAAATGGACTGTTTG",
         "AGTCCTGTTGAAGGTTCTCCAGCTAAGCCAGAAGATTACCCACACTTCATGTCCGTTGCTCACGAACAAGCTTTGAAGTCTTTGTCTGAAGGTGGTATTCCAATTGGTGCTGCTTTGGTTCATTTGCCAACTTCTAGAATTATTTCCAGAGGTCACAACAACAGAGTCCAATTATCTTCTAACGTCCGTCACGGTGAAATGGACTGTTTG",
         "0",
         "AGT",
         "{0: 'AGT'}",
         null,
         null,
         null,
         null,
         null
        ],
        [
         "28",
         "CN_F1",
         "TCTCCTGTTGAAGGTTCTCCAGCTAAGCCAGAAGATTACCCACACTTCATGTCCGTTGCTCACGAACAAGCTTTGAAGTCTTTGTCTGAAGGTGGTATTCCAATTGGTGCTGCTTTGGTTCATTTGCCAACTTCTAGAATTATTTCCAGAGGTCACAACAACAGAGTCCAATTATCTTCTAACGTCCGTCACGGTGAAATGGACTGTTTG",
         "AGGCCTGTTGAAGGTTCTCCAGCTAAGCCAGAAGATTACCCACACTTCATGTCCGTTGCTCACGAACAAGCTTTGAAGTCTTTGTCTGAAGGTGGTATTCCAATTGGTGCTGCTTTGGTTCATTTGCCAACTTCTAGAATTATTTCCAGAGGTCACAACAACAGAGTCCAATTATCTTCTAACGTCCGTCACGGTGAAATGGACTGTTTG",
         "0",
         "AGG",
         "{0: 'AGG'}",
         null,
         null,
         null,
         null,
         null
        ],
        [
         "29",
         "CN_F1",
         "TCTCCTGTTGAAGGTTCTCCAGCTAAGCCAGAAGATTACCCACACTTCATGTCCGTTGCTCACGAACAAGCTTTGAAGTCTTTGTCTGAAGGTGGTATTCCAATTGGTGCTGCTTTGGTTCATTTGCCAACTTCTAGAATTATTTCCAGAGGTCACAACAACAGAGTCCAATTATCTTCTAACGTCCGTCACGGTGAAATGGACTGTTTG",
         "GGTCCTGTTGAAGGTTCTCCAGCTAAGCCAGAAGATTACCCACACTTCATGTCCGTTGCTCACGAACAAGCTTTGAAGTCTTTGTCTGAAGGTGGTATTCCAATTGGTGCTGCTTTGGTTCATTTGCCAACTTCTAGAATTATTTCCAGAGGTCACAACAACAGAGTCCAATTATCTTCTAACGTCCGTCACGGTGAAATGGACTGTTTG",
         "0",
         "GGT",
         "{0: 'GGT'}",
         null,
         null,
         null,
         null,
         null
        ],
        [
         "30",
         "CN_F1",
         "TCTCCTGTTGAAGGTTCTCCAGCTAAGCCAGAAGATTACCCACACTTCATGTCCGTTGCTCACGAACAAGCTTTGAAGTCTTTGTCTGAAGGTGGTATTCCAATTGGTGCTGCTTTGGTTCATTTGCCAACTTCTAGAATTATTTCCAGAGGTCACAACAACAGAGTCCAATTATCTTCTAACGTCCGTCACGGTGAAATGGACTGTTTG",
         "GGGCCTGTTGAAGGTTCTCCAGCTAAGCCAGAAGATTACCCACACTTCATGTCCGTTGCTCACGAACAAGCTTTGAAGTCTTTGTCTGAAGGTGGTATTCCAATTGGTGCTGCTTTGGTTCATTTGCCAACTTCTAGAATTATTTCCAGAGGTCACAACAACAGAGTCCAATTATCTTCTAACGTCCGTCACGGTGAAATGGACTGTTTG",
         "0",
         "GGG",
         "{0: 'GGG'}",
         null,
         null,
         null,
         null,
         null
        ],
        [
         "31",
         "CN_F1",
         "TCTCCTGTTGAAGGTTCTCCAGCTAAGCCAGAAGATTACCCACACTTCATGTCCGTTGCTCACGAACAAGCTTTGAAGTCTTTGTCTGAAGGTGGTATTCCAATTGGTGCTGCTTTGGTTCATTTGCCAACTTCTAGAATTATTTCCAGAGGTCACAACAACAGAGTCCAATTATCTTCTAACGTCCGTCACGGTGAAATGGACTGTTTG",
         "TCTTTTGTTGAAGGTTCTCCAGCTAAGCCAGAAGATTACCCACACTTCATGTCCGTTGCTCACGAACAAGCTTTGAAGTCTTTGTCTGAAGGTGGTATTCCAATTGGTGCTGCTTTGGTTCATTTGCCAACTTCTAGAATTATTTCCAGAGGTCACAACAACAGAGTCCAATTATCTTCTAACGTCCGTCACGGTGAAATGGACTGTTTG",
         "1",
         "TTT",
         "{1: 'TTT'}",
         null,
         null,
         null,
         null,
         null
        ],
        [
         "32",
         "CN_F1",
         "TCTCCTGTTGAAGGTTCTCCAGCTAAGCCAGAAGATTACCCACACTTCATGTCCGTTGCTCACGAACAAGCTTTGAAGTCTTTGTCTGAAGGTGGTATTCCAATTGGTGCTGCTTTGGTTCATTTGCCAACTTCTAGAATTATTTCCAGAGGTCACAACAACAGAGTCCAATTATCTTCTAACGTCCGTCACGGTGAAATGGACTGTTTG",
         "TCTTTGGTTGAAGGTTCTCCAGCTAAGCCAGAAGATTACCCACACTTCATGTCCGTTGCTCACGAACAAGCTTTGAAGTCTTTGTCTGAAGGTGGTATTCCAATTGGTGCTGCTTTGGTTCATTTGCCAACTTCTAGAATTATTTCCAGAGGTCACAACAACAGAGTCCAATTATCTTCTAACGTCCGTCACGGTGAAATGGACTGTTTG",
         "1",
         "TTG",
         "{1: 'TTG'}",
         null,
         null,
         null,
         null,
         null
        ],
        [
         "33",
         "CN_F1",
         "TCTCCTGTTGAAGGTTCTCCAGCTAAGCCAGAAGATTACCCACACTTCATGTCCGTTGCTCACGAACAAGCTTTGAAGTCTTTGTCTGAAGGTGGTATTCCAATTGGTGCTGCTTTGGTTCATTTGCCAACTTCTAGAATTATTTCCAGAGGTCACAACAACAGAGTCCAATTATCTTCTAACGTCCGTCACGGTGAAATGGACTGTTTG",
         "TCTCTTGTTGAAGGTTCTCCAGCTAAGCCAGAAGATTACCCACACTTCATGTCCGTTGCTCACGAACAAGCTTTGAAGTCTTTGTCTGAAGGTGGTATTCCAATTGGTGCTGCTTTGGTTCATTTGCCAACTTCTAGAATTATTTCCAGAGGTCACAACAACAGAGTCCAATTATCTTCTAACGTCCGTCACGGTGAAATGGACTGTTTG",
         "1",
         "CTT",
         "{1: 'CTT'}",
         null,
         null,
         null,
         null,
         null
        ],
        [
         "34",
         "CN_F1",
         "TCTCCTGTTGAAGGTTCTCCAGCTAAGCCAGAAGATTACCCACACTTCATGTCCGTTGCTCACGAACAAGCTTTGAAGTCTTTGTCTGAAGGTGGTATTCCAATTGGTGCTGCTTTGGTTCATTTGCCAACTTCTAGAATTATTTCCAGAGGTCACAACAACAGAGTCCAATTATCTTCTAACGTCCGTCACGGTGAAATGGACTGTTTG",
         "TCTCTGGTTGAAGGTTCTCCAGCTAAGCCAGAAGATTACCCACACTTCATGTCCGTTGCTCACGAACAAGCTTTGAAGTCTTTGTCTGAAGGTGGTATTCCAATTGGTGCTGCTTTGGTTCATTTGCCAACTTCTAGAATTATTTCCAGAGGTCACAACAACAGAGTCCAATTATCTTCTAACGTCCGTCACGGTGAAATGGACTGTTTG",
         "1",
         "CTG",
         "{1: 'CTG'}",
         null,
         null,
         null,
         null,
         null
        ],
        [
         "35",
         "CN_F1",
         "TCTCCTGTTGAAGGTTCTCCAGCTAAGCCAGAAGATTACCCACACTTCATGTCCGTTGCTCACGAACAAGCTTTGAAGTCTTTGTCTGAAGGTGGTATTCCAATTGGTGCTGCTTTGGTTCATTTGCCAACTTCTAGAATTATTTCCAGAGGTCACAACAACAGAGTCCAATTATCTTCTAACGTCCGTCACGGTGAAATGGACTGTTTG",
         "TCTATTGTTGAAGGTTCTCCAGCTAAGCCAGAAGATTACCCACACTTCATGTCCGTTGCTCACGAACAAGCTTTGAAGTCTTTGTCTGAAGGTGGTATTCCAATTGGTGCTGCTTTGGTTCATTTGCCAACTTCTAGAATTATTTCCAGAGGTCACAACAACAGAGTCCAATTATCTTCTAACGTCCGTCACGGTGAAATGGACTGTTTG",
         "1",
         "ATT",
         "{1: 'ATT'}",
         null,
         null,
         null,
         null,
         null
        ],
        [
         "36",
         "CN_F1",
         "TCTCCTGTTGAAGGTTCTCCAGCTAAGCCAGAAGATTACCCACACTTCATGTCCGTTGCTCACGAACAAGCTTTGAAGTCTTTGTCTGAAGGTGGTATTCCAATTGGTGCTGCTTTGGTTCATTTGCCAACTTCTAGAATTATTTCCAGAGGTCACAACAACAGAGTCCAATTATCTTCTAACGTCCGTCACGGTGAAATGGACTGTTTG",
         "TCTATGGTTGAAGGTTCTCCAGCTAAGCCAGAAGATTACCCACACTTCATGTCCGTTGCTCACGAACAAGCTTTGAAGTCTTTGTCTGAAGGTGGTATTCCAATTGGTGCTGCTTTGGTTCATTTGCCAACTTCTAGAATTATTTCCAGAGGTCACAACAACAGAGTCCAATTATCTTCTAACGTCCGTCACGGTGAAATGGACTGTTTG",
         "1",
         "ATG",
         "{1: 'ATG'}",
         null,
         null,
         null,
         null,
         null
        ],
        [
         "37",
         "CN_F1",
         "TCTCCTGTTGAAGGTTCTCCAGCTAAGCCAGAAGATTACCCACACTTCATGTCCGTTGCTCACGAACAAGCTTTGAAGTCTTTGTCTGAAGGTGGTATTCCAATTGGTGCTGCTTTGGTTCATTTGCCAACTTCTAGAATTATTTCCAGAGGTCACAACAACAGAGTCCAATTATCTTCTAACGTCCGTCACGGTGAAATGGACTGTTTG",
         "TCTGTTGTTGAAGGTTCTCCAGCTAAGCCAGAAGATTACCCACACTTCATGTCCGTTGCTCACGAACAAGCTTTGAAGTCTTTGTCTGAAGGTGGTATTCCAATTGGTGCTGCTTTGGTTCATTTGCCAACTTCTAGAATTATTTCCAGAGGTCACAACAACAGAGTCCAATTATCTTCTAACGTCCGTCACGGTGAAATGGACTGTTTG",
         "1",
         "GTT",
         "{1: 'GTT'}",
         null,
         null,
         null,
         null,
         null
        ],
        [
         "38",
         "CN_F1",
         "TCTCCTGTTGAAGGTTCTCCAGCTAAGCCAGAAGATTACCCACACTTCATGTCCGTTGCTCACGAACAAGCTTTGAAGTCTTTGTCTGAAGGTGGTATTCCAATTGGTGCTGCTTTGGTTCATTTGCCAACTTCTAGAATTATTTCCAGAGGTCACAACAACAGAGTCCAATTATCTTCTAACGTCCGTCACGGTGAAATGGACTGTTTG",
         "TCTGTGGTTGAAGGTTCTCCAGCTAAGCCAGAAGATTACCCACACTTCATGTCCGTTGCTCACGAACAAGCTTTGAAGTCTTTGTCTGAAGGTGGTATTCCAATTGGTGCTGCTTTGGTTCATTTGCCAACTTCTAGAATTATTTCCAGAGGTCACAACAACAGAGTCCAATTATCTTCTAACGTCCGTCACGGTGAAATGGACTGTTTG",
         "1",
         "GTG",
         "{1: 'GTG'}",
         null,
         null,
         null,
         null,
         null
        ],
        [
         "39",
         "CN_F1",
         "TCTCCTGTTGAAGGTTCTCCAGCTAAGCCAGAAGATTACCCACACTTCATGTCCGTTGCTCACGAACAAGCTTTGAAGTCTTTGTCTGAAGGTGGTATTCCAATTGGTGCTGCTTTGGTTCATTTGCCAACTTCTAGAATTATTTCCAGAGGTCACAACAACAGAGTCCAATTATCTTCTAACGTCCGTCACGGTGAAATGGACTGTTTG",
         "TCTTCTGTTGAAGGTTCTCCAGCTAAGCCAGAAGATTACCCACACTTCATGTCCGTTGCTCACGAACAAGCTTTGAAGTCTTTGTCTGAAGGTGGTATTCCAATTGGTGCTGCTTTGGTTCATTTGCCAACTTCTAGAATTATTTCCAGAGGTCACAACAACAGAGTCCAATTATCTTCTAACGTCCGTCACGGTGAAATGGACTGTTTG",
         "1",
         "TCT",
         "{1: 'TCT'}",
         null,
         null,
         null,
         null,
         null
        ],
        [
         "40",
         "CN_F1",
         "TCTCCTGTTGAAGGTTCTCCAGCTAAGCCAGAAGATTACCCACACTTCATGTCCGTTGCTCACGAACAAGCTTTGAAGTCTTTGTCTGAAGGTGGTATTCCAATTGGTGCTGCTTTGGTTCATTTGCCAACTTCTAGAATTATTTCCAGAGGTCACAACAACAGAGTCCAATTATCTTCTAACGTCCGTCACGGTGAAATGGACTGTTTG",
         "TCTTCGGTTGAAGGTTCTCCAGCTAAGCCAGAAGATTACCCACACTTCATGTCCGTTGCTCACGAACAAGCTTTGAAGTCTTTGTCTGAAGGTGGTATTCCAATTGGTGCTGCTTTGGTTCATTTGCCAACTTCTAGAATTATTTCCAGAGGTCACAACAACAGAGTCCAATTATCTTCTAACGTCCGTCACGGTGAAATGGACTGTTTG",
         "1",
         "TCG",
         "{1: 'TCG'}",
         null,
         null,
         null,
         null,
         null
        ],
        [
         "41",
         "CN_F1",
         "TCTCCTGTTGAAGGTTCTCCAGCTAAGCCAGAAGATTACCCACACTTCATGTCCGTTGCTCACGAACAAGCTTTGAAGTCTTTGTCTGAAGGTGGTATTCCAATTGGTGCTGCTTTGGTTCATTTGCCAACTTCTAGAATTATTTCCAGAGGTCACAACAACAGAGTCCAATTATCTTCTAACGTCCGTCACGGTGAAATGGACTGTTTG",
         "TCTCCGGTTGAAGGTTCTCCAGCTAAGCCAGAAGATTACCCACACTTCATGTCCGTTGCTCACGAACAAGCTTTGAAGTCTTTGTCTGAAGGTGGTATTCCAATTGGTGCTGCTTTGGTTCATTTGCCAACTTCTAGAATTATTTCCAGAGGTCACAACAACAGAGTCCAATTATCTTCTAACGTCCGTCACGGTGAAATGGACTGTTTG",
         "1",
         "CCG",
         "{1: 'CCG'}",
         null,
         null,
         null,
         null,
         null
        ],
        [
         "42",
         "CN_F1",
         "TCTCCTGTTGAAGGTTCTCCAGCTAAGCCAGAAGATTACCCACACTTCATGTCCGTTGCTCACGAACAAGCTTTGAAGTCTTTGTCTGAAGGTGGTATTCCAATTGGTGCTGCTTTGGTTCATTTGCCAACTTCTAGAATTATTTCCAGAGGTCACAACAACAGAGTCCAATTATCTTCTAACGTCCGTCACGGTGAAATGGACTGTTTG",
         "TCTACTGTTGAAGGTTCTCCAGCTAAGCCAGAAGATTACCCACACTTCATGTCCGTTGCTCACGAACAAGCTTTGAAGTCTTTGTCTGAAGGTGGTATTCCAATTGGTGCTGCTTTGGTTCATTTGCCAACTTCTAGAATTATTTCCAGAGGTCACAACAACAGAGTCCAATTATCTTCTAACGTCCGTCACGGTGAAATGGACTGTTTG",
         "1",
         "ACT",
         "{1: 'ACT'}",
         null,
         null,
         null,
         null,
         null
        ],
        [
         "43",
         "CN_F1",
         "TCTCCTGTTGAAGGTTCTCCAGCTAAGCCAGAAGATTACCCACACTTCATGTCCGTTGCTCACGAACAAGCTTTGAAGTCTTTGTCTGAAGGTGGTATTCCAATTGGTGCTGCTTTGGTTCATTTGCCAACTTCTAGAATTATTTCCAGAGGTCACAACAACAGAGTCCAATTATCTTCTAACGTCCGTCACGGTGAAATGGACTGTTTG",
         "TCTACGGTTGAAGGTTCTCCAGCTAAGCCAGAAGATTACCCACACTTCATGTCCGTTGCTCACGAACAAGCTTTGAAGTCTTTGTCTGAAGGTGGTATTCCAATTGGTGCTGCTTTGGTTCATTTGCCAACTTCTAGAATTATTTCCAGAGGTCACAACAACAGAGTCCAATTATCTTCTAACGTCCGTCACGGTGAAATGGACTGTTTG",
         "1",
         "ACG",
         "{1: 'ACG'}",
         null,
         null,
         null,
         null,
         null
        ],
        [
         "44",
         "CN_F1",
         "TCTCCTGTTGAAGGTTCTCCAGCTAAGCCAGAAGATTACCCACACTTCATGTCCGTTGCTCACGAACAAGCTTTGAAGTCTTTGTCTGAAGGTGGTATTCCAATTGGTGCTGCTTTGGTTCATTTGCCAACTTCTAGAATTATTTCCAGAGGTCACAACAACAGAGTCCAATTATCTTCTAACGTCCGTCACGGTGAAATGGACTGTTTG",
         "TCTGCTGTTGAAGGTTCTCCAGCTAAGCCAGAAGATTACCCACACTTCATGTCCGTTGCTCACGAACAAGCTTTGAAGTCTTTGTCTGAAGGTGGTATTCCAATTGGTGCTGCTTTGGTTCATTTGCCAACTTCTAGAATTATTTCCAGAGGTCACAACAACAGAGTCCAATTATCTTCTAACGTCCGTCACGGTGAAATGGACTGTTTG",
         "1",
         "GCT",
         "{1: 'GCT'}",
         null,
         null,
         null,
         null,
         null
        ],
        [
         "45",
         "CN_F1",
         "TCTCCTGTTGAAGGTTCTCCAGCTAAGCCAGAAGATTACCCACACTTCATGTCCGTTGCTCACGAACAAGCTTTGAAGTCTTTGTCTGAAGGTGGTATTCCAATTGGTGCTGCTTTGGTTCATTTGCCAACTTCTAGAATTATTTCCAGAGGTCACAACAACAGAGTCCAATTATCTTCTAACGTCCGTCACGGTGAAATGGACTGTTTG",
         "TCTGCGGTTGAAGGTTCTCCAGCTAAGCCAGAAGATTACCCACACTTCATGTCCGTTGCTCACGAACAAGCTTTGAAGTCTTTGTCTGAAGGTGGTATTCCAATTGGTGCTGCTTTGGTTCATTTGCCAACTTCTAGAATTATTTCCAGAGGTCACAACAACAGAGTCCAATTATCTTCTAACGTCCGTCACGGTGAAATGGACTGTTTG",
         "1",
         "GCG",
         "{1: 'GCG'}",
         null,
         null,
         null,
         null,
         null
        ],
        [
         "46",
         "CN_F1",
         "TCTCCTGTTGAAGGTTCTCCAGCTAAGCCAGAAGATTACCCACACTTCATGTCCGTTGCTCACGAACAAGCTTTGAAGTCTTTGTCTGAAGGTGGTATTCCAATTGGTGCTGCTTTGGTTCATTTGCCAACTTCTAGAATTATTTCCAGAGGTCACAACAACAGAGTCCAATTATCTTCTAACGTCCGTCACGGTGAAATGGACTGTTTG",
         "TCTTATGTTGAAGGTTCTCCAGCTAAGCCAGAAGATTACCCACACTTCATGTCCGTTGCTCACGAACAAGCTTTGAAGTCTTTGTCTGAAGGTGGTATTCCAATTGGTGCTGCTTTGGTTCATTTGCCAACTTCTAGAATTATTTCCAGAGGTCACAACAACAGAGTCCAATTATCTTCTAACGTCCGTCACGGTGAAATGGACTGTTTG",
         "1",
         "TAT",
         "{1: 'TAT'}",
         null,
         null,
         null,
         null,
         null
        ],
        [
         "47",
         "CN_F1",
         "TCTCCTGTTGAAGGTTCTCCAGCTAAGCCAGAAGATTACCCACACTTCATGTCCGTTGCTCACGAACAAGCTTTGAAGTCTTTGTCTGAAGGTGGTATTCCAATTGGTGCTGCTTTGGTTCATTTGCCAACTTCTAGAATTATTTCCAGAGGTCACAACAACAGAGTCCAATTATCTTCTAACGTCCGTCACGGTGAAATGGACTGTTTG",
         "TCTTAGGTTGAAGGTTCTCCAGCTAAGCCAGAAGATTACCCACACTTCATGTCCGTTGCTCACGAACAAGCTTTGAAGTCTTTGTCTGAAGGTGGTATTCCAATTGGTGCTGCTTTGGTTCATTTGCCAACTTCTAGAATTATTTCCAGAGGTCACAACAACAGAGTCCAATTATCTTCTAACGTCCGTCACGGTGAAATGGACTGTTTG",
         "1",
         "TAG",
         "{1: 'TAG'}",
         null,
         null,
         null,
         null,
         null
        ],
        [
         "48",
         "CN_F1",
         "TCTCCTGTTGAAGGTTCTCCAGCTAAGCCAGAAGATTACCCACACTTCATGTCCGTTGCTCACGAACAAGCTTTGAAGTCTTTGTCTGAAGGTGGTATTCCAATTGGTGCTGCTTTGGTTCATTTGCCAACTTCTAGAATTATTTCCAGAGGTCACAACAACAGAGTCCAATTATCTTCTAACGTCCGTCACGGTGAAATGGACTGTTTG",
         "TCTCATGTTGAAGGTTCTCCAGCTAAGCCAGAAGATTACCCACACTTCATGTCCGTTGCTCACGAACAAGCTTTGAAGTCTTTGTCTGAAGGTGGTATTCCAATTGGTGCTGCTTTGGTTCATTTGCCAACTTCTAGAATTATTTCCAGAGGTCACAACAACAGAGTCCAATTATCTTCTAACGTCCGTCACGGTGAAATGGACTGTTTG",
         "1",
         "CAT",
         "{1: 'CAT'}",
         null,
         null,
         null,
         null,
         null
        ],
        [
         "49",
         "CN_F1",
         "TCTCCTGTTGAAGGTTCTCCAGCTAAGCCAGAAGATTACCCACACTTCATGTCCGTTGCTCACGAACAAGCTTTGAAGTCTTTGTCTGAAGGTGGTATTCCAATTGGTGCTGCTTTGGTTCATTTGCCAACTTCTAGAATTATTTCCAGAGGTCACAACAACAGAGTCCAATTATCTTCTAACGTCCGTCACGGTGAAATGGACTGTTTG",
         "TCTCAGGTTGAAGGTTCTCCAGCTAAGCCAGAAGATTACCCACACTTCATGTCCGTTGCTCACGAACAAGCTTTGAAGTCTTTGTCTGAAGGTGGTATTCCAATTGGTGCTGCTTTGGTTCATTTGCCAACTTCTAGAATTATTTCCAGAGGTCACAACAACAGAGTCCAATTATCTTCTAACGTCCGTCACGGTGAAATGGACTGTTTG",
         "1",
         "CAG",
         "{1: 'CAG'}",
         null,
         null,
         null,
         null,
         null
        ]
       ],
       "shape": {
        "columns": 11,
        "rows": 2387620
       }
      },
      "text/html": [
       "<div>\n",
       "<style scoped>\n",
       "    .dataframe tbody tr th:only-of-type {\n",
       "        vertical-align: middle;\n",
       "    }\n",
       "\n",
       "    .dataframe tbody tr th {\n",
       "        vertical-align: top;\n",
       "    }\n",
       "\n",
       "    .dataframe thead th {\n",
       "        text-align: right;\n",
       "    }\n",
       "</style>\n",
       "<table border=\"1\" class=\"dataframe\">\n",
       "  <thead>\n",
       "    <tr style=\"text-align: right;\">\n",
       "      <th></th>\n",
       "      <th>Mutated_seq</th>\n",
       "      <th>WT_seq</th>\n",
       "      <th>nt_seq</th>\n",
       "      <th>pos</th>\n",
       "      <th>alt_codons</th>\n",
       "      <th>mutations</th>\n",
       "      <th>combination</th>\n",
       "      <th>alt_codons1</th>\n",
       "      <th>alt_codons2</th>\n",
       "      <th>pos1</th>\n",
       "      <th>pos2</th>\n",
       "    </tr>\n",
       "  </thead>\n",
       "  <tbody>\n",
       "    <tr>\n",
       "      <th>0</th>\n",
       "      <td>CN_F1</td>\n",
       "      <td>TCTCCTGTTGAAGGTTCTCCAGCTAAGCCAGAAGATTACCCACACT...</td>\n",
       "      <td>TTTCCTGTTGAAGGTTCTCCAGCTAAGCCAGAAGATTACCCACACT...</td>\n",
       "      <td>0</td>\n",
       "      <td>TTT</td>\n",
       "      <td>{0: 'TTT'}</td>\n",
       "      <td>NaN</td>\n",
       "      <td>NaN</td>\n",
       "      <td>NaN</td>\n",
       "      <td>NaN</td>\n",
       "      <td>NaN</td>\n",
       "    </tr>\n",
       "    <tr>\n",
       "      <th>1</th>\n",
       "      <td>CN_F1</td>\n",
       "      <td>TCTCCTGTTGAAGGTTCTCCAGCTAAGCCAGAAGATTACCCACACT...</td>\n",
       "      <td>TTGCCTGTTGAAGGTTCTCCAGCTAAGCCAGAAGATTACCCACACT...</td>\n",
       "      <td>0</td>\n",
       "      <td>TTG</td>\n",
       "      <td>{0: 'TTG'}</td>\n",
       "      <td>NaN</td>\n",
       "      <td>NaN</td>\n",
       "      <td>NaN</td>\n",
       "      <td>NaN</td>\n",
       "      <td>NaN</td>\n",
       "    </tr>\n",
       "    <tr>\n",
       "      <th>2</th>\n",
       "      <td>CN_F1</td>\n",
       "      <td>TCTCCTGTTGAAGGTTCTCCAGCTAAGCCAGAAGATTACCCACACT...</td>\n",
       "      <td>CTTCCTGTTGAAGGTTCTCCAGCTAAGCCAGAAGATTACCCACACT...</td>\n",
       "      <td>0</td>\n",
       "      <td>CTT</td>\n",
       "      <td>{0: 'CTT'}</td>\n",
       "      <td>NaN</td>\n",
       "      <td>NaN</td>\n",
       "      <td>NaN</td>\n",
       "      <td>NaN</td>\n",
       "      <td>NaN</td>\n",
       "    </tr>\n",
       "    <tr>\n",
       "      <th>3</th>\n",
       "      <td>CN_F1</td>\n",
       "      <td>TCTCCTGTTGAAGGTTCTCCAGCTAAGCCAGAAGATTACCCACACT...</td>\n",
       "      <td>CTGCCTGTTGAAGGTTCTCCAGCTAAGCCAGAAGATTACCCACACT...</td>\n",
       "      <td>0</td>\n",
       "      <td>CTG</td>\n",
       "      <td>{0: 'CTG'}</td>\n",
       "      <td>NaN</td>\n",
       "      <td>NaN</td>\n",
       "      <td>NaN</td>\n",
       "      <td>NaN</td>\n",
       "      <td>NaN</td>\n",
       "    </tr>\n",
       "    <tr>\n",
       "      <th>4</th>\n",
       "      <td>CN_F1</td>\n",
       "      <td>TCTCCTGTTGAAGGTTCTCCAGCTAAGCCAGAAGATTACCCACACT...</td>\n",
       "      <td>ATTCCTGTTGAAGGTTCTCCAGCTAAGCCAGAAGATTACCCACACT...</td>\n",
       "      <td>0</td>\n",
       "      <td>ATT</td>\n",
       "      <td>{0: 'ATT'}</td>\n",
       "      <td>NaN</td>\n",
       "      <td>NaN</td>\n",
       "      <td>NaN</td>\n",
       "      <td>NaN</td>\n",
       "      <td>NaN</td>\n",
       "    </tr>\n",
       "    <tr>\n",
       "      <th>...</th>\n",
       "      <td>...</td>\n",
       "      <td>...</td>\n",
       "      <td>...</td>\n",
       "      <td>...</td>\n",
       "      <td>...</td>\n",
       "      <td>...</td>\n",
       "      <td>...</td>\n",
       "      <td>...</td>\n",
       "      <td>...</td>\n",
       "      <td>...</td>\n",
       "      <td>...</td>\n",
       "    </tr>\n",
       "    <tr>\n",
       "      <th>2387615</th>\n",
       "      <td>CN_F1</td>\n",
       "      <td>TCTCCTGTTGAAGGTTCTCCAGCTAAGCCAGAAGATTACCCACACT...</td>\n",
       "      <td>TCTCCTGTTGAAGGTTCTCCAGCTAAGCCAGAAGATTACCCACACT...</td>\n",
       "      <td>NaN</td>\n",
       "      <td>NaN</td>\n",
       "      <td>{68: 'GGG', 69: 'CGG'}</td>\n",
       "      <td>(68, 69)</td>\n",
       "      <td>GGG</td>\n",
       "      <td>CGG</td>\n",
       "      <td>68.0</td>\n",
       "      <td>69.0</td>\n",
       "    </tr>\n",
       "    <tr>\n",
       "      <th>2387616</th>\n",
       "      <td>CN_F1</td>\n",
       "      <td>TCTCCTGTTGAAGGTTCTCCAGCTAAGCCAGAAGATTACCCACACT...</td>\n",
       "      <td>TCTCCTGTTGAAGGTTCTCCAGCTAAGCCAGAAGATTACCCACACT...</td>\n",
       "      <td>NaN</td>\n",
       "      <td>NaN</td>\n",
       "      <td>{68: 'GGG', 69: 'AGT'}</td>\n",
       "      <td>(68, 69)</td>\n",
       "      <td>GGG</td>\n",
       "      <td>AGT</td>\n",
       "      <td>68.0</td>\n",
       "      <td>69.0</td>\n",
       "    </tr>\n",
       "    <tr>\n",
       "      <th>2387617</th>\n",
       "      <td>CN_F1</td>\n",
       "      <td>TCTCCTGTTGAAGGTTCTCCAGCTAAGCCAGAAGATTACCCACACT...</td>\n",
       "      <td>TCTCCTGTTGAAGGTTCTCCAGCTAAGCCAGAAGATTACCCACACT...</td>\n",
       "      <td>NaN</td>\n",
       "      <td>NaN</td>\n",
       "      <td>{68: 'GGG', 69: 'AGG'}</td>\n",
       "      <td>(68, 69)</td>\n",
       "      <td>GGG</td>\n",
       "      <td>AGG</td>\n",
       "      <td>68.0</td>\n",
       "      <td>69.0</td>\n",
       "    </tr>\n",
       "    <tr>\n",
       "      <th>2387618</th>\n",
       "      <td>CN_F1</td>\n",
       "      <td>TCTCCTGTTGAAGGTTCTCCAGCTAAGCCAGAAGATTACCCACACT...</td>\n",
       "      <td>TCTCCTGTTGAAGGTTCTCCAGCTAAGCCAGAAGATTACCCACACT...</td>\n",
       "      <td>NaN</td>\n",
       "      <td>NaN</td>\n",
       "      <td>{68: 'GGG', 69: 'GGT'}</td>\n",
       "      <td>(68, 69)</td>\n",
       "      <td>GGG</td>\n",
       "      <td>GGT</td>\n",
       "      <td>68.0</td>\n",
       "      <td>69.0</td>\n",
       "    </tr>\n",
       "    <tr>\n",
       "      <th>2387619</th>\n",
       "      <td>CN_F1</td>\n",
       "      <td>TCTCCTGTTGAAGGTTCTCCAGCTAAGCCAGAAGATTACCCACACT...</td>\n",
       "      <td>TCTCCTGTTGAAGGTTCTCCAGCTAAGCCAGAAGATTACCCACACT...</td>\n",
       "      <td>NaN</td>\n",
       "      <td>NaN</td>\n",
       "      <td>{68: 'GGG', 69: 'GGG'}</td>\n",
       "      <td>(68, 69)</td>\n",
       "      <td>GGG</td>\n",
       "      <td>GGG</td>\n",
       "      <td>68.0</td>\n",
       "      <td>69.0</td>\n",
       "    </tr>\n",
       "  </tbody>\n",
       "</table>\n",
       "<p>2387620 rows × 11 columns</p>\n",
       "</div>"
      ],
      "text/plain": [
       "        Mutated_seq                                             WT_seq  \\\n",
       "0             CN_F1  TCTCCTGTTGAAGGTTCTCCAGCTAAGCCAGAAGATTACCCACACT...   \n",
       "1             CN_F1  TCTCCTGTTGAAGGTTCTCCAGCTAAGCCAGAAGATTACCCACACT...   \n",
       "2             CN_F1  TCTCCTGTTGAAGGTTCTCCAGCTAAGCCAGAAGATTACCCACACT...   \n",
       "3             CN_F1  TCTCCTGTTGAAGGTTCTCCAGCTAAGCCAGAAGATTACCCACACT...   \n",
       "4             CN_F1  TCTCCTGTTGAAGGTTCTCCAGCTAAGCCAGAAGATTACCCACACT...   \n",
       "...             ...                                                ...   \n",
       "2387615       CN_F1  TCTCCTGTTGAAGGTTCTCCAGCTAAGCCAGAAGATTACCCACACT...   \n",
       "2387616       CN_F1  TCTCCTGTTGAAGGTTCTCCAGCTAAGCCAGAAGATTACCCACACT...   \n",
       "2387617       CN_F1  TCTCCTGTTGAAGGTTCTCCAGCTAAGCCAGAAGATTACCCACACT...   \n",
       "2387618       CN_F1  TCTCCTGTTGAAGGTTCTCCAGCTAAGCCAGAAGATTACCCACACT...   \n",
       "2387619       CN_F1  TCTCCTGTTGAAGGTTCTCCAGCTAAGCCAGAAGATTACCCACACT...   \n",
       "\n",
       "                                                    nt_seq  pos alt_codons  \\\n",
       "0        TTTCCTGTTGAAGGTTCTCCAGCTAAGCCAGAAGATTACCCACACT...    0        TTT   \n",
       "1        TTGCCTGTTGAAGGTTCTCCAGCTAAGCCAGAAGATTACCCACACT...    0        TTG   \n",
       "2        CTTCCTGTTGAAGGTTCTCCAGCTAAGCCAGAAGATTACCCACACT...    0        CTT   \n",
       "3        CTGCCTGTTGAAGGTTCTCCAGCTAAGCCAGAAGATTACCCACACT...    0        CTG   \n",
       "4        ATTCCTGTTGAAGGTTCTCCAGCTAAGCCAGAAGATTACCCACACT...    0        ATT   \n",
       "...                                                    ...  ...        ...   \n",
       "2387615  TCTCCTGTTGAAGGTTCTCCAGCTAAGCCAGAAGATTACCCACACT...  NaN        NaN   \n",
       "2387616  TCTCCTGTTGAAGGTTCTCCAGCTAAGCCAGAAGATTACCCACACT...  NaN        NaN   \n",
       "2387617  TCTCCTGTTGAAGGTTCTCCAGCTAAGCCAGAAGATTACCCACACT...  NaN        NaN   \n",
       "2387618  TCTCCTGTTGAAGGTTCTCCAGCTAAGCCAGAAGATTACCCACACT...  NaN        NaN   \n",
       "2387619  TCTCCTGTTGAAGGTTCTCCAGCTAAGCCAGAAGATTACCCACACT...  NaN        NaN   \n",
       "\n",
       "                      mutations combination alt_codons1 alt_codons2  pos1  \\\n",
       "0                    {0: 'TTT'}         NaN         NaN         NaN   NaN   \n",
       "1                    {0: 'TTG'}         NaN         NaN         NaN   NaN   \n",
       "2                    {0: 'CTT'}         NaN         NaN         NaN   NaN   \n",
       "3                    {0: 'CTG'}         NaN         NaN         NaN   NaN   \n",
       "4                    {0: 'ATT'}         NaN         NaN         NaN   NaN   \n",
       "...                         ...         ...         ...         ...   ...   \n",
       "2387615  {68: 'GGG', 69: 'CGG'}    (68, 69)         GGG         CGG  68.0   \n",
       "2387616  {68: 'GGG', 69: 'AGT'}    (68, 69)         GGG         AGT  68.0   \n",
       "2387617  {68: 'GGG', 69: 'AGG'}    (68, 69)         GGG         AGG  68.0   \n",
       "2387618  {68: 'GGG', 69: 'GGT'}    (68, 69)         GGG         GGT  68.0   \n",
       "2387619  {68: 'GGG', 69: 'GGG'}    (68, 69)         GGG         GGG  68.0   \n",
       "\n",
       "         pos2  \n",
       "0         NaN  \n",
       "1         NaN  \n",
       "2         NaN  \n",
       "3         NaN  \n",
       "4         NaN  \n",
       "...       ...  \n",
       "2387615  69.0  \n",
       "2387616  69.0  \n",
       "2387617  69.0  \n",
       "2387618  69.0  \n",
       "2387619  69.0  \n",
       "\n",
       "[2387620 rows x 11 columns]"
      ]
     },
     "execution_count": 18,
     "metadata": {},
     "output_type": "execute_result"
    }
   ],
   "source": [
    "# Again, we need an efficient way to apply our function to get the nucleotide sequences\n",
    "mutants_df[\"nt_seq\"] = list(itertools.starmap(get_nt_seq, zip(mutants_df[\"WT_seq\"], mutants_df[\"mutations\"])))\n",
    "mutants_df"
   ]
  },
  {
   "cell_type": "markdown",
   "id": "73e01e39",
   "metadata": {},
   "source": [
    "## Add wild-type nucleotide sequence"
   ]
  },
  {
   "cell_type": "code",
   "execution_count": null,
   "id": "c274e550",
   "metadata": {},
   "outputs": [],
   "source": [
    "# Note: information on mutated codons is dropped so that we can annotate more types of mutants in downstream steps\n",
    "expmut_df = pd.concat([wt_df, mutants_df.drop([\"mutations\", \"pos\", \"alt_codons\"], axis=1)], ignore_index=True)"
   ]
  },
  {
   "cell_type": "markdown",
   "id": "0deb58f4-e279-4ea7-b093-6607e62a6ee0",
   "metadata": {},
   "source": [
    "## Export"
   ]
  },
  {
   "cell_type": "code",
   "execution_count": null,
   "id": "7c2c3a02-c8f5-4ec0-9228-ebd73ebaae95",
   "metadata": {},
   "outputs": [],
   "source": [
    "expmut_df.to_csv(output_file)"
   ]
  }
 ],
 "metadata": {
  "kernelspec": {
   "display_name": "dms-env",
   "language": "python",
   "name": "dms-env"
  },
  "language_info": {
   "codemirror_mode": {
    "name": "ipython",
    "version": 3
   },
   "file_extension": ".py",
   "mimetype": "text/x-python",
   "name": "python",
   "nbconvert_exporter": "python",
   "pygments_lexer": "ipython3",
   "version": "3.11.11"
  }
 },
 "nbformat": 4,
 "nbformat_minor": 5
}
