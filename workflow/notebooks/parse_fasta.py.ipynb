{
 "cells": [
  {
   "cell_type": "markdown",
   "id": "c8d95473-57c9-40d4-85eb-9c5a005bb4b4",
   "metadata": {},
   "source": [
    "# Notebook to parse fasta files and merge sequences with layout"
   ]
  },
  {
   "cell_type": "markdown",
   "id": "0360037c-aa8d-4991-bddd-5c9b451ab35d",
   "metadata": {},
   "source": [
    "## Import libraries"
   ]
  },
  {
   "cell_type": "code",
   "execution_count": null,
   "id": "7ceeddc2-230a-4a18-b8ea-c480b76fd519",
   "metadata": {
    "tags": []
   },
   "outputs": [],
   "source": [
    "import pandas as pd\n",
    "import seaborn as sns\n",
    "import matplotlib.pyplot as plt\n",
    "%matplotlib inline\n",
    "plt.rcParams['svg.fonttype'] = 'none'\n",
    "import numpy as np"
   ]
  },
  {
   "cell_type": "markdown",
   "id": "3e43489c-768e-417f-b307-4dc3a2649c7a",
   "metadata": {},
   "source": [
    "## Specify paths"
   ]
  },
  {
   "cell_type": "code",
   "execution_count": null,
   "id": "6d628afc-475c-461c-ba14-b67ab07f6b5b",
   "metadata": {
    "tags": []
   },
   "outputs": [],
   "source": [
    "### Input\n",
    "fasta_files = snakemake.input.fasta_files\n",
    "layout_path = snakemake.input.expected_mutants\n",
    "stats_path = snakemake.input.read_stats\n",
    "\n",
    "### Output\n",
    "# Dataframes\n",
    "rcdf_path = snakemake.output.read_counts\n",
    "# Plots\n",
    "unexp_rc_plot = snakemake.output.unexp_rc_plot\n",
    "rc_filter_plot = snakemake.output.rc_filter_plot"
   ]
  },
  {
   "cell_type": "markdown",
   "id": "1bcb3b42-abf4-4efe-b341-f1ec07b9a57c",
   "metadata": {},
   "source": [
    "## Specify parameters"
   ]
  },
  {
   "cell_type": "code",
   "execution_count": null,
   "id": "e50268ed-a9a2-4401-9db1-2697214c33b6",
   "metadata": {
    "tags": []
   },
   "outputs": [],
   "source": [
    "# Note, I used to import config entries as \"params\" (i.e. listed in the params statement of the rule), but...\n",
    "# a bug led to params not being imported.. (snakemake object is imported but not the params attribute)\n",
    "# Therefore, now I will import all config entries directly from the snakemake object\n",
    "exp_rc_per_sample = float(snakemake.config['rc_aims']['exp_rc_per_sample'])\n",
    "plot_formats = [x for x in snakemake.config['plots']['format'] if x!= 'svg']"
   ]
  },
  {
   "cell_type": "markdown",
   "id": "fe60dd0f-feda-4957-b737-75c55713e96a",
   "metadata": {},
   "source": [
    "## Parse fasta files (with read count)"
   ]
  },
  {
   "cell_type": "code",
   "execution_count": null,
   "id": "b3079278-62ff-41ed-b7e0-deb690442713",
   "metadata": {
    "tags": []
   },
   "outputs": [],
   "source": [
    "seq_l = []\n",
    "\n",
    "for f in fasta_files:\n",
    "    \n",
    "    # Note: In the next line, the double split should catch file (base) names regardless of the platform\n",
    "    # Should still work when run with snakemake (no paths)\n",
    "    sample_name = f.split('/')[-1].split('\\\\')[-1].split('_aggregated.fasta')[0]\n",
    "    \n",
    "    with open(f, 'r') as file:\n",
    "        entries = file.read().split('>')[1:]\n",
    "\n",
    "    readcount = [int(x.split('size=')[1].split('\\n')[0]) for x in entries]\n",
    "    seqs = [x.split('size=')[1].split('\\n', 1)[1].replace('\\n', '') for x in entries]\n",
    "    fasta_df = pd.DataFrame(list(zip(seqs, readcount)), columns=['nt_seq','readcount'])\n",
    "    fasta_df['Sample_name'] = sample_name\n",
    "    seq_l.append(fasta_df)\n",
    "    \n",
    "master_seq = pd.concat(seq_l, ignore_index=True)\n",
    "master_seq"
   ]
  },
  {
   "cell_type": "markdown",
   "id": "14f98822-8542-43f4-911f-e9543a3dbba5",
   "metadata": {},
   "source": [
    "## Compare with expected variants and annotate"
   ]
  },
  {
   "cell_type": "code",
   "execution_count": null,
   "id": "0cfc6836-e2cd-49d0-a696-15df164907dc",
   "metadata": {
    "tags": []
   },
   "outputs": [],
   "source": [
    "master_layout = pd.read_csv(layout_path, index_col=0, dtype={'WT': 'boolean', # Boolean type supports missing data\n",
    "                                                             'pos':str, 'aa_pos':str}) # pos and aa_pos contain mixed types because of the nucleotide WT - very important when pivoting later on\n",
    "master_layout"
   ]
  },
  {
   "cell_type": "code",
   "execution_count": null,
   "id": "4bddf33b-984c-4cd9-ab0c-11dedc6bd802",
   "metadata": {
    "tags": []
   },
   "outputs": [],
   "source": [
    "comparedf = pd.merge(left=master_layout, right=master_seq, how='outer', on=['Sample_name','nt_seq'], indicator='Location')\n",
    "covered_df = comparedf[comparedf.Location == 'both']\n",
    "covered_df.to_csv(rcdf_path)"
   ]
  },
  {
   "cell_type": "markdown",
   "id": "16953460-025b-476b-88e5-0b56badc0b14",
   "metadata": {},
   "source": [
    "## Coverage of expected variants (ratio of unique expected sequences) at T0"
   ]
  },
  {
   "cell_type": "code",
   "execution_count": null,
   "id": "dfbdcac6-afda-40eb-ac5c-e86b6536ccfe",
   "metadata": {
    "tags": []
   },
   "outputs": [],
   "source": [
    "expected_df = covered_df[covered_df.Timepoint == 'T0'].groupby('Sample_name').size().reset_index(name='unique_seq_variants')\n",
    "expected_df['unique_expected_variants'] = master_layout[master_layout.Sample_name.isin(expected_df.Sample_name.unique())].groupby('Sample_name').size().values\n",
    "expected_df['unique_variants_%'] = expected_df['unique_seq_variants'] / expected_df['unique_expected_variants']\n",
    "expected_df"
   ]
  },
  {
   "cell_type": "markdown",
   "id": "9a69f9b7-b230-4ecf-b259-9ea84d612ebc",
   "metadata": {},
   "source": [
    "## Read count of unexpected variants"
   ]
  },
  {
   "cell_type": "code",
   "execution_count": null,
   "id": "d9742299-6a6b-4d7a-98c8-eecdc2feaab1",
   "metadata": {
    "tags": []
   },
   "outputs": [],
   "source": [
    "sns.kdeplot(data=comparedf[comparedf.Location == 'right_only'], x='readcount',\n",
    "            hue='Sample_name', common_norm=False, log_scale=True,\n",
    "            legend=False\n",
    "           )\n",
    "plt.xlabel('Read count of unexpected variants')\n",
    "plt.savefig(unexp_rc_plot, format='svg', dpi=300)\n",
    "[plt.savefig(f\"{unexp_rc_plot.split('.svg')[0]}.{x}\", format=x, dpi=300) for x in plot_formats]"
   ]
  },
  {
   "cell_type": "code",
   "execution_count": null,
   "id": "c7d61eee-229c-4a2f-b9f9-b862960e266a",
   "metadata": {
    "tags": []
   },
   "outputs": [],
   "source": [
    "unexpected_df = comparedf[comparedf.Location == 'right_only'].groupby('Sample_name')[['readcount']].sum()\n",
    "unexpected_df['total_rc'] = master_seq.groupby('Sample_name')[['readcount']].sum().readcount\n",
    "unexpected_df['%rc_unexp'] = unexpected_df['readcount'] / unexpected_df['total_rc']\n",
    "unexpected_df.sort_values(by=['%rc_unexp','Sample_name'], ascending=[False,True]).head(3)"
   ]
  },
  {
   "cell_type": "markdown",
   "id": "e3d6fec5-93e2-4e22-b602-e0fc167bdb07",
   "metadata": {},
   "source": [
    "The following command can be used to explore why the sequence is unexpected:\n",
    "```\n",
    "comparedf[(comparedf.Location == 'right_only') & (comparedf.Sample_name == 'CN_a_r2_F2_T0')].iloc[0].nt_seq\n",
    "```"
   ]
  },
  {
   "cell_type": "markdown",
   "id": "b08089af-a0fc-4b39-a7d1-6d8c94b1c645",
   "metadata": {},
   "source": [
    "## Show overall read filtering steps"
   ]
  },
  {
   "cell_type": "code",
   "execution_count": null,
   "id": "621b41e1-6d98-4529-a75f-7d7cb57222f9",
   "metadata": {
    "tags": []
   },
   "outputs": [],
   "source": [
    "stats = pd.read_csv(stats_path, index_col=0)[['Total_raw_reads','Total_trimmed_reads','Total_merged_reads','Nb_singletons']]\n",
    "# In the following steps, the column names refer to the total number of reads lost at the specified step\n",
    "stats['Trimming'] = stats['Total_raw_reads'] - stats['Total_trimmed_reads']\n",
    "stats['Merging'] =  stats['Total_trimmed_reads'] - stats['Total_merged_reads']\n",
    "stats['Aggregating'] = stats['Nb_singletons']\n",
    "stacked_data = pd.concat([stats,\n",
    "                          unexpected_df[['readcount']].rename(columns={'readcount':'Unexpected'}),\n",
    "                         ], axis=1)\n",
    "stacked_data['OK'] = stacked_data['Total_raw_reads'] - stacked_data[['Trimming','Merging','Aggregating','Unexpected']].sum(axis=1)\n",
    "stacked_data.drop(['Total_raw_reads','Total_trimmed_reads','Total_merged_reads','Nb_singletons'], axis=1, inplace=True)\n",
    "stacked_data.sort_index(inplace=True)\n",
    "stacked_data"
   ]
  },
  {
   "cell_type": "code",
   "execution_count": null,
   "id": "4c5a83f2-ec43-45e1-9c14-8b2888f8af33",
   "metadata": {
    "tags": []
   },
   "outputs": [],
   "source": [
    "samples = stacked_data.index.to_list()\n",
    "width = .5\n",
    "color_dict = {'OK':'green',\n",
    "              'Trimming':'gold',\n",
    "              'Merging':'orange',\n",
    "              'Aggregating':'red',\n",
    "              'Unexpected':'grey'\n",
    "             }\n",
    "\n",
    "f, ax = plt.subplots(figsize=(20,5))\n",
    "bottom = np.zeros(len(stacked_data))\n",
    "\n",
    "for l in color_dict.keys():\n",
    "    p = ax.bar(samples, stacked_data[l].values, width, label=l, bottom=bottom, color=color_dict[l])\n",
    "    bottom += stacked_data[l].values\n",
    "\n",
    "ax.set_yscale('log', base=10)\n",
    "ax.set(ylim=(1e4,1e7), ylabel='Read count')\n",
    "\n",
    "ax.axhline(y=exp_rc_per_sample, linestyle='--', color='.8')\n",
    "ax.annotate('Aim', (-4, 1.1*exp_rc_per_sample), color='.5')\n",
    "\n",
    "ax.xaxis.set_ticks(samples)\n",
    "ax.set_xticklabels(samples, rotation=45, ha='right')\n",
    "ax.legend(framealpha=.9)\n",
    "\n",
    "plt.tight_layout()\n",
    "plt.savefig(rc_filter_plot, format='svg', dpi=300)\n",
    "[plt.savefig(f\"{rc_filter_plot.split('.svg')[0]}.{x}\", format=x, dpi=300) for x in plot_formats]\n",
    "plt.show()"
   ]
  },
  {
   "cell_type": "code",
   "execution_count": null,
   "id": "7d8073cf-e51a-4786-9e5a-b83848ae10a5",
   "metadata": {},
   "outputs": [],
   "source": []
  }
 ],
 "metadata": {
  "kernelspec": {
   "display_name": "Python 3 (ipykernel)",
   "language": "python",
   "name": "python3"
  },
  "language_info": {
   "codemirror_mode": {
    "name": "ipython",
    "version": 3
   },
   "file_extension": ".py",
   "mimetype": "text/x-python",
   "name": "python",
   "nbconvert_exporter": "python",
   "pygments_lexer": "ipython3",
   "version": "3.11.10"
  }
 },
 "nbformat": 4,
 "nbformat_minor": 5
}
