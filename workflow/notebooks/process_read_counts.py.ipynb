{
 "cells": [
  {
   "cell_type": "markdown",
   "id": "3e01b989-4ea7-4cb8-8153-ca56b5b96e7d",
   "metadata": {},
   "source": [
    "# Notebook to process variants and their read count across conditions"
   ]
  },
  {
   "cell_type": "markdown",
   "id": "1cb53b14-3f64-406e-82d1-4cab1b4727e4",
   "metadata": {},
   "source": [
    "## Import libraries"
   ]
  },
  {
   "cell_type": "code",
   "execution_count": null,
   "id": "88d22d06-778e-4f75-8c7a-d097f7e11c2e",
   "metadata": {
    "tags": []
   },
   "outputs": [],
   "source": [
    "import warnings\n",
    "import pandas as pd\n",
    "import numpy as np\n",
    "import seaborn as sns\n",
    "import matplotlib.pyplot as plt\n",
    "%matplotlib inline\n",
    "plt.rcParams['svg.fonttype'] = 'none'\n",
    "from upsetplot import from_indicators\n",
    "from upsetplot import UpSet"
   ]
  },
  {
   "cell_type": "markdown",
   "id": "af0a8cab-b4be-4f48-b0d9-1039651ee69a",
   "metadata": {},
   "source": [
    "## Specify paths"
   ]
  },
  {
   "cell_type": "code",
   "execution_count": null,
   "id": "18989250-fa9b-46b3-b853-1ce876212d55",
   "metadata": {},
   "outputs": [],
   "source": [
    "### Input\n",
    "rcdf_path = snakemake.input[0]\n",
    "\n",
    "### Output\n",
    "# Dataframes\n",
    "selcoeffs_df_path = snakemake.output.selcoeffs\n",
    "# Plots\n",
    "hist_plot = snakemake.output.hist_plot\n",
    "upset_plot = snakemake.output.upset_plot\n",
    "rc_var_plot = snakemake.output.rc_var_plot\n",
    "timepoints_plot = snakemake.output.timepoints_plot\n",
    "scoeff_violin_plot = snakemake.output.scoeff_violin_plot\n",
    "s_through_time_plot = snakemake.output.s_through_time_plot\n",
    "replicates_plot = snakemake.output.replicates_plot"
   ]
  },
  {
   "cell_type": "markdown",
   "id": "dedc6851-f611-4e67-b36d-2cd6b98bdfa0",
   "metadata": {},
   "source": [
    "## Specify parameters"
   ]
  },
  {
   "cell_type": "code",
   "execution_count": null,
   "id": "c9b7bf8f-b7c2-49ef-91d9-a1f4cf11f489",
   "metadata": {},
   "outputs": [],
   "source": [
    "# Columns in the sequence layout (dataframes of expected variants) related to mutations (should be invariable from one project to another)\n",
    "mutation_attributes = ['pos','alt_codons','alt_aa','aa_pos','nt_seq','aa_seq','Nham_nt','Nham_aa','Nham_codons']\n",
    "\n",
    "# Project-specific columns in the sample layout\n",
    "sample_attributes = snakemake.params.sample_attributes\n",
    "\n",
    "# Project-specific target for the read count per variant\n",
    "exp_rc_per_var = snakemake.params.exp_rc_per_var\n",
    "\n",
    "# Project-specific threshold to label variants with a confidence score\n",
    "rc_threshold = snakemake.params.rc_threshold\n",
    "\n",
    "# Projet-specific file containing the number of mitotic generations for each condition\n",
    "nbgen_path = snakemake.params.nb_gen"
   ]
  },
  {
   "cell_type": "markdown",
   "id": "e4157a86-bc1c-4e38-b96a-4930cd05297c",
   "metadata": {},
   "source": [
    "## Import data"
   ]
  },
  {
   "cell_type": "code",
   "execution_count": null,
   "id": "71ab2c00-335b-431b-b5ba-7bef4a6bdcb5",
   "metadata": {},
   "outputs": [],
   "source": [
    "covered_df = pd.read_csv(rcdf_path, index_col=0, dtype={'WT': 'boolean', # Boolean type supports missing data\n",
    "                                                             'pos':str, 'aa_pos':str}) # pos and aa_pos contain mixed types because of the nucleotide WT - very important when pivoting later on\n",
    "covered_df"
   ]
  },
  {
   "cell_type": "markdown",
   "id": "9f061b2a-2e8b-4803-bf48-1853e839b2ea",
   "metadata": {},
   "source": [
    "## Add rows corresponding to variants not present in all replicates/timepoints"
   ]
  },
  {
   "cell_type": "code",
   "execution_count": null,
   "id": "0c390957-d19e-45c0-8174-22dba6b6d47d",
   "metadata": {
    "tags": []
   },
   "outputs": [],
   "source": [
    "covered_df['TR'] = covered_df['Timepoint'] + '_' + covered_df['Replicate']\n",
    "conditions = covered_df.TR.unique()\n",
    "T0_conditions = [x for x in conditions if 'T0' in x]"
   ]
  },
  {
   "cell_type": "code",
   "execution_count": null,
   "id": "5391debe-5fb5-4692-8ac3-dd7050b647c5",
   "metadata": {
    "tags": []
   },
   "outputs": [],
   "source": [
    "upset = covered_df.pivot_table(index = sample_attributes + mutation_attributes,\n",
    "                               columns='TR', values='readcount',\n",
    "                               fill_value=0\n",
    "                              ).reset_index(level=mutation_attributes)\n",
    "upset"
   ]
  },
  {
   "cell_type": "markdown",
   "id": "d94f4c2c-94c3-4c32-aac6-a072ebd0dcee",
   "metadata": {},
   "source": [
    "## Label variants based on read count in input replicates"
   ]
  },
  {
   "cell_type": "code",
   "execution_count": null,
   "id": "d8f4f2ed-adfa-48bd-8811-5df248c50545",
   "metadata": {
    "tags": []
   },
   "outputs": [],
   "source": [
    "def get_confidence_score(g, threshold):\n",
    "    if (g >= threshold).all(): # Above threshold in all replicates\n",
    "        return 1 # best confidence score\n",
    "    elif (g >= threshold).any(): # Above threshold in at least 1 replicate\n",
    "        return 2 # medium confidence score\n",
    "    else:\n",
    "        return 3 # low confidence score"
   ]
  },
  {
   "cell_type": "code",
   "execution_count": null,
   "id": "dd8f8740-e7cd-49a9-be2e-e01317920166",
   "metadata": {
    "tags": []
   },
   "outputs": [],
   "source": [
    "upset['confidence_score'] = upset[T0_conditions].apply(lambda row: get_confidence_score(row, rc_threshold), axis=1)\n",
    "mutation_attributes += ['confidence_score']\n",
    "upset"
   ]
  },
  {
   "cell_type": "code",
   "execution_count": null,
   "id": "7ecc86dd-ecc9-46db-b68b-9a3b58038211",
   "metadata": {},
   "outputs": [],
   "source": [
    "gby_score = upset.reset_index().groupby(sample_attributes+['confidence_score'])[['nt_seq']].nunique().reset_index('confidence_score')\n",
    "gby_score"
   ]
  },
  {
   "cell_type": "code",
   "execution_count": null,
   "id": "3ada2003-ea5a-4956-a8a9-19e10e1784fa",
   "metadata": {},
   "outputs": [],
   "source": [
    "ntseq_tot = upset.reset_index().groupby(sample_attributes)[['nt_seq']].nunique()\n",
    "ntseq_tot"
   ]
  },
  {
   "cell_type": "code",
   "execution_count": null,
   "id": "32cdd1fb-2afe-4b1c-b139-540799d481f1",
   "metadata": {},
   "outputs": [],
   "source": [
    "cscore_statement = \"\"\n",
    "\n",
    "if ((gby_score[gby_score.confidence_score == 3] / ntseq_tot).nt_seq > .25 ).any():\n",
    "    cscore_statement = f\"Warning.. at least one of your combination of sample attributes shows more than 25% variants labeled with low confidence. This means a lot of your variants were sequenced less than {rc_threshold} times in all replicates. Make sure your review the config file and adjust the rc_threshold parameter if necessary.\"\n",
    "    warnings.warn(cscore_statement)"
   ]
  },
  {
   "cell_type": "markdown",
   "id": "e157cf21-82d0-460f-9cc0-ddb12ba5b623",
   "metadata": {},
   "source": [
    "## Calculate frequencies"
   ]
  },
  {
   "cell_type": "code",
   "execution_count": null,
   "id": "9936cd12-5f35-49d6-95bd-58fd05c8462d",
   "metadata": {
    "tags": []
   },
   "outputs": [],
   "source": [
    "freq = upset.copy()\n",
    "freq_conditions = [f'{x}_freq' for x in conditions]\n",
    "T0_freq = [x for x in freq_conditions if 'T0' in x]"
   ]
  },
  {
   "cell_type": "code",
   "execution_count": null,
   "id": "178b8c46-28ac-42e8-9c26-57f23236466c",
   "metadata": {
    "tags": []
   },
   "outputs": [],
   "source": [
    "freq[freq_conditions] = freq[conditions].add(1) / freq.groupby(sample_attributes)[conditions].sum()\n",
    "freq"
   ]
  },
  {
   "cell_type": "code",
   "execution_count": null,
   "id": "c9715832-e89d-4bbb-9240-ec1735e55987",
   "metadata": {
    "tags": []
   },
   "outputs": [],
   "source": [
    "# Retrieve overall mean frequency corresponding to the expected read count per variant\n",
    "mean_exp_freq = (np.log10((exp_rc_per_var+1) / freq.groupby(sample_attributes)[conditions].sum())).mean(axis=None)"
   ]
  },
  {
   "cell_type": "markdown",
   "id": "670a7bc9-fcfe-4d46-982b-254a63639ac7",
   "metadata": {},
   "source": [
    "## Plot example of distribution of raw read count (per variant)"
   ]
  },
  {
   "cell_type": "code",
   "execution_count": null,
   "id": "eed0ecdc-c7da-4394-add3-3a4dcd782fcb",
   "metadata": {
    "tags": []
   },
   "outputs": [],
   "source": [
    "dataset1 = freq.index[0] # Just plotting for the first combination of sample attributes\n",
    "graph1df = freq[conditions].loc[dataset1]\n",
    "graph2df = freq[freq_conditions].loc[dataset1]\n",
    "\n",
    "fig, (ax1, ax2) = plt.subplots(nrows=1, ncols=2, figsize=(10, 4))\n",
    "\n",
    "sns.histplot(graph1df, element='step', bins=50, common_norm=False, log_scale=10, ax=ax1)\n",
    "ax1.axvline(x=exp_rc_per_var, linestyle='--', color='.8')\n",
    "ax1.set(xlabel='Raw read count')\n",
    "\n",
    "sns.histplot(graph2df, element='step', bins=50, log_scale=10, common_norm=False, ax=ax2)\n",
    "ax2.axvline(x=10**mean_exp_freq, linestyle='--', color='.8')\n",
    "ax2.set(xlabel='Frequency')\n",
    "\n",
    "plt.subplots_adjust(top=.9)\n",
    "plt.suptitle(f'Samples attributes: {\" | \".join(dataset1)}')\n",
    "plt.savefig(hist_plot, format='svg', dpi=300)"
   ]
  },
  {
   "cell_type": "markdown",
   "id": "5e460dc3-ada5-412d-9620-76a2a3973c91",
   "metadata": {},
   "source": [
    "## Plot overlap across timepoints and replicates"
   ]
  },
  {
   "cell_type": "code",
   "execution_count": null,
   "id": "11d1290c-a2ef-49a6-99be-53ce7a321652",
   "metadata": {
    "tags": []
   },
   "outputs": [],
   "source": [
    "freq['mean_input'] = freq[T0_freq].mean(axis=1)\n",
    "bool_conditions = [f'{x}_indicator' for x in conditions]\n",
    "freq[bool_conditions] = freq[conditions].astype(bool)\n",
    "freq"
   ]
  },
  {
   "cell_type": "code",
   "execution_count": null,
   "id": "791893de-57bf-440d-b02b-3eb11ffa6c15",
   "metadata": {
    "tags": []
   },
   "outputs": [],
   "source": [
    "upset_sub = freq.loc[dataset1].drop(conditions, axis=1).rename(columns=dict(zip(bool_conditions, conditions))) # Can be replaced with any specific combination of sample attributes\n",
    "upset_sub"
   ]
  },
  {
   "cell_type": "code",
   "execution_count": null,
   "id": "3b39f485-84d5-419c-921d-c70a20935fa4",
   "metadata": {
    "tags": []
   },
   "outputs": [],
   "source": [
    "cscores = [1,2,3]\n",
    "cscore_colors = ['green','orange','red']\n",
    "\n",
    "fig = plt.figure(figsize=(6, 6))\n",
    "upset_obj = UpSet(from_indicators(conditions, data=upset_sub),\n",
    "                   #show_percentages=True,\n",
    "                   show_counts=True,\n",
    "                   min_subset_size=\"1%\",\n",
    "                   sort_by='cardinality',\n",
    "                   element_size=None,\n",
    "                   intersection_plot_elements=0, # height of intersection barplot in matrix elements\n",
    "                   totals_plot_elements = 2 # width of totals barplot in matrix elements\n",
    "                  )\n",
    "\n",
    "upset_obj.add_stacked_bars(by='confidence_score',\n",
    "                           colors=dict(zip(cscores, cscore_colors)),\n",
    "                           elements=3\n",
    "                          )\n",
    "\n",
    "upset_obj.add_catplot(value='mean_input', kind='violin', cut=0, density_norm='count',\n",
    "                      log_scale=10, linewidth=0.5,\n",
    "                      elements=3 # height in number of matrix elements\n",
    "                      )\n",
    "\n",
    "d = upset_obj.plot(fig=fig) # Assigns all plots to a dictionary containing axes subplots - same keys as gridspec returned by upset_obj.make_grid()\n",
    "ax0 = d['extra0'] # Key corresponding to 1st stacked barplot - confidence score ('intersections' = intersection barplot)\n",
    "ax1 = d['extra1'] # Key corresponding to 1st catplot - read count for input samples\n",
    "\n",
    "ax0.set_ylabel('# Variants')\n",
    "ax0.legend(title='Confidence score')\n",
    "\n",
    "ax1.set_ylabel('Mean\\nT0 freq.')\n",
    "\n",
    "plt.subplots_adjust(top=.95)\n",
    "plt.suptitle(f'Samples attributes: {\" | \".join(dataset1)}')\n",
    "\n",
    "plt.savefig(upset_plot, format='svg', dpi=300)"
   ]
  },
  {
   "cell_type": "markdown",
   "id": "6ffeed69-0c57-4c3b-8bd7-10a01f291142",
   "metadata": {},
   "source": [
    "## Distribution of allele frequencies"
   ]
  },
  {
   "cell_type": "code",
   "execution_count": null,
   "id": "bea8f339-c145-406d-944b-5f7f01dd4ac1",
   "metadata": {
    "tags": []
   },
   "outputs": [],
   "source": [
    "longfreq = freq.melt(id_vars=mutation_attributes,\n",
    "                     value_vars=freq_conditions, var_name='TR_freq',\n",
    "                     value_name='frequency', ignore_index=False\n",
    "                    ).reset_index()\n",
    "longfreq"
   ]
  },
  {
   "cell_type": "code",
   "execution_count": null,
   "id": "41e963a8-a2bb-4b78-8511-1b677a49305a",
   "metadata": {
    "tags": []
   },
   "outputs": [],
   "source": [
    "longfreq['Timepoint'] = longfreq.TR_freq.apply(lambda x: x.split('_')[0])\n",
    "longfreq['Replicate'] = longfreq.TR_freq.apply(lambda x: x.split('_')[1])\n",
    "longfreq"
   ]
  },
  {
   "cell_type": "code",
   "execution_count": null,
   "id": "a1e8f1cc-efa6-4bc0-b041-7929a714dc51",
   "metadata": {
    "tags": []
   },
   "outputs": [],
   "source": [
    "graphdf = longfreq.copy()\n",
    "graphdf['Sample attributes'] = graphdf[sample_attributes].agg(' | '.join, axis=1)\n",
    "labels = graphdf['Sample attributes'].unique()\n",
    "g = sns.catplot(graphdf, x='Sample attributes', y='frequency', row='Timepoint',\n",
    "            hue='Replicate', palette='hls', split=True,\n",
    "            log_scale=10,\n",
    "            kind='violin', cut=0, linewidth=1, inner='quart',\n",
    "            height=2, aspect=.8*len(labels)\n",
    "           )\n",
    "g.map(plt.axhline, y=10**mean_exp_freq, linestyle='--', color='.8')\n",
    "\n",
    "g.set_axis_labels('','Frequency')\n",
    "g.set_titles(row_template='{row_name}')\n",
    "g.set_xticklabels(labels, rotation=45, ha='right')\n",
    "g.tight_layout()\n",
    "plt.savefig(rc_var_plot, format='svg', dpi=300)"
   ]
  },
  {
   "cell_type": "markdown",
   "id": "7e37fe20-914a-4fa5-a450-2c213d0c051d",
   "metadata": {},
   "source": [
    "## Get mutation type"
   ]
  },
  {
   "cell_type": "code",
   "execution_count": null,
   "id": "959466f1-f99a-4fb0-8484-28c2c915c128",
   "metadata": {
    "tags": []
   },
   "outputs": [],
   "source": [
    "def get_mutation_type(Nham_aa, alt_aa):\n",
    "    # Quick function to determine if the mutation is synonymous or non-synonymous<\n",
    "    # and if it's missense or nonsense\n",
    "    if Nham_aa == 0:\n",
    "        return 'synonymous'\n",
    "    elif alt_aa == '*':\n",
    "        return 'nonsense'\n",
    "    else:\n",
    "        return 'missense'"
   ]
  },
  {
   "cell_type": "code",
   "execution_count": null,
   "id": "87e37d95-2c4d-43aa-b27b-d7bb3be74037",
   "metadata": {
    "tags": []
   },
   "outputs": [],
   "source": [
    "longfreq['mutation_type'] = longfreq.apply(lambda row: get_mutation_type(row.Nham_aa, row.alt_aa), axis=1)\n",
    "mutation_attributes += ['mutation_type']\n",
    "longfreq.head(4)"
   ]
  },
  {
   "cell_type": "markdown",
   "id": "88accb58-dfe5-438f-ae94-b01e562f9470",
   "metadata": {},
   "source": [
    "## Calculate Log2(fold-change) for every timepoint relative to T0"
   ]
  },
  {
   "cell_type": "code",
   "execution_count": null,
   "id": "0af81d75-3174-4e5c-bd8f-d648cceded45",
   "metadata": {},
   "outputs": [],
   "source": [
    "freq_wide = longfreq.pivot(index=sample_attributes+mutation_attributes+['Replicate'],\n",
    "                              columns='Timepoint',\n",
    "                              values='frequency')\n",
    "freq_wide"
   ]
  },
  {
   "cell_type": "code",
   "execution_count": null,
   "id": "a53f91fd-854e-4434-8273-8f1b813f237b",
   "metadata": {
    "tags": []
   },
   "outputs": [],
   "source": [
    "timepoints = [x for x in freq_wide.columns]\n",
    "lfc_combinations = [(x,'T0') for x in timepoints[1:]]\n",
    "lfc_combinations\n",
    "lfc_cols = [f'Lfc_{\"_\".join(x)}' for x in lfc_combinations]\n",
    "lfc_cols"
   ]
  },
  {
   "cell_type": "code",
   "execution_count": null,
   "id": "027268c5-1fff-41ce-9619-3342b71ee153",
   "metadata": {
    "tags": []
   },
   "outputs": [],
   "source": [
    "for i,v in enumerate(lfc_cols):\n",
    "    freq_wide[v] = freq_wide.apply(lambda row: np.log2(row[lfc_combinations[i][0]] / row[lfc_combinations[i][1]]), axis=1)\n",
    "\n",
    "freq_wide"
   ]
  },
  {
   "cell_type": "markdown",
   "id": "878387ed-d224-47a4-8edf-b1dc93cd37f5",
   "metadata": {},
   "source": [
    "## Normalize with number of mitotic generations"
   ]
  },
  {
   "cell_type": "code",
   "execution_count": null,
   "id": "0bbb8235-1ef1-4dec-bbd1-2c9b566482fe",
   "metadata": {
    "tags": []
   },
   "outputs": [],
   "source": [
    "nbgen_df = pd.read_excel(nbgen_path)\n",
    "nbgen_wide = nbgen_df.pivot(index=sample_attributes+['Replicate'],\n",
    "                            columns='Timepoint',\n",
    "                            values='Nb_gen'\n",
    "                           )\n",
    "nbgen_wide.columns = [f'{x}_gen' for x in nbgen_wide.columns]\n",
    "for i,x in enumerate(timepoints):\n",
    "    if i in [0,1]:\n",
    "        pass\n",
    "    else:\n",
    "        nbgen_wide[f'cumul_{x}_gen'] = nbgen_wide[[f'{t}_gen' for t in timepoints[1:i]+[x]]].sum(axis=1)\n",
    "for x in nbgen_wide.columns:\n",
    "    if 'cumul_' in x:\n",
    "        nbgen_wide[x.split('cumul_')[1]] = nbgen_wide[x]\n",
    "        nbgen_wide.drop(x, axis=1, inplace=True)\n",
    "nbgen_wide"
   ]
  },
  {
   "cell_type": "code",
   "execution_count": null,
   "id": "ddf40579-3af4-47c8-935b-e94381bd46f2",
   "metadata": {
    "tags": []
   },
   "outputs": [],
   "source": [
    "lfc_wide = freq_wide.reset_index().merge(right=nbgen_wide.reset_index(), on=sample_attributes+['Replicate'])\n",
    "gen_cols = nbgen_wide.columns\n",
    "lfc_wide[gen_cols]"
   ]
  },
  {
   "cell_type": "code",
   "execution_count": null,
   "id": "3ba50e8a-d6f5-4eea-8657-1beb42c568c4",
   "metadata": {
    "tags": []
   },
   "outputs": [],
   "source": [
    "for x in list(zip(lfc_cols, gen_cols)):\n",
    "    lfc_wide[x[0]] /= lfc_wide[x[1]]\n",
    "lfc_wide"
   ]
  },
  {
   "cell_type": "markdown",
   "id": "59a5dcc6-7253-411b-8afe-b0069531fccb",
   "metadata": {},
   "source": [
    "## Normalize with median of synonymous codons"
   ]
  },
  {
   "cell_type": "code",
   "execution_count": null,
   "id": "f568d989-04f4-4b53-ad96-5460dbf9df8c",
   "metadata": {
    "tags": []
   },
   "outputs": [],
   "source": [
    "syn = lfc_wide[(lfc_wide.Nham_nt >0) & (lfc_wide.Nham_aa == 0)][sample_attributes+['Replicate']+lfc_cols]\n",
    "syn"
   ]
  },
  {
   "cell_type": "code",
   "execution_count": null,
   "id": "e9e02951-b32d-4c32-b15c-fe6e75815580",
   "metadata": {
    "tags": []
   },
   "outputs": [],
   "source": [
    "syn.describe()"
   ]
  },
  {
   "cell_type": "code",
   "execution_count": null,
   "id": "fa89b67f-7f81-4619-ac08-f02ba92cc099",
   "metadata": {
    "tags": []
   },
   "outputs": [],
   "source": [
    "mediansyn = syn.groupby(sample_attributes+['Replicate'])[lfc_cols].median()\n",
    "mediansyn.columns = [x.replace('Lfc','med') for x in mediansyn.columns]\n",
    "med_cols = mediansyn.columns\n",
    "mediansyn"
   ]
  },
  {
   "cell_type": "markdown",
   "id": "06b4cc3f-c8ae-4802-a957-8ad103e7a7ef",
   "metadata": {},
   "source": [
    "## Calculate selection coefficients"
   ]
  },
  {
   "cell_type": "code",
   "execution_count": null,
   "id": "e56c7173-4f5f-439f-b842-dbfbc5c8b1f1",
   "metadata": {
    "tags": []
   },
   "outputs": [],
   "source": [
    "selcoeff_cols = [x.replace('Lfc','s') for x in lfc_cols]\n",
    "s_wide = lfc_wide.merge(right=mediansyn.reset_index(), on=sample_attributes+['Replicate'])"
   ]
  },
  {
   "cell_type": "code",
   "execution_count": null,
   "id": "a3d15b4b-654c-4a4d-a708-b1ba14331ee0",
   "metadata": {
    "tags": []
   },
   "outputs": [],
   "source": [
    "for i,s in enumerate(selcoeff_cols):\n",
    "    s_wide[s] = s_wide[lfc_cols[i]] - s_wide[med_cols[i]]\n",
    "s_wide"
   ]
  },
  {
   "cell_type": "markdown",
   "id": "e273495a-d388-4d58-914b-298505f6e88a",
   "metadata": {},
   "source": [
    "## Repeat WT at every position"
   ]
  },
  {
   "cell_type": "markdown",
   "id": "6aabd050-1383-4d4d-b36d-6923adb4ccec",
   "metadata": {},
   "source": [
    "### Repeat row for every position in the protein sequence"
   ]
  },
  {
   "cell_type": "code",
   "execution_count": null,
   "id": "97c7a524-3829-41f7-a313-83f898489f78",
   "metadata": {
    "tags": []
   },
   "outputs": [],
   "source": [
    "# Select WT nucleotide sequence(s)\n",
    "WTdf = s_wide[s_wide.Nham_nt == 0]\n",
    "\n",
    "# Get length of protein sequence\n",
    "WTdf['len_aa'] = WTdf.aa_seq.apply(lambda x: len(x))\n",
    "\n",
    "# Create list of positions for every sequence\n",
    "WTdf['pos'] = WTdf.len_aa.apply(lambda x: np.arange(x))\n",
    "\n",
    "# Same with WT codons (list of codons at every matching position)\n",
    "WTdf['alt_codons'] = WTdf.nt_seq.apply(lambda x: [x[i:i+3] for i in range(0, len(x), 3)])\n",
    "\n",
    "# Same with WT amino acid\n",
    "WTdf['alt_aa'] = WTdf.aa_seq.apply(lambda x: [y for y in x])\n",
    "\n",
    "# Then we use explode to turn horizontal lists into rows with matching values for all 3 columns\n",
    "WTdf = WTdf.explode(['pos','alt_codons','alt_aa'])\n",
    "WTdf"
   ]
  },
  {
   "cell_type": "markdown",
   "id": "150ffd26-0ee3-42c5-b25b-558ab8b52d1f",
   "metadata": {},
   "source": [
    "### Get non-WT"
   ]
  },
  {
   "cell_type": "code",
   "execution_count": null,
   "id": "025749df-8539-4ce2-ad3e-42b1d1afcef2",
   "metadata": {
    "tags": []
   },
   "outputs": [],
   "source": [
    "# In this step we need to cast the dtype of pos and aa_pos\n",
    "# which we could not do before because the WT rows feature string values (\"non-applicable\")\n",
    "nonWT = s_wide[s_wide.Nham_nt > 0]\n",
    "nonWT[['pos','aa_pos']] = nonWT[['pos','aa_pos']].astype(int)"
   ]
  },
  {
   "cell_type": "markdown",
   "id": "8baf2fa5-cb7c-4c57-bcf6-e9963799cca4",
   "metadata": {},
   "source": [
    "### Retrieve position offset (position in the full protein sequence)"
   ]
  },
  {
   "cell_type": "code",
   "execution_count": null,
   "id": "46b179ed-f244-4984-a0ca-4bea41cbacd2",
   "metadata": {},
   "outputs": [],
   "source": [
    "offpos = nonWT.groupby(sample_attributes)[['pos','aa_pos']].min()\n",
    "\n",
    "if offpos.pos.sum() == 0:\n",
    "    WTdf = pd.merge(left=WTdf.drop(columns='aa_pos'), right=offpos[['aa_pos']].reset_index(), on=sample_attributes)\n",
    "else:\n",
    "    print('There is at least one case where there is no sequenced mutant at position 0, which prevents from retrieving the start position in the full protein sequence (min aa_pos)')\n",
    "\n",
    "WTdf['aa_pos'] += WTdf['pos']\n",
    "WTdf"
   ]
  },
  {
   "cell_type": "code",
   "execution_count": null,
   "id": "5f3baec6-fa05-4394-a0be-399ec8b36e83",
   "metadata": {
    "tags": []
   },
   "outputs": [],
   "source": [
    "allpos_df = pd.concat([WTdf, nonWT], ignore_index=True)\n",
    "allpos_df"
   ]
  },
  {
   "cell_type": "markdown",
   "id": "2b002b5e-8293-4309-a6d9-9d39e3a1abb8",
   "metadata": {},
   "source": [
    "## Calculate median selection coefficient (over synonymous mutants)"
   ]
  },
  {
   "cell_type": "code",
   "execution_count": null,
   "id": "d91046be-dd39-4801-ac2c-003c0fe089fe",
   "metadata": {
    "tags": []
   },
   "outputs": [],
   "source": [
    "median_df = allpos_df.groupby(sample_attributes+['Replicate','aa_pos','alt_aa']\n",
    "                          )[selcoeff_cols + ['confidence_score', 'Nham_aa', 'mutation_type']\n",
    "                           ].agg(dict(zip(selcoeff_cols + ['confidence_score', 'Nham_aa', 'mutation_type'],\n",
    "                                          ['median']*len(selcoeff_cols) + ['min', 'first', 'first']))\n",
    "                                ).reset_index(level=['aa_pos','alt_aa'])\n",
    "median_df"
   ]
  },
  {
   "cell_type": "code",
   "execution_count": null,
   "id": "015bdbdf-5562-4c15-8ab4-d4d2c97829ad",
   "metadata": {
    "tags": []
   },
   "outputs": [],
   "source": [
    "median_df.to_csv(selcoeffs_df_path)"
   ]
  },
  {
   "cell_type": "code",
   "execution_count": null,
   "id": "7bbdcfa1-58aa-493d-8c26-e7b6315bfe00",
   "metadata": {
    "tags": []
   },
   "outputs": [],
   "source": [
    "median_df.index[0]"
   ]
  },
  {
   "cell_type": "markdown",
   "id": "f574adad-50a4-49ca-81b0-3eaf792736b4",
   "metadata": {},
   "source": [
    "## Plot example of correlation between compared timepoints"
   ]
  },
  {
   "cell_type": "code",
   "execution_count": null,
   "id": "cd5369ea-2563-484c-8fcc-b2e162fb3db0",
   "metadata": {
    "tags": []
   },
   "outputs": [],
   "source": [
    "dataset1_r1 = median_df.index[0]\n",
    "graphdf = median_df.loc[dataset1_r1].reset_index()\n",
    "g = sns.pairplot(graphdf, vars=selcoeff_cols,\n",
    "             hue='confidence_score', hue_order=cscores, palette=dict(zip(cscores, cscore_colors)),\n",
    "             plot_kws={'s':8, 'alpha':.2},\n",
    "             height=1.5, corner=True)\n",
    "g.tight_layout()\n",
    "plt.savefig(timepoints_plot, format='svg', dpi=300)"
   ]
  },
  {
   "cell_type": "markdown",
   "id": "c7c6b93d-5966-4f4c-9f1f-83864da9ab66",
   "metadata": {},
   "source": [
    "## Plot overall distribution of selection coefficients"
   ]
  },
  {
   "cell_type": "code",
   "execution_count": null,
   "id": "c8006eed-960c-49e5-9f1a-f842010e23ad",
   "metadata": {
    "tags": []
   },
   "outputs": [],
   "source": [
    "mutation_attributes_aa = ['aa_pos','alt_aa','Nham_aa','mutation_type']\n",
    "median_long = median_df.melt(id_vars=mutation_attributes_aa,\n",
    "                        value_vars=selcoeff_cols, var_name='Compared timepoints',\n",
    "                        value_name='s', ignore_index=False).reset_index()\n",
    "median_long"
   ]
  },
  {
   "cell_type": "code",
   "execution_count": null,
   "id": "40c910d2-f3ef-49f7-994d-6eca602e53b7",
   "metadata": {},
   "outputs": [],
   "source": [
    "median_long['Sample attributes'] = median_long[sample_attributes].agg(' | '.join, axis=1)\n",
    "labels = median_long['Sample attributes'].unique()\n",
    "median_long['Compared timepoints'] = median_long['Compared timepoints'].apply(lambda x: x.split('_')[1])"
   ]
  },
  {
   "cell_type": "code",
   "execution_count": null,
   "id": "9174e7b4-f271-42e1-9236-15905d58e178",
   "metadata": {
    "tags": []
   },
   "outputs": [],
   "source": [
    "g = sns.catplot(median_long, x='Sample attributes', y='s',\n",
    "                row='Compared timepoints', row_order=timepoints[1:],\n",
    "                hue='Replicate', palette='hls', split=True,\n",
    "                kind='violin', cut=0, linewidth=1, inner='quart',\n",
    "                height=2, aspect=.8*len(labels)\n",
    "               )\n",
    "\n",
    "g.set_axis_labels('','s')\n",
    "g.set_titles(row_template='{row_name}')\n",
    "g.set_xticklabels(labels, rotation=45, ha='right')\n",
    "g.tight_layout()\n",
    "plt.savefig(scoeff_violin_plot, format='svg', dpi=300)"
   ]
  },
  {
   "cell_type": "markdown",
   "id": "208f14ce-f58c-4454-bafc-09bab55e9dca",
   "metadata": {},
   "source": [
    "## Plot selection through time"
   ]
  },
  {
   "cell_type": "code",
   "execution_count": null,
   "id": "2b32b724-e1be-4772-a654-51284d120f31",
   "metadata": {
    "tags": []
   },
   "outputs": [],
   "source": [
    "median_long.groupby(['Sample attributes','Replicate','mutation_type','Compared timepoints'])[['s']].describe()"
   ]
  },
  {
   "cell_type": "code",
   "execution_count": null,
   "id": "c6b4736e-4521-40e4-9d19-226312b1dd5f",
   "metadata": {
    "tags": []
   },
   "outputs": [],
   "source": [
    "g = sns.relplot(data=median_long, x='Compared timepoints', y='s',\n",
    "                col='Sample attributes', col_wrap=3,\n",
    "                hue='mutation_type', palette='hls',\n",
    "                style='Replicate',\n",
    "                kind='line', markers=True, errorbar='sd',\n",
    "                height=1.5)\n",
    "g.set(xlabel='')\n",
    "g.set_titles(col_template='{col_name}')\n",
    "plt.savefig(s_through_time_plot, format='svg', dpi=300)"
   ]
  },
  {
   "cell_type": "markdown",
   "id": "a2cbdafc-635a-4a86-a1f8-395a84bfbbcc",
   "metadata": {},
   "source": [
    "## Show correlation between first two replicates"
   ]
  },
  {
   "cell_type": "code",
   "execution_count": null,
   "id": "b790a885-e2df-4fc7-93b1-b8bb88baa5a3",
   "metadata": {
    "tags": []
   },
   "outputs": [],
   "source": [
    "graphdf = median_long.pivot(index=mutation_attributes_aa+['Sample attributes','Compared timepoints'],\n",
    "                            columns='Replicate',\n",
    "                            values='s').reset_index()\n",
    "firstTwoReplicates = median_long.Replicate.unique()[:2]\n",
    "\n",
    "g = sns.lmplot(graphdf, x=firstTwoReplicates[0], y=firstTwoReplicates[1],\n",
    "               col='Sample attributes', col_wrap=3,\n",
    "               hue='Compared timepoints', palette='mako',\n",
    "               height=1.5, scatter_kws={'s':8,'alpha':.2})\n",
    "g.set_titles(col_template='{col_name}')\n",
    "plt.savefig(replicates_plot, format='svg', dpi=300)"
   ]
  },
  {
   "cell_type": "code",
   "execution_count": null,
   "id": "b010577a-35b1-4033-a2bb-3cacef86c43e",
   "metadata": {},
   "outputs": [],
   "source": []
  }
 ],
 "metadata": {
  "kernelspec": {
   "display_name": "Python 3 (ipykernel)",
   "language": "python",
   "name": "python3"
  },
  "language_info": {
   "codemirror_mode": {
    "name": "ipython",
    "version": 3
   },
   "file_extension": ".py",
   "mimetype": "text/x-python",
   "name": "python",
   "nbconvert_exporter": "python",
   "pygments_lexer": "ipython3",
   "version": "3.11.10"
  }
 },
 "nbformat": 4,
 "nbformat_minor": 5
}
